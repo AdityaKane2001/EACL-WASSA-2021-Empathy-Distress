{
 "cells": [
  {
   "cell_type": "code",
   "execution_count": 30,
   "metadata": {},
   "outputs": [],
   "source": [
    "import sys\n",
    "sys.path.append('../')"
   ]
  },
  {
   "cell_type": "code",
   "execution_count": 31,
   "metadata": {},
   "outputs": [],
   "source": [
    "from utils.utils import Utils\n",
    "from utils.preprocess import Preprocess\n",
    "from scipy.stats import pearsonr\n",
    "from sklearn.preprocessing import MinMaxScaler, StandardScaler, LabelEncoder, OneHotEncoder\n",
    "from textblob import TextBlob\n",
    "\n",
    "import numpy as np\n",
    "import pandas as pd"
   ]
  },
  {
   "cell_type": "code",
   "execution_count": 32,
   "metadata": {},
   "outputs": [
    {
     "name": "stdout",
     "output_type": "stream",
     "text": [
      "CPU times: user 2.9 s, sys: 80 ms, total: 2.98 s\n",
      "Wall time: 2.99 s\n"
     ]
    }
   ],
   "source": [
    "%%time\n",
    "utils = Utils()\n",
    "pre = Preprocess(mode=\"clean\")"
   ]
  },
  {
   "cell_type": "code",
   "execution_count": 42,
   "metadata": {},
   "outputs": [
    {
     "data": {
      "text/plain": [
       "23"
      ]
     },
     "execution_count": 42,
     "metadata": {},
     "output_type": "execute_result"
    }
   ],
   "source": [
    "columns = ['message_id', 'response_id', 'article_id', 'gold_empathy', 'gold_empathy_bin', 'gold_distress', 'gold_distress_bin', 'gold_emotion', 'essay', 'gender', 'education', 'race', 'age', 'income', 'personality_conscientiousness', 'personality_openess', 'personality_extraversion', 'personality_agreeableness', 'personality_stability', 'iri_perspective_taking', 'iri_personal_distress', 'iri_fantasy', 'iri_empathatic_concern']\n",
    "len(columns)"
   ]
  },
  {
   "cell_type": "code",
   "execution_count": 43,
   "metadata": {},
   "outputs": [
    {
     "name": "stdout",
     "output_type": "stream",
     "text": [
      "(1860, 23)\n",
      "(270, 23)\n",
      "CPU times: user 118 ms, sys: 8.12 ms, total: 126 ms\n",
      "Wall time: 124 ms\n"
     ]
    }
   ],
   "source": [
    "%%time\n",
    "train_data = pd.read_csv(\"../dataset/train-final.csv\", usecols=columns)\n",
    "print(train_data.shape)\n",
    "dev_data = pd.read_csv(\"../dataset/dev-final.csv\", usecols=columns)\n",
    "print(dev_data.shape)"
   ]
  },
  {
   "cell_type": "code",
   "execution_count": 37,
   "metadata": {},
   "outputs": [
    {
     "data": {
      "text/plain": [
       "28"
      ]
     },
     "execution_count": 37,
     "metadata": {},
     "output_type": "execute_result"
    }
   ],
   "source": [
    "train_gold = pd.read_csv(\"\")"
   ]
  },
  {
   "cell_type": "code",
   "execution_count": null,
   "metadata": {},
   "outputs": [],
   "source": [
    "train_data = train_data[]"
   ]
  },
  {
   "cell_type": "code",
   "execution_count": 6,
   "metadata": {},
   "outputs": [],
   "source": [
    "def categorize_income(income):\n",
    "    if income >0 and income <=25000:\n",
    "        return 0\n",
    "    elif income >25000 and income <=75000:\n",
    "        return 1\n",
    "    elif income >75000:\n",
    "        return 2"
   ]
  },
  {
   "cell_type": "code",
   "execution_count": 7,
   "metadata": {},
   "outputs": [],
   "source": [
    "train_data['age_bin'] = train_data.age.apply(lambda x: utils.categorize_age(x))\n",
    "dev_data['age_bin'] = dev_data.age.apply(lambda x: utils.categorize_age(x))"
   ]
  },
  {
   "cell_type": "code",
   "execution_count": 8,
   "metadata": {},
   "outputs": [],
   "source": [
    "train_data['income_bin'] = train_data.income.apply(lambda x: categorize_income(x))\n",
    "dev_data['income_bin'] = dev_data.income.apply(lambda x: categorize_income(x))"
   ]
  },
  {
   "cell_type": "code",
   "execution_count": 9,
   "metadata": {},
   "outputs": [
    {
     "data": {
      "text/plain": [
       "sadness     353\n",
       "anger       161\n",
       "neutral     123\n",
       "fear         95\n",
       "disgust      84\n",
       "surprise     63\n",
       "joy          26\n",
       "Name: gold_emotion, dtype: int64"
      ]
     },
     "execution_count": 9,
     "metadata": {},
     "output_type": "execute_result"
    }
   ],
   "source": [
    "train_data[train_data.gold_distress_bin == 1].gold_emotion.value_counts()"
   ]
  },
  {
   "cell_type": "code",
   "execution_count": 10,
   "metadata": {},
   "outputs": [],
   "source": [
    "train_empathy = train_data.gold_empathy.values.tolist()\n",
    "dev_empathy = dev_data.gold_empathy.values.tolist()"
   ]
  },
  {
   "cell_type": "code",
   "execution_count": 11,
   "metadata": {},
   "outputs": [],
   "source": [
    "train_distress = train_data.gold_distress.values.tolist()\n",
    "dev_distress = dev_data.gold_distress.values.tolist()"
   ]
  },
  {
   "cell_type": "code",
   "execution_count": 12,
   "metadata": {},
   "outputs": [],
   "source": [
    "# ----------------------------------- Function to get word emotion and vad scores -----------------------------------\n",
    "            \n",
    "def get_word_scores(sentiment='anger'):\n",
    "    path = \"../resources/NRC-resources/\"+sentiment+\"-scores.txt\"\n",
    "    word_scores = {}\n",
    "    with open(path) as f:\n",
    "        data = f.readlines()\n",
    "        for row in data:\n",
    "            row = row.split(\"\\t\")\n",
    "            row[1] = row[1].split(\"\\n\")\n",
    "            word_scores[row[0]] = row[1][0]\n",
    "    f.close()\n",
    "    return word_scores"
   ]
  },
  {
   "cell_type": "code",
   "execution_count": 13,
   "metadata": {},
   "outputs": [],
   "source": [
    "# -------------------------------------------- Function to get essay emotion and vad scores --------------------------------------------\n",
    "    \n",
    "def get_essay_nrc_scores(essay, nrc_features, normalize=False):\n",
    "    word_scores_list = []\n",
    "    for element in nrc_features:\n",
    "        word_scores = get_word_scores(element)\n",
    "        word_scores_list.append(word_scores)\n",
    "    essay_scores = np.zeros((len(essay), len(word_scores_list)))\n",
    "\n",
    "    for i in range(len(essay)):        \n",
    "        for j in range(len(word_scores_list)):\n",
    "            score = 0\n",
    "            cnt = 0\n",
    "            for word in essay[i].split():\n",
    "                if word in word_scores_list[j].keys():\n",
    "                    cnt = cnt = 1\n",
    "                    score = score + float(word_scores_list[j].get(word))\n",
    "            essay_scores[i][j] = score\n",
    "\n",
    "    return essay_scores"
   ]
  },
  {
   "cell_type": "code",
   "execution_count": 15,
   "metadata": {},
   "outputs": [],
   "source": [
    "def column(matrix, i):\n",
    "    return [row[i] for row in matrix]"
   ]
  },
  {
   "cell_type": "markdown",
   "metadata": {},
   "source": [
    "# Polarity and Subjectivity Correlation"
   ]
  },
  {
   "cell_type": "code",
   "execution_count": 16,
   "metadata": {},
   "outputs": [
    {
     "name": "stdout",
     "output_type": "stream",
     "text": [
      "(1860, 2)\n",
      "(270, 2)\n"
     ]
    }
   ],
   "source": [
    "train_pol_sub_score = [TextBlob(text).sentiment[0:] for text in train_data.essay.values.tolist()]\n",
    "train_pol_sub_score = np.reshape(train_pol_sub_score, (len(train_pol_sub_score), len(train_pol_sub_score[0])))\n",
    "print(train_pol_sub_score.shape)\n",
    "\n",
    "dev_pol_sub_score = [TextBlob(text).sentiment[0:] for text in dev_data.essay.values.tolist()]\n",
    "dev_pol_sub_score = np.reshape(dev_pol_sub_score, (len(dev_pol_sub_score), len(dev_pol_sub_score[0])))\n",
    "print(dev_pol_sub_score.shape)"
   ]
  },
  {
   "cell_type": "code",
   "execution_count": 17,
   "metadata": {},
   "outputs": [
    {
     "name": "stdout",
     "output_type": "stream",
     "text": [
      "\n",
      "Empathy Correlation with Training Data: \n",
      "\n",
      "correlation: (0.00389210599831934, 0.866783546646021)\n",
      "correlation: (-0.004917572529348033, 0.8321519825511748)\n",
      "\n",
      "Empathy Correlation with Dev Data: \n",
      "\n",
      "correlation: (-0.08488273878797196, 0.1642842771437893)\n",
      "correlation: (0.08407187709229258, 0.16836621527448983)\n"
     ]
    }
   ],
   "source": [
    "print(\"\\nEmpathy Correlation with Training Data: \\n\")\n",
    "for i in range(train_pol_sub_score.shape[1]):\n",
    "    print(\"correlation: {}\".format(pearsonr(column(train_pol_sub_score, i), train_empathy)))\n",
    "\n",
    "print(\"\\nEmpathy Correlation with Dev Data: \\n\")\n",
    "for i in range(dev_pol_sub_score.shape[1]):\n",
    "    print(\"correlation: {}\".format(pearsonr(column(dev_pol_sub_score, i), dev_empathy)))"
   ]
  },
  {
   "cell_type": "code",
   "execution_count": 18,
   "metadata": {},
   "outputs": [
    {
     "name": "stdout",
     "output_type": "stream",
     "text": [
      "\n",
      "Distress Correlation with Training Data: \n",
      "\n",
      "correlation: (-0.12335056260856325, 9.468298582176119e-08)\n",
      "correlation: (0.018079898334861736, 0.43581228877306216)\n",
      "\n",
      "Distress Correlation with Dev Data: \n",
      "\n",
      "correlation: (-0.1926336062066933, 0.0014704774194548625)\n",
      "correlation: (0.13647598422513407, 0.024920801710967763)\n"
     ]
    }
   ],
   "source": [
    "print(\"\\nDistress Correlation with Training Data: \\n\")\n",
    "for i in range(train_pol_sub_score.shape[1]):\n",
    "    print(\"correlation: {}\".format(pearsonr(column(train_pol_sub_score, i), train_distress)))\n",
    "\n",
    "print(\"\\nDistress Correlation with Dev Data: \\n\")\n",
    "for i in range(dev_pol_sub_score.shape[1]):\n",
    "    print(\"correlation: {}\".format(pearsonr(column(dev_pol_sub_score, i), dev_distress)))"
   ]
  },
  {
   "cell_type": "markdown",
   "metadata": {},
   "source": [
    "# NRC features"
   ]
  },
  {
   "cell_type": "code",
   "execution_count": 19,
   "metadata": {},
   "outputs": [],
   "source": [
    "def get_feature_correlation(feature_list, train_empathy, dev_empathy, train_df, dev_df, remove_stopwords=False, lemmatize=False):\n",
    "    scaler = StandardScaler()\n",
    "    \n",
    "    train_essay = [pre.clean_text(text, remove_stopwords=remove_stopwords, lemmatize=lemmatize) for text in train_df.essay.values.tolist()]\n",
    "    train_emotion_scores = get_essay_nrc_scores(train_essay,\n",
    "                                                feature_list, \n",
    "                                                normalize=False)\n",
    "    train_emotion_scores = scaler.fit_transform(train_emotion_scores)\n",
    "    \n",
    "    print(\"\\nResult on Training Data: \")\n",
    "    for i in range(train_emotion_scores.shape[1]):\n",
    "        print(\"NRC feature {} correlation: {}\".format(feature_list[i], \n",
    "                                                      pearsonr(column(train_emotion_scores, i), train_empathy)))\n",
    "    \n",
    "    dev_essay = [pre.clean_text(text, remove_stopwords=remove_stopwords, lemmatize=lemmatize) for text in dev_df.essay.values.tolist()]\n",
    "    dev_emotion_scores = get_essay_nrc_scores(dev_essay,\n",
    "                                              feature_list, \n",
    "                                              normalize=False)\n",
    "    dev_emotion_scores = scaler.transform(dev_emotion_scores)\n",
    "    print(\"\\nResult on Dev Data: \")\n",
    "    for i in range(dev_emotion_scores.shape[1]):\n",
    "        print(\"NRC feature {} correlation: {}\".format(feature_list[i],\n",
    "                                                      pearsonr(column(dev_emotion_scores, i), dev_empathy)))"
   ]
  },
  {
   "cell_type": "code",
   "execution_count": 20,
   "metadata": {},
   "outputs": [],
   "source": [
    "nrc_features = ['anger', \n",
    "                'anticipation',\n",
    "                'disgust',\n",
    "                'fear',\n",
    "                'joy',\n",
    "                'sadness',\n",
    "                'surprise',\n",
    "                'trust',\n",
    "                'valence',\n",
    "                'arousal',\n",
    "                'dominance']"
   ]
  },
  {
   "cell_type": "markdown",
   "metadata": {},
   "source": [
    "# Empathy Correlation with NRC features"
   ]
  },
  {
   "cell_type": "code",
   "execution_count": 21,
   "metadata": {},
   "outputs": [
    {
     "name": "stdout",
     "output_type": "stream",
     "text": [
      "\n",
      "Result on Training Data: \n",
      "NRC feature anger correlation: (0.03519546491704102, 0.12917840725953858)\n",
      "NRC feature anticipation correlation: (0.04855615947291328, 0.03626499794891488)\n",
      "NRC feature disgust correlation: (0.03374312719421774, 0.14575233699284404)\n",
      "NRC feature fear correlation: (0.11529751923632318, 6.17023657049862e-07)\n",
      "NRC feature joy correlation: (0.12350147220368538, 9.130842900773421e-08)\n",
      "NRC feature sadness correlation: (0.18750409649239852, 3.5323211326586747e-16)\n",
      "NRC feature surprise correlation: (-0.023379658509559482, 0.31356431158103415)\n",
      "NRC feature trust correlation: (0.03246616708188888, 0.1616273382459173)\n",
      "NRC feature valence correlation: (0.1132201738225091, 9.810939223932556e-07)\n",
      "NRC feature arousal correlation: (0.10828796224764228, 2.8569748302895547e-06)\n",
      "NRC feature dominance correlation: (0.10395695970475859, 7.0362391753387335e-06)\n",
      "\n",
      "Result on Dev Data: \n",
      "NRC feature anger correlation: (0.024186977842458837, 0.6923657590680352)\n",
      "NRC feature anticipation correlation: (0.035299237010777876, 0.5635918590992625)\n",
      "NRC feature disgust correlation: (0.010800201740453036, 0.8597855003268254)\n",
      "NRC feature fear correlation: (0.13589408208923578, 0.02555051200929805)\n",
      "NRC feature joy correlation: (0.21769630807115556, 0.0003135545508441484)\n",
      "NRC feature sadness correlation: (0.20202262594937262, 0.0008418356864087696)\n",
      "NRC feature surprise correlation: (0.09524815413777282, 0.11843472558749453)\n",
      "NRC feature trust correlation: (0.1332506876604131, 0.02858629142300453)\n",
      "NRC feature valence correlation: (0.17910575507746482, 0.003144257677555281)\n",
      "NRC feature arousal correlation: (0.17730477520077834, 0.0034657335547976804)\n",
      "NRC feature dominance correlation: (0.16536493119652454, 0.006461549946190909)\n"
     ]
    }
   ],
   "source": [
    "get_feature_correlation(nrc_features,\n",
    "                        train_empathy,\n",
    "                        dev_empathy,\n",
    "                        train_data,\n",
    "                        dev_data,\n",
    "                        remove_stopwords=False,\n",
    "                        lemmatize=False)"
   ]
  },
  {
   "cell_type": "markdown",
   "metadata": {},
   "source": [
    "# Distress Correlation with NRC features"
   ]
  },
  {
   "cell_type": "code",
   "execution_count": 22,
   "metadata": {},
   "outputs": [
    {
     "name": "stdout",
     "output_type": "stream",
     "text": [
      "\n",
      "Result on Training Data: \n",
      "NRC feature anger correlation: (0.15769918055900028, 7.948622968698792e-12)\n",
      "NRC feature anticipation correlation: (0.048901341896994126, 0.034957777249386694)\n",
      "NRC feature disgust correlation: (0.14563771199062264, 2.781850737936384e-10)\n",
      "NRC feature fear correlation: (0.2152478815447958, 6.164474907658634e-21)\n",
      "NRC feature joy correlation: (0.018120403529394882, 0.43478461272636293)\n",
      "NRC feature sadness correlation: (0.20203771193252357, 1.3871719196226824e-18)\n",
      "NRC feature surprise correlation: (0.002190605777983197, 0.9247815433649075)\n",
      "NRC feature trust correlation: (0.044911928324245405, 0.052791317893546526)\n",
      "NRC feature valence correlation: (0.0889515526390839, 0.0001223769943598398)\n",
      "NRC feature arousal correlation: (0.15344894073077817, 2.873909888717811e-11)\n",
      "NRC feature dominance correlation: (0.12388119389289999, 8.332394455680527e-08)\n",
      "\n",
      "Result on Dev Data: \n",
      "NRC feature anger correlation: (0.24162105209629256, 6.0356117685540976e-05)\n",
      "NRC feature anticipation correlation: (0.05478029971498155, 0.3699166739527199)\n",
      "NRC feature disgust correlation: (0.1497784239296376, 0.013754761741911835)\n",
      "NRC feature fear correlation: (0.2854757897340054, 1.8543030563616232e-06)\n",
      "NRC feature joy correlation: (0.04735471378141639, 0.438373863151666)\n",
      "NRC feature sadness correlation: (0.18392859325461197, 0.002412060591384987)\n",
      "NRC feature surprise correlation: (0.041653516219543746, 0.49551878463899446)\n",
      "NRC feature trust correlation: (0.05754628590439933, 0.34620504664576657)\n",
      "NRC feature valence correlation: (0.0020527516383208066, 0.9732170989846909)\n",
      "NRC feature arousal correlation: (0.11166707550178133, 0.06693676564430391)\n",
      "NRC feature dominance correlation: (0.05410175202141845, 0.37588337161025104)\n"
     ]
    }
   ],
   "source": [
    "get_feature_correlation(nrc_features,\n",
    "                        train_distress,\n",
    "                        dev_distress,\n",
    "                        train_data,\n",
    "                        dev_data,\n",
    "                        remove_stopwords=False,\n",
    "                        lemmatize=False)"
   ]
  },
  {
   "cell_type": "markdown",
   "metadata": {},
   "source": [
    "# IRI and Personality Features"
   ]
  },
  {
   "cell_type": "code",
   "execution_count": 23,
   "metadata": {},
   "outputs": [],
   "source": [
    "iri_features = ['iri_perspective_taking', 'iri_personal_distress', 'iri_fantasy', 'iri_empathatic_concern']\n",
    "personality_features = ['personality_conscientiousness', 'personality_openess', 'personality_extraversion', 'personality_agreeableness', 'personality_stability']"
   ]
  },
  {
   "cell_type": "code",
   "execution_count": 24,
   "metadata": {},
   "outputs": [
    {
     "name": "stdout",
     "output_type": "stream",
     "text": [
      "(1860, 4)\n",
      "(270, 4)\n"
     ]
    }
   ],
   "source": [
    "train_iri = train_data[iri_features].values\n",
    "print(train_iri.shape)\n",
    "\n",
    "dev_iri = dev_data[iri_features].values\n",
    "print(dev_iri.shape)"
   ]
  },
  {
   "cell_type": "code",
   "execution_count": 25,
   "metadata": {},
   "outputs": [
    {
     "name": "stdout",
     "output_type": "stream",
     "text": [
      "(1860, 5)\n",
      "(270, 5)\n"
     ]
    }
   ],
   "source": [
    "train_personality = train_data[personality_features].values\n",
    "print(train_personality.shape)\n",
    "\n",
    "dev_personality = dev_data[personality_features].values\n",
    "print(dev_personality.shape)"
   ]
  },
  {
   "cell_type": "markdown",
   "metadata": {},
   "source": [
    "# Empathy Correlation with IRI Features"
   ]
  },
  {
   "cell_type": "code",
   "execution_count": 26,
   "metadata": {},
   "outputs": [
    {
     "name": "stdout",
     "output_type": "stream",
     "text": [
      "\n",
      "Empathy correlation on Training Data: \n",
      "\n",
      "NRC feature iri_perspective_taking correlation: (0.22856663040279532, 1.8023870796887119e-23)\n",
      "NRC feature iri_personal_distress correlation: (0.005806115549177553, 0.8024030801218004)\n",
      "NRC feature iri_fantasy correlation: (0.16171192259347203, 2.2863423583074164e-12)\n",
      "NRC feature iri_empathatic_concern correlation: (0.2993633343983349, 8.080200148943306e-40)\n",
      "\n",
      "Empathy correlation on Dev Data: \n",
      "\n",
      "NRC feature iri_perspective_taking correlation: (0.202989418359576, 0.0007937146200273498)\n",
      "NRC feature iri_personal_distress correlation: (0.04738842311180669, 0.43804758577495945)\n",
      "NRC feature iri_fantasy correlation: (0.15504622031303647, 0.010732314263238226)\n",
      "NRC feature iri_empathatic_concern correlation: (0.24955210765314614, 3.363615805989282e-05)\n"
     ]
    }
   ],
   "source": [
    "print(\"\\nEmpathy correlation on Training Data: \\n\")\n",
    "for i in range(train_iri.shape[1]):\n",
    "    print(\"NRC feature {} correlation: {}\".format(iri_features[i], \n",
    "                                                  pearsonr(column(train_iri, i), train_empathy)))\n",
    "    \n",
    "print(\"\\nEmpathy correlation on Dev Data: \\n\")\n",
    "for i in range(dev_iri.shape[1]):\n",
    "    print(\"NRC feature {} correlation: {}\".format(iri_features[i], \n",
    "                                                  pearsonr(column(dev_iri, i), dev_empathy)))"
   ]
  },
  {
   "cell_type": "markdown",
   "metadata": {},
   "source": [
    "# Empathy Correlation with Big5 Features"
   ]
  },
  {
   "cell_type": "code",
   "execution_count": 27,
   "metadata": {},
   "outputs": [
    {
     "name": "stdout",
     "output_type": "stream",
     "text": [
      "\n",
      "Empathy correlation on Training Data: \n",
      "\n",
      "NRC feature personality_conscientiousness correlation: (0.09263106209527383, 6.31060186467026e-05)\n",
      "NRC feature personality_openess correlation: (0.11377269271127469, 8.679270957892684e-07)\n",
      "NRC feature personality_extraversion correlation: (0.20902561681934412, 8.272935808223537e-20)\n",
      "NRC feature personality_agreeableness correlation: (0.24325722930340982, 1.8525600705176216e-26)\n",
      "NRC feature personality_stability correlation: (0.1037886896228663, 7.281898804278378e-06)\n",
      "\n",
      "Empathy correlation on Dev Data: \n",
      "\n",
      "NRC feature personality_conscientiousness correlation: (0.05585836172304273, 0.36055805782871764)\n",
      "NRC feature personality_openess correlation: (0.20788348445686353, 0.0005867699857419374)\n",
      "NRC feature personality_extraversion correlation: (-0.07142000579522055, 0.24216201875575047)\n",
      "NRC feature personality_agreeableness correlation: (0.2388727885280508, 7.357726509917349e-05)\n",
      "NRC feature personality_stability correlation: (-0.07024350772260109, 0.25002650995227754)\n"
     ]
    }
   ],
   "source": [
    "print(\"\\nEmpathy correlation on Training Data: \\n\")\n",
    "for i in range(train_personality.shape[1]):\n",
    "    print(\"NRC feature {} correlation: {}\".format(personality_features[i], \n",
    "                                                  pearsonr(column(train_personality, i), train_empathy)))\n",
    "    \n",
    "print(\"\\nEmpathy correlation on Dev Data: \\n\")\n",
    "for i in range(dev_personality.shape[1]):\n",
    "    print(\"NRC feature {} correlation: {}\".format(personality_features[i], \n",
    "                                                  pearsonr(column(dev_personality, i), dev_empathy)))"
   ]
  },
  {
   "cell_type": "markdown",
   "metadata": {},
   "source": [
    "# Distress Correlation with IRI Features"
   ]
  },
  {
   "cell_type": "code",
   "execution_count": 28,
   "metadata": {},
   "outputs": [
    {
     "name": "stdout",
     "output_type": "stream",
     "text": [
      "\n",
      "Distress correlation on Training Data: \n",
      "\n",
      "NRC feature iri_perspective_taking correlation: (0.12652424670336937, 4.373892590075604e-08)\n",
      "NRC feature iri_personal_distress correlation: (0.18952486622501458, 1.678101271410058e-16)\n",
      "NRC feature iri_fantasy correlation: (0.1205412837507924, 1.84614008033545e-07)\n",
      "NRC feature iri_empathatic_concern correlation: (0.19864478258616805, 5.256970035825554e-18)\n",
      "\n",
      "Distress correlation on Dev Data: \n",
      "\n",
      "NRC feature iri_perspective_taking correlation: (0.17102091893068003, 0.004833700017363015)\n",
      "NRC feature iri_personal_distress correlation: (0.3755251101638157, 1.8084889333538824e-10)\n",
      "NRC feature iri_fantasy correlation: (0.33916964288043544, 1.0801312513148551e-08)\n",
      "NRC feature iri_empathatic_concern correlation: (0.23107911176029347, 0.00012742451421095185)\n"
     ]
    }
   ],
   "source": [
    "print(\"\\nDistress correlation on Training Data: \\n\")\n",
    "for i in range(train_iri.shape[1]):\n",
    "    print(\"NRC feature {} correlation: {}\".format(iri_features[i], \n",
    "                                                  pearsonr(column(train_iri, i), train_distress)))\n",
    "    \n",
    "print(\"\\nDistress correlation on Dev Data: \\n\")\n",
    "for i in range(dev_iri.shape[1]):\n",
    "    print(\"NRC feature {} correlation: {}\".format(iri_features[i], \n",
    "                                                  pearsonr(column(dev_iri, i), dev_distress)))"
   ]
  },
  {
   "cell_type": "markdown",
   "metadata": {},
   "source": [
    "# Distress Correlation with Big5 Features"
   ]
  },
  {
   "cell_type": "code",
   "execution_count": 29,
   "metadata": {},
   "outputs": [
    {
     "name": "stdout",
     "output_type": "stream",
     "text": [
      "\n",
      "Distress correlation on Training Data: \n",
      "\n",
      "NRC feature personality_conscientiousness correlation: (-0.05153061053217745, 0.026257626702303652)\n",
      "NRC feature personality_openess correlation: (0.014207526470026804, 0.5403014682871335)\n",
      "NRC feature personality_extraversion correlation: (0.12405604614928988, 7.98785639534921e-08)\n",
      "NRC feature personality_agreeableness correlation: (0.1265897305069749, 4.303881683442054e-08)\n",
      "NRC feature personality_stability correlation: (-0.0837787455455481, 0.0002979021594045739)\n",
      "\n",
      "Distress correlation on Dev Data: \n",
      "\n",
      "NRC feature personality_conscientiousness correlation: (-0.09324355779674652, 0.12642042352162314)\n",
      "NRC feature personality_openess correlation: (0.10025728826674211, 0.10019756302891678)\n",
      "NRC feature personality_extraversion correlation: (-0.25778449051654345, 1.7957123002921912e-05)\n",
      "NRC feature personality_agreeableness correlation: (0.088025115396524, 0.1491638812272802)\n",
      "NRC feature personality_stability correlation: (-0.35599698930373724, 1.734650639916941e-09)\n"
     ]
    }
   ],
   "source": [
    "print(\"\\nDistress correlation on Training Data: \\n\")\n",
    "for i in range(train_personality.shape[1]):\n",
    "    print(\"NRC feature {} correlation: {}\".format(personality_features[i], \n",
    "                                                  pearsonr(column(train_personality, i), train_distress)))\n",
    "    \n",
    "print(\"\\nDistress correlation on Dev Data: \\n\")\n",
    "for i in range(dev_personality.shape[1]):\n",
    "    print(\"NRC feature {} correlation: {}\".format(personality_features[i], \n",
    "                                                  pearsonr(column(dev_personality, i), dev_distress)))"
   ]
  },
  {
   "cell_type": "markdown",
   "metadata": {},
   "source": [
    "# High Empathy Analysis"
   ]
  },
  {
   "cell_type": "code",
   "execution_count": 51,
   "metadata": {},
   "outputs": [
    {
     "name": "stdout",
     "output_type": "stream",
     "text": [
      "(944, 224)\n",
      "(150, 219)\n"
     ]
    }
   ],
   "source": [
    "he_train_data = train_data[train_data.gold_empathy_bin == 0].copy(deep=True)\n",
    "print(he_train_data.shape)\n",
    "he_dev_data = dev_data[dev_data.gold_empathy_bin == 0].copy(deep=True)\n",
    "print(he_dev_data.shape)\n",
    "\n",
    "he_train_empathy = he_train_data.gold_empathy.values\n",
    "he_dev_empathy = he_dev_data.gold_empathy.values"
   ]
  },
  {
   "cell_type": "code",
   "execution_count": null,
   "metadata": {},
   "outputs": [],
   "source": []
  }
 ],
 "metadata": {
  "kernelspec": {
   "display_name": "Python 3",
   "language": "python",
   "name": "python3"
  },
  "language_info": {
   "codemirror_mode": {
    "name": "ipython",
    "version": 3
   },
   "file_extension": ".py",
   "mimetype": "text/x-python",
   "name": "python",
   "nbconvert_exporter": "python",
   "pygments_lexer": "ipython3",
   "version": "3.8.3"
  }
 },
 "nbformat": 4,
 "nbformat_minor": 4
}
