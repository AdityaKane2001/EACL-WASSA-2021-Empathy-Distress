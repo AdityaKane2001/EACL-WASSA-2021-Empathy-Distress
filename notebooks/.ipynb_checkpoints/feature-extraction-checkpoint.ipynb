{
 "cells": [
  {
   "cell_type": "code",
   "execution_count": 1,
   "metadata": {},
   "outputs": [],
   "source": [
    "import sys\n",
    "sys.path.append('../')"
   ]
  },
  {
   "cell_type": "code",
   "execution_count": 2,
   "metadata": {},
   "outputs": [
    {
     "name": "stderr",
     "output_type": "stream",
     "text": [
      "[nltk_data] Downloading package vader_lexicon to\n",
      "[nltk_data]     /home/eastwind/nltk_data...\n",
      "[nltk_data]   Package vader_lexicon is already up-to-date!\n",
      "[nltk_data] Downloading package stopwords to\n",
      "[nltk_data]     /home/eastwind/nltk_data...\n",
      "[nltk_data]   Package stopwords is already up-to-date!\n",
      "[nltk_data] Downloading package punkt to /home/eastwind/nltk_data...\n",
      "[nltk_data]   Package punkt is already up-to-date!\n",
      "[nltk_data] Downloading package wordnet to /home/eastwind/nltk_data...\n",
      "[nltk_data]   Package wordnet is already up-to-date!\n",
      "[nltk_data] Downloading package words to /home/eastwind/nltk_data...\n",
      "[nltk_data]   Package words is already up-to-date!\n",
      "[nltk_data] Downloading package brown to /home/eastwind/nltk_data...\n",
      "[nltk_data]   Package brown is already up-to-date!\n"
     ]
    }
   ],
   "source": [
    "from utils.utils import Utils\n",
    "from utils.preprocess import Preprocess\n",
    "from scipy.stats import pearsonr\n",
    "from sklearn.preprocessing import MinMaxScaler, StandardScaler, LabelEncoder, OneHotEncoder\n",
    "from textblob import TextBlob\n",
    "\n",
    "import numpy as np\n",
    "import pandas as pd"
   ]
  },
  {
   "cell_type": "code",
   "execution_count": 3,
   "metadata": {},
   "outputs": [
    {
     "name": "stdout",
     "output_type": "stream",
     "text": [
      "CPU times: user 2.98 s, sys: 108 ms, total: 3.09 s\n",
      "Wall time: 3.1 s\n"
     ]
    }
   ],
   "source": [
    "%%time\n",
    "utils = Utils()\n",
    "pre = Preprocess(mode=\"clean\")"
   ]
  },
  {
   "cell_type": "code",
   "execution_count": 39,
   "metadata": {},
   "outputs": [
    {
     "name": "stdout",
     "output_type": "stream",
     "text": [
      "(1860, 224)\n",
      "(270, 219)\n",
      "CPU times: user 98.7 ms, sys: 7.91 ms, total: 107 ms\n",
      "Wall time: 106 ms\n"
     ]
    }
   ],
   "source": [
    "%%time\n",
    "train_data = utils.read_data(\"../dataset/train/train-empathy-distress-prediction-task-normalized-Empath.csv\")\n",
    "print(train_data.shape)\n",
    "dev_data = utils.read_data(\"../dataset/dev/dev-empathy-distress-prediction-task-normalized-Empath.csv\")\n",
    "print(dev_data.shape)"
   ]
  },
  {
   "cell_type": "code",
   "execution_count": 5,
   "metadata": {},
   "outputs": [],
   "source": [
    "def categorize_income(income):\n",
    "    if income >0 and income <=25000:\n",
    "        return 0\n",
    "    elif income >25000 and income <=75000:\n",
    "        return 1\n",
    "    elif income >75000:\n",
    "        return 2"
   ]
  },
  {
   "cell_type": "code",
   "execution_count": 6,
   "metadata": {},
   "outputs": [],
   "source": [
    "train_data['age_bin'] = train_data.age.apply(lambda x: utils.categorize_age(x))\n",
    "dev_data['age_bin'] = dev_data.age.apply(lambda x: utils.categorize_age(x))"
   ]
  },
  {
   "cell_type": "code",
   "execution_count": 7,
   "metadata": {},
   "outputs": [],
   "source": [
    "train_data['income_bin'] = train_data.income.apply(lambda x: categorize_income(x))\n",
    "dev_data['income_bin'] = dev_data.income.apply(lambda x: categorize_income(x))"
   ]
  },
  {
   "cell_type": "code",
   "execution_count": 8,
   "metadata": {},
   "outputs": [
    {
     "data": {
      "text/plain": [
       "sadness     353\n",
       "anger       161\n",
       "neutral     123\n",
       "fear         95\n",
       "disgust      84\n",
       "surprise     63\n",
       "joy          26\n",
       "Name: gold_emotion, dtype: int64"
      ]
     },
     "execution_count": 8,
     "metadata": {},
     "output_type": "execute_result"
    }
   ],
   "source": [
    "train_data[train_data.gold_distress_bin == 1].gold_emotion.value_counts()"
   ]
  },
  {
   "cell_type": "code",
   "execution_count": 9,
   "metadata": {},
   "outputs": [],
   "source": [
    "train_empathy = train_data.gold_empathy.values.tolist()\n",
    "dev_empathy = dev_data.gold_empathy.values.tolist()"
   ]
  },
  {
   "cell_type": "code",
   "execution_count": 10,
   "metadata": {},
   "outputs": [],
   "source": [
    "train_distress = train_data.gold_distress.values.tolist()\n",
    "dev_distress = dev_data.gold_distress.values.tolist()"
   ]
  },
  {
   "cell_type": "code",
   "execution_count": 12,
   "metadata": {},
   "outputs": [],
   "source": [
    "# ----------------------------------- Function to get word emotion and vad scores -----------------------------------\n",
    "            \n",
    "def get_word_scores(sentiment='anger'):\n",
    "    path = \"../resources/NRC-resources/\"+sentiment+\"-scores.txt\"\n",
    "    word_scores = {}\n",
    "    with open(path) as f:\n",
    "        data = f.readlines()\n",
    "        for row in data:\n",
    "            row = row.split(\"\\t\")\n",
    "            row[1] = row[1].split(\"\\n\")\n",
    "            word_scores[row[0]] = row[1][0]\n",
    "    f.close()\n",
    "    return word_scores"
   ]
  },
  {
   "cell_type": "code",
   "execution_count": 13,
   "metadata": {},
   "outputs": [],
   "source": [
    "# -------------------------------------------- Function to get essay emotion and vad scores --------------------------------------------\n",
    "    \n",
    "def get_essay_nrc_scores(essay, nrc_features, normalize=False):\n",
    "    word_scores_list = []\n",
    "    for element in nrc_features:\n",
    "        word_scores = get_word_scores(element)\n",
    "        word_scores_list.append(word_scores)\n",
    "    essay_scores = np.zeros((len(essay), len(word_scores_list)))\n",
    "\n",
    "    for i in range(len(essay)):        \n",
    "        for j in range(len(word_scores_list)):\n",
    "            score = 0\n",
    "            cnt = 0\n",
    "            for word in essay[i].split():\n",
    "                if word in word_scores_list[j].keys():\n",
    "                    cnt = cnt = 1\n",
    "                    score = score + float(word_scores_list[j].get(word))\n",
    "            essay_scores[i][j] = score\n",
    "\n",
    "    return essay_scores"
   ]
  },
  {
   "cell_type": "code",
   "execution_count": 14,
   "metadata": {},
   "outputs": [],
   "source": [
    "def column(matrix, i):\n",
    "    return [row[i] for row in matrix]"
   ]
  },
  {
   "cell_type": "markdown",
   "metadata": {},
   "source": [
    "# Polarity and Subjectivity Correlation"
   ]
  },
  {
   "cell_type": "code",
   "execution_count": 15,
   "metadata": {},
   "outputs": [
    {
     "name": "stdout",
     "output_type": "stream",
     "text": [
      "(1860, 2)\n",
      "(270, 2)\n"
     ]
    }
   ],
   "source": [
    "train_pol_sub_score = [TextBlob(text).sentiment[0:] for text in train_data.essay.values.tolist()]\n",
    "train_pol_sub_score = np.reshape(train_pol_sub_score, (len(train_pol_sub_score), len(train_pol_sub_score[0])))\n",
    "print(train_pol_sub_score.shape)\n",
    "\n",
    "dev_pol_sub_score = [TextBlob(text).sentiment[0:] for text in dev_data.essay.values.tolist()]\n",
    "dev_pol_sub_score = np.reshape(dev_pol_sub_score, (len(dev_pol_sub_score), len(dev_pol_sub_score[0])))\n",
    "print(dev_pol_sub_score.shape)"
   ]
  },
  {
   "cell_type": "code",
   "execution_count": 16,
   "metadata": {},
   "outputs": [
    {
     "name": "stdout",
     "output_type": "stream",
     "text": [
      "\n",
      "Empathy Correlation with Training Data: \n",
      "\n",
      "correlation: (0.002028890025075345, 0.9303196594201143)\n",
      "correlation: (-0.010672759257810048, 0.6455195130362161)\n",
      "\n",
      "Empathy Correlation with Dev Data: \n",
      "\n",
      "correlation: (-0.07930419859054999, 0.19390887777637755)\n",
      "correlation: (0.08903099209462476, 0.1445540775339315)\n"
     ]
    }
   ],
   "source": [
    "print(\"\\nEmpathy Correlation with Training Data: \\n\")\n",
    "for i in range(train_pol_sub_score.shape[1]):\n",
    "    print(\"correlation: {}\".format(pearsonr(column(train_pol_sub_score, i), train_empathy)))\n",
    "\n",
    "print(\"\\nEmpathy Correlation with Dev Data: \\n\")\n",
    "for i in range(dev_pol_sub_score.shape[1]):\n",
    "    print(\"correlation: {}\".format(pearsonr(column(dev_pol_sub_score, i), dev_empathy)))"
   ]
  },
  {
   "cell_type": "code",
   "execution_count": 17,
   "metadata": {},
   "outputs": [
    {
     "name": "stdout",
     "output_type": "stream",
     "text": [
      "\n",
      "Distress Correlation with Training Data: \n",
      "\n",
      "correlation: (-0.12737750226577563, 3.5422518051580214e-08)\n",
      "correlation: (0.009894647225671899, 0.6697747907208982)\n",
      "\n",
      "Distress Correlation with Dev Data: \n",
      "\n",
      "correlation: (-0.1855684857695902, 0.002200909946092545)\n",
      "correlation: (0.12635713564059836, 0.03799112591091679)\n"
     ]
    }
   ],
   "source": [
    "print(\"\\nDistress Correlation with Training Data: \\n\")\n",
    "for i in range(train_pol_sub_score.shape[1]):\n",
    "    print(\"correlation: {}\".format(pearsonr(column(train_pol_sub_score, i), train_distress)))\n",
    "\n",
    "print(\"\\nDistress Correlation with Dev Data: \\n\")\n",
    "for i in range(dev_pol_sub_score.shape[1]):\n",
    "    print(\"correlation: {}\".format(pearsonr(column(dev_pol_sub_score, i), dev_distress)))"
   ]
  },
  {
   "cell_type": "markdown",
   "metadata": {},
   "source": [
    "# NRC features"
   ]
  },
  {
   "cell_type": "code",
   "execution_count": 18,
   "metadata": {},
   "outputs": [],
   "source": [
    "def get_feature_correlation(feature_list, train_empathy, dev_empathy, train_df, dev_df, remove_stopwords=False, lemmatize=False):\n",
    "    scaler = StandardScaler()\n",
    "    \n",
    "    train_essay = [pre.clean_text(text, remove_stopwords=remove_stopwords, lemmatize=lemmatize) for text in train_df.essay.values.tolist()]\n",
    "    train_emotion_scores = get_essay_nrc_scores(train_essay,\n",
    "                                                feature_list, \n",
    "                                                normalize=False)\n",
    "    train_emotion_scores = scaler.fit_transform(train_emotion_scores)\n",
    "    \n",
    "    print(\"\\nResult on Training Data: \")\n",
    "    for i in range(train_emotion_scores.shape[1]):\n",
    "        print(\"NRC feature {} correlation: {}\".format(feature_list[i], \n",
    "                                                      pearsonr(column(train_emotion_scores, i), train_empathy)))\n",
    "    \n",
    "    dev_essay = [pre.clean_text(text, remove_stopwords=remove_stopwords, lemmatize=lemmatize) for text in dev_df.essay.values.tolist()]\n",
    "    dev_emotion_scores = get_essay_nrc_scores(dev_essay,\n",
    "                                              feature_list, \n",
    "                                              normalize=False)\n",
    "    dev_emotion_scores = scaler.transform(dev_emotion_scores)\n",
    "    print(\"\\nResult on Dev Data: \")\n",
    "    for i in range(dev_emotion_scores.shape[1]):\n",
    "        print(\"NRC feature {} correlation: {}\".format(feature_list[i],\n",
    "                                                      pearsonr(column(dev_emotion_scores, i), dev_empathy)))"
   ]
  },
  {
   "cell_type": "code",
   "execution_count": 19,
   "metadata": {},
   "outputs": [],
   "source": [
    "nrc_features = ['anger', \n",
    "                'anticipation',\n",
    "                'disgust',\n",
    "                'fear',\n",
    "                'joy',\n",
    "                'sadness',\n",
    "                'surprise',\n",
    "                'trust',\n",
    "                'valence',\n",
    "                'arousal',\n",
    "                'dominance']"
   ]
  },
  {
   "cell_type": "markdown",
   "metadata": {},
   "source": [
    "# Empathy Correlation with NRC features"
   ]
  },
  {
   "cell_type": "code",
   "execution_count": 20,
   "metadata": {},
   "outputs": [
    {
     "name": "stdout",
     "output_type": "stream",
     "text": [
      "\n",
      "Result on Training Data: \n",
      "NRC feature anger correlation: (0.03371132328207759, 0.14613267742304598)\n",
      "NRC feature anticipation correlation: (0.05052370744909695, 0.02933917623770778)\n",
      "NRC feature disgust correlation: (0.032294903152194805, 0.16385207180553704)\n",
      "NRC feature fear correlation: (0.11596459059165252, 5.307402854588614e-07)\n",
      "NRC feature joy correlation: (0.1228213505507391, 1.0749676819732623e-07)\n",
      "NRC feature sadness correlation: (0.18661023104982843, 4.896526938008344e-16)\n",
      "NRC feature surprise correlation: (-0.02480991051561218, 0.28487140287886126)\n",
      "NRC feature trust correlation: (0.033288508750313604, 0.15126145732326135)\n",
      "NRC feature valence correlation: (0.111294507933194, 1.4972235610452352e-06)\n",
      "NRC feature arousal correlation: (0.10663657137946016, 4.045182576425108e-06)\n",
      "NRC feature dominance correlation: (0.10246084866879016, 9.529240440432246e-06)\n",
      "\n",
      "Result on Dev Data: \n",
      "NRC feature anger correlation: (0.030141210681472047, 0.6219526250779049)\n",
      "NRC feature anticipation correlation: (0.046626767250699704, 0.445453574988239)\n",
      "NRC feature disgust correlation: (0.009394459129711895, 0.8778826210787909)\n",
      "NRC feature fear correlation: (0.1411243319662279, 0.02035319370802508)\n",
      "NRC feature joy correlation: (0.22927945037852185, 0.00014427584782855218)\n",
      "NRC feature sadness correlation: (0.20179119069976087, 0.0008537474899801134)\n",
      "NRC feature surprise correlation: (0.10797685743052206, 0.07652893939520335)\n",
      "NRC feature trust correlation: (0.1344147187969913, 0.02721337671624748)\n",
      "NRC feature valence correlation: (0.19083858437410156, 0.001631298939943666)\n",
      "NRC feature arousal correlation: (0.18112864080324553, 0.002815585191084461)\n",
      "NRC feature dominance correlation: (0.17370793682713118, 0.004198276289051219)\n"
     ]
    }
   ],
   "source": [
    "get_feature_correlation(nrc_features,\n",
    "                        train_empathy,\n",
    "                        dev_empathy,\n",
    "                        train_data,\n",
    "                        dev_data,\n",
    "                        remove_stopwords=False,\n",
    "                        lemmatize=False)"
   ]
  },
  {
   "cell_type": "markdown",
   "metadata": {},
   "source": [
    "# Distress Correlation with NRC features"
   ]
  },
  {
   "cell_type": "code",
   "execution_count": 21,
   "metadata": {},
   "outputs": [
    {
     "name": "stdout",
     "output_type": "stream",
     "text": [
      "\n",
      "Result on Training Data: \n",
      "NRC feature anger correlation: (0.15691333193688098, 1.0107816294838731e-11)\n",
      "NRC feature anticipation correlation: (0.04869747876136885, 0.03572486677919946)\n",
      "NRC feature disgust correlation: (0.14419068588038367, 4.181270882655846e-10)\n",
      "NRC feature fear correlation: (0.21475620944306706, 7.591040906128478e-21)\n",
      "NRC feature joy correlation: (0.016936513684404398, 0.4653935491898295)\n",
      "NRC feature sadness correlation: (0.20076505497813893, 2.292849778397807e-18)\n",
      "NRC feature surprise correlation: (0.0007436515163227452, 0.9744318291254607)\n",
      "NRC feature trust correlation: (0.0440947180964118, 0.05725606613530883)\n",
      "NRC feature valence correlation: (0.09074788520012098, 8.884086764387025e-05)\n",
      "NRC feature arousal correlation: (0.15419420396826447, 2.299907854295611e-11)\n",
      "NRC feature dominance correlation: (0.12536125228786218, 5.817526328010011e-08)\n",
      "\n",
      "Result on Dev Data: \n",
      "NRC feature anger correlation: (0.24590457627622556, 4.411975783772861e-05)\n",
      "NRC feature anticipation correlation: (0.049945175522626326, 0.4137080599926619)\n",
      "NRC feature disgust correlation: (0.16049102689750014, 0.008240598516724705)\n",
      "NRC feature fear correlation: (0.2904485432659467, 1.2008960310911138e-06)\n",
      "NRC feature joy correlation: (0.044845518307431824, 0.463047756485149)\n",
      "NRC feature sadness correlation: (0.18532939907782386, 0.0022306071207666756)\n",
      "NRC feature surprise correlation: (0.037320982075184625, 0.5414552072562585)\n",
      "NRC feature trust correlation: (0.05861836573243911, 0.3372794166647922)\n",
      "NRC feature valence correlation: (0.017250776294410554, 0.7778169455806992)\n",
      "NRC feature arousal correlation: (0.12404804783787962, 0.04167672803952867)\n",
      "NRC feature dominance correlation: (0.0664232191749449, 0.2767794095026675)\n"
     ]
    }
   ],
   "source": [
    "get_feature_correlation(nrc_features,\n",
    "                        train_distress,\n",
    "                        dev_distress,\n",
    "                        train_data,\n",
    "                        dev_data,\n",
    "                        remove_stopwords=False,\n",
    "                        lemmatize=False)"
   ]
  },
  {
   "cell_type": "markdown",
   "metadata": {},
   "source": [
    "# IRI and Personality Features"
   ]
  },
  {
   "cell_type": "code",
   "execution_count": 22,
   "metadata": {},
   "outputs": [],
   "source": [
    "iri_features = ['iri_perspective_taking', 'iri_personal_distress', 'iri_fantasy', 'iri_empathatic_concern']\n",
    "personality_features = ['personality_conscientiousness', 'personality_openess', 'personality_extraversion', 'personality_agreeableness', 'personality_stability']"
   ]
  },
  {
   "cell_type": "code",
   "execution_count": 23,
   "metadata": {},
   "outputs": [
    {
     "name": "stdout",
     "output_type": "stream",
     "text": [
      "(1860, 4)\n",
      "(270, 4)\n"
     ]
    }
   ],
   "source": [
    "train_iri = train_data[iri_features].values\n",
    "print(train_iri.shape)\n",
    "\n",
    "dev_iri = dev_data[iri_features].values\n",
    "print(dev_iri.shape)"
   ]
  },
  {
   "cell_type": "code",
   "execution_count": 24,
   "metadata": {},
   "outputs": [
    {
     "name": "stdout",
     "output_type": "stream",
     "text": [
      "(1860, 5)\n",
      "(270, 5)\n"
     ]
    }
   ],
   "source": [
    "train_personality = train_data[personality_features].values\n",
    "print(train_personality.shape)\n",
    "\n",
    "dev_personality = dev_data[personality_features].values\n",
    "print(dev_personality.shape)"
   ]
  },
  {
   "cell_type": "markdown",
   "metadata": {},
   "source": [
    "# Empathy Correlation with IRI Features"
   ]
  },
  {
   "cell_type": "code",
   "execution_count": 25,
   "metadata": {},
   "outputs": [
    {
     "name": "stdout",
     "output_type": "stream",
     "text": [
      "\n",
      "Empathy correlation on Training Data: \n",
      "\n",
      "NRC feature iri_perspective_taking correlation: (0.22856663040279537, 1.8023870796887119e-23)\n",
      "NRC feature iri_personal_distress correlation: (0.005806115549177551, 0.8024030801218004)\n",
      "NRC feature iri_fantasy correlation: (0.161711922593472, 2.2863423583074164e-12)\n",
      "NRC feature iri_empathatic_concern correlation: (0.29936333439833496, 8.080200148943306e-40)\n",
      "\n",
      "Empathy correlation on Dev Data: \n",
      "\n",
      "NRC feature iri_perspective_taking correlation: (0.20298941835957596, 0.0007937146200273498)\n",
      "NRC feature iri_personal_distress correlation: (0.04738842311180666, 0.43804758577495945)\n",
      "NRC feature iri_fantasy correlation: (0.15504622031303658, 0.010732314263238379)\n",
      "NRC feature iri_empathatic_concern correlation: (0.24955210765314614, 3.363615805989282e-05)\n"
     ]
    }
   ],
   "source": [
    "print(\"\\nEmpathy correlation on Training Data: \\n\")\n",
    "for i in range(train_iri.shape[1]):\n",
    "    print(\"NRC feature {} correlation: {}\".format(iri_features[i], \n",
    "                                                  pearsonr(column(train_iri, i), train_empathy)))\n",
    "    \n",
    "print(\"\\nEmpathy correlation on Dev Data: \\n\")\n",
    "for i in range(dev_iri.shape[1]):\n",
    "    print(\"NRC feature {} correlation: {}\".format(iri_features[i], \n",
    "                                                  pearsonr(column(dev_iri, i), dev_empathy)))"
   ]
  },
  {
   "cell_type": "markdown",
   "metadata": {},
   "source": [
    "# Empathy Correlation with Big5 Features"
   ]
  },
  {
   "cell_type": "code",
   "execution_count": 26,
   "metadata": {},
   "outputs": [
    {
     "name": "stdout",
     "output_type": "stream",
     "text": [
      "\n",
      "Empathy correlation on Training Data: \n",
      "\n",
      "NRC feature personality_conscientiousness correlation: (0.09263106209527383, 6.31060186467026e-05)\n",
      "NRC feature personality_openess correlation: (0.11377269271127469, 8.679270957892684e-07)\n",
      "NRC feature personality_extraversion correlation: (0.20902561681934412, 8.272935808223537e-20)\n",
      "NRC feature personality_agreeableness correlation: (0.24325722930340982, 1.8525600705176216e-26)\n",
      "NRC feature personality_stability correlation: (0.1037886896228663, 7.281898804278378e-06)\n",
      "\n",
      "Empathy correlation on Dev Data: \n",
      "\n",
      "NRC feature personality_conscientiousness correlation: (0.05585836172304273, 0.36055805782871764)\n",
      "NRC feature personality_openess correlation: (0.20788348445686353, 0.0005867699857419374)\n",
      "NRC feature personality_extraversion correlation: (-0.07142000579522055, 0.24216201875575047)\n",
      "NRC feature personality_agreeableness correlation: (0.2388727885280508, 7.357726509917349e-05)\n",
      "NRC feature personality_stability correlation: (-0.07024350772260109, 0.25002650995227754)\n"
     ]
    }
   ],
   "source": [
    "print(\"\\nEmpathy correlation on Training Data: \\n\")\n",
    "for i in range(train_personality.shape[1]):\n",
    "    print(\"NRC feature {} correlation: {}\".format(personality_features[i], \n",
    "                                                  pearsonr(column(train_personality, i), train_empathy)))\n",
    "    \n",
    "print(\"\\nEmpathy correlation on Dev Data: \\n\")\n",
    "for i in range(dev_personality.shape[1]):\n",
    "    print(\"NRC feature {} correlation: {}\".format(personality_features[i], \n",
    "                                                  pearsonr(column(dev_personality, i), dev_empathy)))"
   ]
  },
  {
   "cell_type": "markdown",
   "metadata": {},
   "source": [
    "# Distress Correlation with IRI Features"
   ]
  },
  {
   "cell_type": "code",
   "execution_count": 27,
   "metadata": {},
   "outputs": [
    {
     "name": "stdout",
     "output_type": "stream",
     "text": [
      "\n",
      "Distress correlation on Training Data: \n",
      "\n",
      "NRC feature iri_perspective_taking correlation: (0.1265242467033694, 4.373892590075604e-08)\n",
      "NRC feature iri_personal_distress correlation: (0.18952486622501458, 1.678101271410058e-16)\n",
      "NRC feature iri_fantasy correlation: (0.1205412837507924, 1.84614008033545e-07)\n",
      "NRC feature iri_empathatic_concern correlation: (0.198644782586168, 5.256970035825554e-18)\n",
      "\n",
      "Distress correlation on Dev Data: \n",
      "\n",
      "NRC feature iri_perspective_taking correlation: (0.17102091893068, 0.00483370001736317)\n",
      "NRC feature iri_personal_distress correlation: (0.3755251101638156, 1.808488933353831e-10)\n",
      "NRC feature iri_fantasy correlation: (0.33916964288043544, 1.0801312513148551e-08)\n",
      "NRC feature iri_empathatic_concern correlation: (0.23107911176029355, 0.00012742451421095185)\n"
     ]
    }
   ],
   "source": [
    "print(\"\\nDistress correlation on Training Data: \\n\")\n",
    "for i in range(train_iri.shape[1]):\n",
    "    print(\"NRC feature {} correlation: {}\".format(iri_features[i], \n",
    "                                                  pearsonr(column(train_iri, i), train_distress)))\n",
    "    \n",
    "print(\"\\nDistress correlation on Dev Data: \\n\")\n",
    "for i in range(dev_iri.shape[1]):\n",
    "    print(\"NRC feature {} correlation: {}\".format(iri_features[i], \n",
    "                                                  pearsonr(column(dev_iri, i), dev_distress)))"
   ]
  },
  {
   "cell_type": "markdown",
   "metadata": {},
   "source": [
    "# Distress Correlation with Big5 Features"
   ]
  },
  {
   "cell_type": "code",
   "execution_count": 28,
   "metadata": {},
   "outputs": [
    {
     "name": "stdout",
     "output_type": "stream",
     "text": [
      "\n",
      "Distress correlation on Training Data: \n",
      "\n",
      "NRC feature personality_conscientiousness correlation: (-0.05153061053217745, 0.026257626702303652)\n",
      "NRC feature personality_openess correlation: (0.014207526470026804, 0.5403014682871335)\n",
      "NRC feature personality_extraversion correlation: (0.12405604614928988, 7.98785639534921e-08)\n",
      "NRC feature personality_agreeableness correlation: (0.1265897305069749, 4.303881683442054e-08)\n",
      "NRC feature personality_stability correlation: (-0.0837787455455481, 0.0002979021594045739)\n",
      "\n",
      "Distress correlation on Dev Data: \n",
      "\n",
      "NRC feature personality_conscientiousness correlation: (-0.09324355779674652, 0.12642042352162314)\n",
      "NRC feature personality_openess correlation: (0.10025728826674211, 0.10019756302891678)\n",
      "NRC feature personality_extraversion correlation: (-0.25778449051654345, 1.7957123002921912e-05)\n",
      "NRC feature personality_agreeableness correlation: (0.088025115396524, 0.1491638812272802)\n",
      "NRC feature personality_stability correlation: (-0.35599698930373724, 1.734650639916941e-09)\n"
     ]
    }
   ],
   "source": [
    "print(\"\\nDistress correlation on Training Data: \\n\")\n",
    "for i in range(train_personality.shape[1]):\n",
    "    print(\"NRC feature {} correlation: {}\".format(personality_features[i], \n",
    "                                                  pearsonr(column(train_personality, i), train_distress)))\n",
    "    \n",
    "print(\"\\nDistress correlation on Dev Data: \\n\")\n",
    "for i in range(dev_personality.shape[1]):\n",
    "    print(\"NRC feature {} correlation: {}\".format(personality_features[i], \n",
    "                                                  pearsonr(column(dev_personality, i), dev_distress)))"
   ]
  },
  {
   "cell_type": "markdown",
   "metadata": {},
   "source": [
    "# High Empathy Analysis"
   ]
  },
  {
   "cell_type": "code",
   "execution_count": 51,
   "metadata": {},
   "outputs": [
    {
     "name": "stdout",
     "output_type": "stream",
     "text": [
      "(944, 224)\n",
      "(150, 219)\n"
     ]
    }
   ],
   "source": [
    "he_train_data = train_data[train_data.gold_empathy_bin == 0].copy(deep=True)\n",
    "print(he_train_data.shape)\n",
    "he_dev_data = dev_data[dev_data.gold_empathy_bin == 0].copy(deep=True)\n",
    "print(he_dev_data.shape)\n",
    "\n",
    "he_train_empathy = he_train_data.gold_empathy.values\n",
    "he_dev_empathy = he_dev_data.gold_empathy.values"
   ]
  },
  {
   "cell_type": "code",
   "execution_count": null,
   "metadata": {},
   "outputs": [],
   "source": []
  }
 ],
 "metadata": {
  "kernelspec": {
   "display_name": "Python 3",
   "language": "python",
   "name": "python3"
  },
  "language_info": {
   "codemirror_mode": {
    "name": "ipython",
    "version": 3
   },
   "file_extension": ".py",
   "mimetype": "text/x-python",
   "name": "python",
   "nbconvert_exporter": "python",
   "pygments_lexer": "ipython3",
   "version": "3.8.3"
  }
 },
 "nbformat": 4,
 "nbformat_minor": 4
}
