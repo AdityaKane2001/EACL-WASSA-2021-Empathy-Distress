{
 "cells": [
  {
   "cell_type": "code",
   "execution_count": 1,
   "metadata": {},
   "outputs": [],
   "source": [
    "import sys\n",
    "sys.path.append('../')"
   ]
  },
  {
   "cell_type": "code",
   "execution_count": 3,
   "metadata": {},
   "outputs": [],
   "source": [
    "import pandas as pd\n",
    "import numpy as np\n",
    "from scipy.stats import pearsonr\n",
    "\n",
    "from utils.utils import Utils\n",
    "from utils.preprocess import Preprocess\n",
    "\n",
    "from tensorflow.keras.layers import Input, Embedding, Dense, Flatten, Reshape, Concatenate\n",
    "from tensorflow.keras import optimizers\n",
    "from tensorflow.keras import Model\n",
    "from tensorflow.keras.callbacks import ModelCheckpoint, ReduceLROnPlateau, EarlyStopping, TensorBoard\n",
    "\n",
    "from sklearn.preprocessing import LabelEncoder, OneHotEncoder"
   ]
  },
  {
   "cell_type": "code",
   "execution_count": 4,
   "metadata": {},
   "outputs": [],
   "source": [
    "utils = Utils()\n",
    "pre = Preprocess('clean')"
   ]
  },
  {
   "cell_type": "code",
   "execution_count": 5,
   "metadata": {},
   "outputs": [
    {
     "name": "stdout",
     "output_type": "stream",
     "text": [
      "(1860, 317)\n",
      "(270, 304)\n"
     ]
    }
   ],
   "source": [
    "train_data = utils.read_data(\"../dataset/train/train-final.csv\")\n",
    "print(train_data.shape)\n",
    "dev_data = utils.read_data(\"../dataset/dev/dev-final.csv\")\n",
    "print(dev_data.shape)"
   ]
  },
  {
   "cell_type": "code",
   "execution_count": 6,
   "metadata": {},
   "outputs": [
    {
     "data": {
      "text/html": [
       "<div>\n",
       "<style scoped>\n",
       "    .dataframe tbody tr th:only-of-type {\n",
       "        vertical-align: middle;\n",
       "    }\n",
       "\n",
       "    .dataframe tbody tr th {\n",
       "        vertical-align: top;\n",
       "    }\n",
       "\n",
       "    .dataframe thead th {\n",
       "        text-align: right;\n",
       "    }\n",
       "</style>\n",
       "<table border=\"1\" class=\"dataframe\">\n",
       "  <thead>\n",
       "    <tr style=\"text-align: right;\">\n",
       "      <th></th>\n",
       "      <th>age</th>\n",
       "      <th>age_bin</th>\n",
       "    </tr>\n",
       "  </thead>\n",
       "  <tbody>\n",
       "    <tr>\n",
       "      <th>0</th>\n",
       "      <td>33</td>\n",
       "      <td>1</td>\n",
       "    </tr>\n",
       "    <tr>\n",
       "      <th>1</th>\n",
       "      <td>33</td>\n",
       "      <td>1</td>\n",
       "    </tr>\n",
       "    <tr>\n",
       "      <th>2</th>\n",
       "      <td>33</td>\n",
       "      <td>1</td>\n",
       "    </tr>\n",
       "    <tr>\n",
       "      <th>3</th>\n",
       "      <td>33</td>\n",
       "      <td>1</td>\n",
       "    </tr>\n",
       "    <tr>\n",
       "      <th>4</th>\n",
       "      <td>33</td>\n",
       "      <td>1</td>\n",
       "    </tr>\n",
       "    <tr>\n",
       "      <th>...</th>\n",
       "      <td>...</td>\n",
       "      <td>...</td>\n",
       "    </tr>\n",
       "    <tr>\n",
       "      <th>1855</th>\n",
       "      <td>34</td>\n",
       "      <td>1</td>\n",
       "    </tr>\n",
       "    <tr>\n",
       "      <th>1856</th>\n",
       "      <td>34</td>\n",
       "      <td>1</td>\n",
       "    </tr>\n",
       "    <tr>\n",
       "      <th>1857</th>\n",
       "      <td>34</td>\n",
       "      <td>1</td>\n",
       "    </tr>\n",
       "    <tr>\n",
       "      <th>1858</th>\n",
       "      <td>34</td>\n",
       "      <td>1</td>\n",
       "    </tr>\n",
       "    <tr>\n",
       "      <th>1859</th>\n",
       "      <td>34</td>\n",
       "      <td>1</td>\n",
       "    </tr>\n",
       "  </tbody>\n",
       "</table>\n",
       "<p>1860 rows × 2 columns</p>\n",
       "</div>"
      ],
      "text/plain": [
       "      age  age_bin\n",
       "0      33        1\n",
       "1      33        1\n",
       "2      33        1\n",
       "3      33        1\n",
       "4      33        1\n",
       "...   ...      ...\n",
       "1855   34        1\n",
       "1856   34        1\n",
       "1857   34        1\n",
       "1858   34        1\n",
       "1859   34        1\n",
       "\n",
       "[1860 rows x 2 columns]"
      ]
     },
     "execution_count": 6,
     "metadata": {},
     "output_type": "execute_result"
    }
   ],
   "source": [
    "train_data['age_bin'] = train_data.age.apply(lambda x: utils.categorize_age(x))\n",
    "train_data[['age', 'age_bin']]"
   ]
  },
  {
   "cell_type": "code",
   "execution_count": 7,
   "metadata": {},
   "outputs": [
    {
     "data": {
      "text/html": [
       "<div>\n",
       "<style scoped>\n",
       "    .dataframe tbody tr th:only-of-type {\n",
       "        vertical-align: middle;\n",
       "    }\n",
       "\n",
       "    .dataframe tbody tr th {\n",
       "        vertical-align: top;\n",
       "    }\n",
       "\n",
       "    .dataframe thead th {\n",
       "        text-align: right;\n",
       "    }\n",
       "</style>\n",
       "<table border=\"1\" class=\"dataframe\">\n",
       "  <thead>\n",
       "    <tr style=\"text-align: right;\">\n",
       "      <th></th>\n",
       "      <th>age</th>\n",
       "      <th>age_bin</th>\n",
       "    </tr>\n",
       "  </thead>\n",
       "  <tbody>\n",
       "    <tr>\n",
       "      <th>0</th>\n",
       "      <td>20</td>\n",
       "      <td>0</td>\n",
       "    </tr>\n",
       "    <tr>\n",
       "      <th>1</th>\n",
       "      <td>20</td>\n",
       "      <td>0</td>\n",
       "    </tr>\n",
       "    <tr>\n",
       "      <th>2</th>\n",
       "      <td>20</td>\n",
       "      <td>0</td>\n",
       "    </tr>\n",
       "    <tr>\n",
       "      <th>3</th>\n",
       "      <td>20</td>\n",
       "      <td>0</td>\n",
       "    </tr>\n",
       "    <tr>\n",
       "      <th>4</th>\n",
       "      <td>20</td>\n",
       "      <td>0</td>\n",
       "    </tr>\n",
       "    <tr>\n",
       "      <th>...</th>\n",
       "      <td>...</td>\n",
       "      <td>...</td>\n",
       "    </tr>\n",
       "    <tr>\n",
       "      <th>265</th>\n",
       "      <td>37</td>\n",
       "      <td>1</td>\n",
       "    </tr>\n",
       "    <tr>\n",
       "      <th>266</th>\n",
       "      <td>37</td>\n",
       "      <td>1</td>\n",
       "    </tr>\n",
       "    <tr>\n",
       "      <th>267</th>\n",
       "      <td>37</td>\n",
       "      <td>1</td>\n",
       "    </tr>\n",
       "    <tr>\n",
       "      <th>268</th>\n",
       "      <td>37</td>\n",
       "      <td>1</td>\n",
       "    </tr>\n",
       "    <tr>\n",
       "      <th>269</th>\n",
       "      <td>37</td>\n",
       "      <td>1</td>\n",
       "    </tr>\n",
       "  </tbody>\n",
       "</table>\n",
       "<p>270 rows × 2 columns</p>\n",
       "</div>"
      ],
      "text/plain": [
       "     age  age_bin\n",
       "0     20        0\n",
       "1     20        0\n",
       "2     20        0\n",
       "3     20        0\n",
       "4     20        0\n",
       "..   ...      ...\n",
       "265   37        1\n",
       "266   37        1\n",
       "267   37        1\n",
       "268   37        1\n",
       "269   37        1\n",
       "\n",
       "[270 rows x 2 columns]"
      ]
     },
     "execution_count": 7,
     "metadata": {},
     "output_type": "execute_result"
    }
   ],
   "source": [
    "dev_data['age_bin'] = dev_data.age.apply(lambda x: utils.categorize_age(x))\n",
    "dev_data[['age', 'age_bin']]"
   ]
  },
  {
   "cell_type": "code",
   "execution_count": 8,
   "metadata": {},
   "outputs": [],
   "source": [
    "def prepare_data(train_df, dev_df, features=['gender', 'education', 'race', 'age'], target='gold_empathy'):\n",
    "    x_train = []\n",
    "    x_dev = []\n",
    "    for f in features:\n",
    "        label_encoder = LabelEncoder()\n",
    "        one_hot_encoder = OneHotEncoder(sparse=False)\n",
    "        \n",
    "        train_feature_data = 0\n",
    "        dev_feature_data = 0\n",
    "        \n",
    "        train_feature_data = label_encoder.fit_transform(train_df[f].values) \n",
    "        train_feature_data = np.reshape(train_feature_data, (len(train_feature_data), 1))\n",
    "        train_feature_data = one_hot_encoder.fit_transform(train_feature_data)\n",
    "        x_train.append(train_feature_data)   \n",
    "        \n",
    "        dev_feature_data = label_encoder.transform(dev_df[f].values) \n",
    "        dev_feature_data = np.reshape(dev_feature_data, (len(dev_feature_data), 1))\n",
    "        dev_feature_data = one_hot_encoder.transform(dev_feature_data)\n",
    "        x_dev.append(dev_feature_data)\n",
    "    \n",
    "    y_train = np.reshape(train_df[target].values.tolist(), (len(train_df[target].values.tolist()), 1))\n",
    "    y_dev = np.reshape(dev_df[target].values.tolist(), (len(dev_df[target].values.tolist()), 1))\n",
    "    return x_train, y_train, x_dev, y_dev"
   ]
  },
  {
   "cell_type": "code",
   "execution_count": 13,
   "metadata": {},
   "outputs": [],
   "source": [
    "features=['gender', 'education', 'race', 'age_bin', 'gold_emotion']"
   ]
  },
  {
   "cell_type": "code",
   "execution_count": 14,
   "metadata": {},
   "outputs": [
    {
     "name": "stdout",
     "output_type": "stream",
     "text": [
      "(1860, 1)\n",
      "5\n",
      "(1860, 3)\n",
      "(1860, 6)\n",
      "(1860, 6)\n",
      "(1860, 4)\n",
      "(1860, 7)\n"
     ]
    }
   ],
   "source": [
    "x_train, y_train, x_dev, y_dev = prepare_data(train_data, \n",
    "                                              dev_data,\n",
    "                                              features=features,\n",
    "                                              target='gold_empathy')\n",
    "print(y_train.shape)\n",
    "print(len(x_train))\n",
    "print(x_train[0].shape)\n",
    "print(x_train[1].shape)\n",
    "print(x_train[2].shape)\n",
    "print(x_train[3].shape)\n",
    "print(x_train[4].shape)"
   ]
  },
  {
   "cell_type": "code",
   "execution_count": 20,
   "metadata": {},
   "outputs": [],
   "source": [
    "def build_model(input_feature):\n",
    "    inputs = Input(shape=(input_feature.shape[1]))\n",
    "    embedding = Embedding(input_dim=input_feature.shape[1], output_dim=3, trainable=True)(inputs)\n",
    "    x = Flatten()(embedding)\n",
    "    out = Dense(1)(x)\n",
    "\n",
    "    model = Model(inputs=inputs, outputs=out)\n",
    "    model.compile(optimizer=optimizers.Adam(lr=0.001), loss='mse')\n",
    "    model.summary()\n",
    "    return model"
   ]
  },
  {
   "cell_type": "code",
   "execution_count": 55,
   "metadata": {},
   "outputs": [
    {
     "name": "stdout",
     "output_type": "stream",
     "text": [
      "Model: \"functional_13\"\n",
      "_________________________________________________________________\n",
      "Layer (type)                 Output Shape              Param #   \n",
      "=================================================================\n",
      "input_7 (InputLayer)         [(None, 6)]               0         \n",
      "_________________________________________________________________\n",
      "embedding_6 (Embedding)      (None, 6, 3)              18        \n",
      "_________________________________________________________________\n",
      "flatten_6 (Flatten)          (None, 18)                0         \n",
      "_________________________________________________________________\n",
      "dense_6 (Dense)              (None, 1)                 19        \n",
      "=================================================================\n",
      "Total params: 37\n",
      "Trainable params: 37\n",
      "Non-trainable params: 0\n",
      "_________________________________________________________________\n"
     ]
    }
   ],
   "source": [
    "i = 2\n",
    "myModel = build_model(x_train[i])"
   ]
  },
  {
   "cell_type": "code",
   "execution_count": 56,
   "metadata": {},
   "outputs": [
    {
     "name": "stdout",
     "output_type": "stream",
     "text": [
      "../entity-embeddings/models/race-epoch-{epoch:02d}-val-loss-{val_loss:02f}.h5\n"
     ]
    }
   ],
   "source": [
    "checkpoint_filepath = \"../entity-embeddings/models/\" + features[i] + \"-epoch-{epoch:02d}-val-loss-{val_loss:02f}.h5\"\n",
    "print(checkpoint_filepath)\n",
    "model_checkpoint_callback = ModelCheckpoint(filepath=checkpoint_filepath,\n",
    "                                            save_weights_only=True,\n",
    "                                            monitor='val_loss',\n",
    "                                            mode='min',\n",
    "                                            save_freq = 'epoch',\n",
    "                                            save_best_only=True)"
   ]
  },
  {
   "cell_type": "code",
   "execution_count": null,
   "metadata": {
    "scrolled": true
   },
   "outputs": [
    {
     "name": "stdout",
     "output_type": "stream",
     "text": [
      "Epoch 1/200\n",
      "59/59 [==============================] - 0s 2ms/step - loss: 16.0491 - val_loss: 13.9703\n",
      "Epoch 2/200\n",
      "59/59 [==============================] - 0s 1ms/step - loss: 13.2489 - val_loss: 10.7620\n",
      "Epoch 3/200\n",
      "59/59 [==============================] - 0s 996us/step - loss: 9.6470 - val_loss: 7.3443\n",
      "Epoch 4/200\n",
      "59/59 [==============================] - 0s 1ms/step - loss: 6.3799 - val_loss: 4.8479\n",
      "Epoch 5/200\n",
      "59/59 [==============================] - 0s 1ms/step - loss: 4.3525 - val_loss: 3.7208\n",
      "Epoch 6/200\n",
      "59/59 [==============================] - 0s 2ms/step - loss: 3.5458 - val_loss: 3.4568\n",
      "Epoch 7/200\n",
      "59/59 [==============================] - 0s 3ms/step - loss: 3.3594 - val_loss: 3.4445\n",
      "Epoch 8/200\n",
      "59/59 [==============================] - 0s 3ms/step - loss: 3.3352 - val_loss: 3.4525\n",
      "Epoch 9/200\n",
      "59/59 [==============================] - 0s 1ms/step - loss: 3.3312 - val_loss: 3.4578\n",
      "Epoch 10/200\n",
      "59/59 [==============================] - 0s 2ms/step - loss: 3.3302 - val_loss: 3.4574\n",
      "Epoch 11/200\n",
      "59/59 [==============================] - 0s 2ms/step - loss: 3.3299 - val_loss: 3.4609\n",
      "Epoch 12/200\n",
      "59/59 [==============================] - 0s 947us/step - loss: 3.3322 - val_loss: 3.4645\n",
      "Epoch 13/200\n",
      "59/59 [==============================] - 0s 946us/step - loss: 3.3302 - val_loss: 3.4585\n",
      "Epoch 14/200\n",
      "59/59 [==============================] - 0s 1ms/step - loss: 3.3298 - val_loss: 3.4600\n",
      "Epoch 15/200\n",
      "59/59 [==============================] - 0s 1ms/step - loss: 3.3293 - val_loss: 3.4595\n",
      "Epoch 16/200\n",
      "59/59 [==============================] - 0s 1ms/step - loss: 3.3306 - val_loss: 3.4585\n",
      "Epoch 17/200\n",
      "59/59 [==============================] - 0s 1ms/step - loss: 3.3302 - val_loss: 3.4516\n",
      "Epoch 18/200\n",
      "59/59 [==============================] - 0s 919us/step - loss: 3.3306 - val_loss: 3.4524\n",
      "Epoch 19/200\n",
      "59/59 [==============================] - 0s 1ms/step - loss: 3.3286 - val_loss: 3.4616\n",
      "Epoch 20/200\n",
      "59/59 [==============================] - 0s 1ms/step - loss: 3.3318 - val_loss: 3.4603\n",
      "Epoch 21/200\n",
      "59/59 [==============================] - 0s 1ms/step - loss: 3.3289 - val_loss: 3.4523\n",
      "Epoch 22/200\n",
      "59/59 [==============================] - 0s 1ms/step - loss: 3.3288 - val_loss: 3.4479\n",
      "Epoch 23/200\n",
      "59/59 [==============================] - 0s 986us/step - loss: 3.3287 - val_loss: 3.4562\n",
      "Epoch 24/200\n",
      "59/59 [==============================] - 0s 1ms/step - loss: 3.3287 - val_loss: 3.4462\n",
      "Epoch 25/200\n",
      "59/59 [==============================] - 0s 1ms/step - loss: 3.3290 - val_loss: 3.4511\n",
      "Epoch 26/200\n",
      "59/59 [==============================] - 0s 2ms/step - loss: 3.3281 - val_loss: 3.4499\n",
      "Epoch 27/200\n",
      "59/59 [==============================] - 0s 2ms/step - loss: 3.3288 - val_loss: 3.4430\n",
      "Epoch 28/200\n",
      "59/59 [==============================] - 0s 932us/step - loss: 3.3291 - val_loss: 3.4495\n",
      "Epoch 29/200\n",
      "59/59 [==============================] - 0s 913us/step - loss: 3.3292 - val_loss: 3.4506\n",
      "Epoch 30/200\n",
      "59/59 [==============================] - 0s 1ms/step - loss: 3.3293 - val_loss: 3.4410\n",
      "Epoch 31/200\n",
      "59/59 [==============================] - 0s 1ms/step - loss: 3.3267 - val_loss: 3.4434\n",
      "Epoch 32/200\n",
      "59/59 [==============================] - 0s 1ms/step - loss: 3.3292 - val_loss: 3.4484\n",
      "Epoch 33/200\n",
      "59/59 [==============================] - 0s 1ms/step - loss: 3.3307 - val_loss: 3.4449\n",
      "Epoch 34/200\n",
      "59/59 [==============================] - 0s 1ms/step - loss: 3.3305 - val_loss: 3.4376\n",
      "Epoch 35/200\n",
      "59/59 [==============================] - 0s 996us/step - loss: 3.3272 - val_loss: 3.4379\n",
      "Epoch 36/200\n",
      "59/59 [==============================] - 0s 2ms/step - loss: 3.3276 - val_loss: 3.4488\n",
      "Epoch 37/200\n",
      "59/59 [==============================] - 0s 1ms/step - loss: 3.3261 - val_loss: 3.4433\n",
      "Epoch 38/200\n",
      "59/59 [==============================] - 0s 1ms/step - loss: 3.3260 - val_loss: 3.4393\n",
      "Epoch 39/200\n",
      "59/59 [==============================] - 0s 1ms/step - loss: 3.3302 - val_loss: 3.4510\n",
      "Epoch 40/200\n",
      "59/59 [==============================] - 0s 1ms/step - loss: 3.3265 - val_loss: 3.4362\n",
      "Epoch 41/200\n",
      "59/59 [==============================] - 0s 2ms/step - loss: 3.3270 - val_loss: 3.4469\n",
      "Epoch 42/200\n",
      "59/59 [==============================] - 0s 1ms/step - loss: 3.3246 - val_loss: 3.4361\n",
      "Epoch 43/200\n",
      "59/59 [==============================] - 0s 1ms/step - loss: 3.3252 - val_loss: 3.4324\n",
      "Epoch 44/200\n",
      "59/59 [==============================] - 0s 2ms/step - loss: 3.3250 - val_loss: 3.4306\n",
      "Epoch 45/200\n",
      "59/59 [==============================] - 0s 860us/step - loss: 3.3248 - val_loss: 3.4359\n",
      "Epoch 46/200\n",
      "59/59 [==============================] - 0s 954us/step - loss: 3.3248 - val_loss: 3.4290\n",
      "Epoch 47/200\n",
      "59/59 [==============================] - 0s 889us/step - loss: 3.3241 - val_loss: 3.4320\n",
      "Epoch 48/200\n",
      "59/59 [==============================] - 0s 896us/step - loss: 3.3246 - val_loss: 3.4367\n",
      "Epoch 49/200\n",
      "59/59 [==============================] - 0s 1ms/step - loss: 3.3247 - val_loss: 3.4346\n",
      "Epoch 50/200\n",
      "59/59 [==============================] - 0s 1ms/step - loss: 3.3251 - val_loss: 3.4314\n",
      "Epoch 51/200\n",
      " 1/59 [..............................] - ETA: 0s - loss: 3.4842"
     ]
    }
   ],
   "source": [
    "myModel.fit(x_train[i],\n",
    "            y_train,\n",
    "            epochs=200, \n",
    "            batch_size=32, \n",
    "            verbose=1,\n",
    "            shuffle=True,\n",
    "            validation_data=(x_dev[i], y_dev),\n",
    "           callbacks=[model_checkpoint_callback])"
   ]
  },
  {
   "cell_type": "code",
   "execution_count": 52,
   "metadata": {},
   "outputs": [
    {
     "data": {
      "text/plain": [
       "[array([[-0.45468438, -0.3963118 , -0.32284993],\n",
       "        [ 0.3860762 , -0.02078304, -0.21219611],\n",
       "        [ 0.04525162, -0.02118989, -0.02896959],\n",
       "        [-0.00061514,  0.04994852,  0.01100025],\n",
       "        [ 0.037873  ,  0.0157565 ,  0.02706963],\n",
       "        [-0.00608988,  0.04980994, -0.02560806],\n",
       "        [-0.03879754,  0.01109638,  0.04243715]], dtype=float32)]"
      ]
     },
     "execution_count": 52,
     "metadata": {},
     "output_type": "execute_result"
    }
   ],
   "source": [
    "myModel.load_weights(\"../entity-embeddings/models/gold_emotion-epoch-142-val-loss-3.355078.h5\")\n",
    "embs = myModel.layers[1].get_weights()\n",
    "embs"
   ]
  },
  {
   "cell_type": "code",
   "execution_count": 53,
   "metadata": {},
   "outputs": [
    {
     "data": {
      "text/plain": [
       "(7, 3)"
      ]
     },
     "execution_count": 53,
     "metadata": {},
     "output_type": "execute_result"
    }
   ],
   "source": [
    "embs[0].shape"
   ]
  },
  {
   "cell_type": "code",
   "execution_count": 54,
   "metadata": {},
   "outputs": [],
   "source": [
    "np.savetxt('../entity-embeddings/race-embeddings.txt', embs[0])"
   ]
  },
  {
   "cell_type": "code",
   "execution_count": null,
   "metadata": {},
   "outputs": [],
   "source": []
  }
 ],
 "metadata": {
  "kernelspec": {
   "display_name": "Python 3",
   "language": "python",
   "name": "python3"
  },
  "language_info": {
   "codemirror_mode": {
    "name": "ipython",
    "version": 3
   },
   "file_extension": ".py",
   "mimetype": "text/x-python",
   "name": "python",
   "nbconvert_exporter": "python",
   "pygments_lexer": "ipython3",
   "version": "3.8.3"
  }
 },
 "nbformat": 4,
 "nbformat_minor": 4
}
