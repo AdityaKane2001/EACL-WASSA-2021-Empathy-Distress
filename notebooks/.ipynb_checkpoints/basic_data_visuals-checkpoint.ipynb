{
 "cells": [
  {
   "cell_type": "code",
   "execution_count": 1,
   "metadata": {},
   "outputs": [],
   "source": [
    "import sys\n",
    "sys.path.append('../')"
   ]
  },
  {
   "cell_type": "code",
   "execution_count": 38,
   "metadata": {},
   "outputs": [],
   "source": [
    "from utils.utils import Utils\n",
    "import numpy as np\n",
    "import matplotlib.pyplot as plt\n",
    "import seaborn as sns\n",
    "import pandas as pd\n",
    "import sklearn\n",
    "from sklearn.preprocessing import MinMaxScaler, StandardScaler"
   ]
  },
  {
   "cell_type": "code",
   "execution_count": 3,
   "metadata": {},
   "outputs": [
    {
     "name": "stdout",
     "output_type": "stream",
     "text": [
      "CPU times: user 24 µs, sys: 5 µs, total: 29 µs\n",
      "Wall time: 33.6 µs\n"
     ]
    }
   ],
   "source": [
    "%%time\n",
    "utils = Utils()"
   ]
  },
  {
   "cell_type": "code",
   "execution_count": 32,
   "metadata": {
    "scrolled": true
   },
   "outputs": [
    {
     "data": {
      "text/html": [
       "<div>\n",
       "<style scoped>\n",
       "    .dataframe tbody tr th:only-of-type {\n",
       "        vertical-align: middle;\n",
       "    }\n",
       "\n",
       "    .dataframe tbody tr th {\n",
       "        vertical-align: top;\n",
       "    }\n",
       "\n",
       "    .dataframe thead th {\n",
       "        text-align: right;\n",
       "    }\n",
       "</style>\n",
       "<table border=\"1\" class=\"dataframe\">\n",
       "  <thead>\n",
       "    <tr style=\"text-align: right;\">\n",
       "      <th></th>\n",
       "      <th>message_id</th>\n",
       "      <th>response_id</th>\n",
       "      <th>article_id</th>\n",
       "      <th>empathy</th>\n",
       "      <th>distress</th>\n",
       "      <th>empathy_bin</th>\n",
       "      <th>distress_bin</th>\n",
       "      <th>essay</th>\n",
       "      <th>emotion</th>\n",
       "      <th>gender</th>\n",
       "      <th>...</th>\n",
       "      <th>personality_stability</th>\n",
       "      <th>iri_perspective_taking</th>\n",
       "      <th>iri_personal_distress</th>\n",
       "      <th>iri_fantasy</th>\n",
       "      <th>iri_empathatic_concern</th>\n",
       "      <th>gold_empathy</th>\n",
       "      <th>gold_distress</th>\n",
       "      <th>gold_emotion</th>\n",
       "      <th>gold_empathy_bin</th>\n",
       "      <th>gold_distress_bin</th>\n",
       "    </tr>\n",
       "  </thead>\n",
       "  <tbody>\n",
       "    <tr>\n",
       "      <th>0</th>\n",
       "      <td>R_1hGrPtWM4SumG0U_1</td>\n",
       "      <td>R_1hGrPtWM4SumG0U</td>\n",
       "      <td>67</td>\n",
       "      <td>5.667</td>\n",
       "      <td>4.375</td>\n",
       "      <td>1</td>\n",
       "      <td>1</td>\n",
       "      <td>it is really disheartening to read about thes...</td>\n",
       "      <td>sadness</td>\n",
       "      <td>1</td>\n",
       "      <td>...</td>\n",
       "      <td>5.5</td>\n",
       "      <td>3.571</td>\n",
       "      <td>2.000</td>\n",
       "      <td>3.429</td>\n",
       "      <td>4.000</td>\n",
       "      <td>5.667</td>\n",
       "      <td>4.375</td>\n",
       "      <td>sadness</td>\n",
       "      <td>1</td>\n",
       "      <td>1</td>\n",
       "    </tr>\n",
       "    <tr>\n",
       "      <th>1</th>\n",
       "      <td>R_1hGrPtWM4SumG0U_2</td>\n",
       "      <td>R_1hGrPtWM4SumG0U</td>\n",
       "      <td>86</td>\n",
       "      <td>4.833</td>\n",
       "      <td>4.875</td>\n",
       "      <td>1</td>\n",
       "      <td>1</td>\n",
       "      <td>the phone lines from the suicide prevention l...</td>\n",
       "      <td>sadness</td>\n",
       "      <td>1</td>\n",
       "      <td>...</td>\n",
       "      <td>5.5</td>\n",
       "      <td>3.571</td>\n",
       "      <td>2.000</td>\n",
       "      <td>3.429</td>\n",
       "      <td>4.000</td>\n",
       "      <td>4.833</td>\n",
       "      <td>4.875</td>\n",
       "      <td>sadness</td>\n",
       "      <td>1</td>\n",
       "      <td>1</td>\n",
       "    </tr>\n",
       "    <tr>\n",
       "      <th>2</th>\n",
       "      <td>R_1hGrPtWM4SumG0U_3</td>\n",
       "      <td>R_1hGrPtWM4SumG0U</td>\n",
       "      <td>206</td>\n",
       "      <td>5.333</td>\n",
       "      <td>3.500</td>\n",
       "      <td>1</td>\n",
       "      <td>0</td>\n",
       "      <td>no matter what your heritage , you should be ...</td>\n",
       "      <td>neutral</td>\n",
       "      <td>1</td>\n",
       "      <td>...</td>\n",
       "      <td>5.5</td>\n",
       "      <td>3.571</td>\n",
       "      <td>2.000</td>\n",
       "      <td>3.429</td>\n",
       "      <td>4.000</td>\n",
       "      <td>5.333</td>\n",
       "      <td>3.500</td>\n",
       "      <td>neutral</td>\n",
       "      <td>1</td>\n",
       "      <td>0</td>\n",
       "    </tr>\n",
       "    <tr>\n",
       "      <th>3</th>\n",
       "      <td>R_1hGrPtWM4SumG0U_4</td>\n",
       "      <td>R_1hGrPtWM4SumG0U</td>\n",
       "      <td>290</td>\n",
       "      <td>4.167</td>\n",
       "      <td>5.250</td>\n",
       "      <td>1</td>\n",
       "      <td>1</td>\n",
       "      <td>it is frightening to learn about all these sh...</td>\n",
       "      <td>fear</td>\n",
       "      <td>1</td>\n",
       "      <td>...</td>\n",
       "      <td>5.5</td>\n",
       "      <td>3.571</td>\n",
       "      <td>2.000</td>\n",
       "      <td>3.429</td>\n",
       "      <td>4.000</td>\n",
       "      <td>4.167</td>\n",
       "      <td>5.250</td>\n",
       "      <td>fear</td>\n",
       "      <td>1</td>\n",
       "      <td>1</td>\n",
       "    </tr>\n",
       "    <tr>\n",
       "      <th>4</th>\n",
       "      <td>R_1hGrPtWM4SumG0U_5</td>\n",
       "      <td>R_1hGrPtWM4SumG0U</td>\n",
       "      <td>342</td>\n",
       "      <td>5.333</td>\n",
       "      <td>4.625</td>\n",
       "      <td>1</td>\n",
       "      <td>1</td>\n",
       "      <td>the eldest generation of russians are not bei...</td>\n",
       "      <td>sadness</td>\n",
       "      <td>1</td>\n",
       "      <td>...</td>\n",
       "      <td>5.5</td>\n",
       "      <td>3.571</td>\n",
       "      <td>2.000</td>\n",
       "      <td>3.429</td>\n",
       "      <td>4.000</td>\n",
       "      <td>5.333</td>\n",
       "      <td>4.625</td>\n",
       "      <td>sadness</td>\n",
       "      <td>1</td>\n",
       "      <td>1</td>\n",
       "    </tr>\n",
       "    <tr>\n",
       "      <th>...</th>\n",
       "      <td>...</td>\n",
       "      <td>...</td>\n",
       "      <td>...</td>\n",
       "      <td>...</td>\n",
       "      <td>...</td>\n",
       "      <td>...</td>\n",
       "      <td>...</td>\n",
       "      <td>...</td>\n",
       "      <td>...</td>\n",
       "      <td>...</td>\n",
       "      <td>...</td>\n",
       "      <td>...</td>\n",
       "      <td>...</td>\n",
       "      <td>...</td>\n",
       "      <td>...</td>\n",
       "      <td>...</td>\n",
       "      <td>...</td>\n",
       "      <td>...</td>\n",
       "      <td>...</td>\n",
       "      <td>...</td>\n",
       "      <td>...</td>\n",
       "    </tr>\n",
       "    <tr>\n",
       "      <th>1855</th>\n",
       "      <td>R_DHy2Rcz9Hym8jgl_1</td>\n",
       "      <td>R_DHy2Rcz9Hym8jgl</td>\n",
       "      <td>16</td>\n",
       "      <td>1.000</td>\n",
       "      <td>1.000</td>\n",
       "      <td>0</td>\n",
       "      <td>0</td>\n",
       "      <td>These days , women are winning in sports . Th...</td>\n",
       "      <td>joy</td>\n",
       "      <td>2</td>\n",
       "      <td>...</td>\n",
       "      <td>7.0</td>\n",
       "      <td>5.000</td>\n",
       "      <td>1.286</td>\n",
       "      <td>4.286</td>\n",
       "      <td>4.429</td>\n",
       "      <td>1.000</td>\n",
       "      <td>1.000</td>\n",
       "      <td>joy</td>\n",
       "      <td>0</td>\n",
       "      <td>0</td>\n",
       "    </tr>\n",
       "    <tr>\n",
       "      <th>1856</th>\n",
       "      <td>R_DHy2Rcz9Hym8jgl_2</td>\n",
       "      <td>R_DHy2Rcz9Hym8jgl</td>\n",
       "      <td>158</td>\n",
       "      <td>1.000</td>\n",
       "      <td>1.000</td>\n",
       "      <td>0</td>\n",
       "      <td>0</td>\n",
       "      <td>I hate SIS . They are a group full of hate an...</td>\n",
       "      <td>anger</td>\n",
       "      <td>2</td>\n",
       "      <td>...</td>\n",
       "      <td>7.0</td>\n",
       "      <td>5.000</td>\n",
       "      <td>1.286</td>\n",
       "      <td>4.286</td>\n",
       "      <td>4.429</td>\n",
       "      <td>1.000</td>\n",
       "      <td>1.000</td>\n",
       "      <td>anger</td>\n",
       "      <td>0</td>\n",
       "      <td>0</td>\n",
       "    </tr>\n",
       "    <tr>\n",
       "      <th>1857</th>\n",
       "      <td>R_DHy2Rcz9Hym8jgl_3</td>\n",
       "      <td>R_DHy2Rcz9Hym8jgl</td>\n",
       "      <td>203</td>\n",
       "      <td>1.000</td>\n",
       "      <td>1.000</td>\n",
       "      <td>0</td>\n",
       "      <td>0</td>\n",
       "      <td>This is just disgusting . I cannot believe th...</td>\n",
       "      <td>disgust</td>\n",
       "      <td>2</td>\n",
       "      <td>...</td>\n",
       "      <td>7.0</td>\n",
       "      <td>5.000</td>\n",
       "      <td>1.286</td>\n",
       "      <td>4.286</td>\n",
       "      <td>4.429</td>\n",
       "      <td>1.000</td>\n",
       "      <td>1.000</td>\n",
       "      <td>disgust</td>\n",
       "      <td>0</td>\n",
       "      <td>0</td>\n",
       "    </tr>\n",
       "    <tr>\n",
       "      <th>1858</th>\n",
       "      <td>R_DHy2Rcz9Hym8jgl_4</td>\n",
       "      <td>R_DHy2Rcz9Hym8jgl</td>\n",
       "      <td>253</td>\n",
       "      <td>1.000</td>\n",
       "      <td>1.000</td>\n",
       "      <td>0</td>\n",
       "      <td>0</td>\n",
       "      <td>I feel like the world is so corrupt that it n...</td>\n",
       "      <td>sadness</td>\n",
       "      <td>2</td>\n",
       "      <td>...</td>\n",
       "      <td>7.0</td>\n",
       "      <td>5.000</td>\n",
       "      <td>1.286</td>\n",
       "      <td>4.286</td>\n",
       "      <td>4.429</td>\n",
       "      <td>1.000</td>\n",
       "      <td>1.000</td>\n",
       "      <td>sadness</td>\n",
       "      <td>0</td>\n",
       "      <td>0</td>\n",
       "    </tr>\n",
       "    <tr>\n",
       "      <th>1859</th>\n",
       "      <td>R_DHy2Rcz9Hym8jgl_5</td>\n",
       "      <td>R_DHy2Rcz9Hym8jgl</td>\n",
       "      <td>344</td>\n",
       "      <td>1.000</td>\n",
       "      <td>1.000</td>\n",
       "      <td>0</td>\n",
       "      <td>0</td>\n",
       "      <td>This is such a weird experience and so unexpl...</td>\n",
       "      <td>sadness</td>\n",
       "      <td>2</td>\n",
       "      <td>...</td>\n",
       "      <td>7.0</td>\n",
       "      <td>5.000</td>\n",
       "      <td>1.286</td>\n",
       "      <td>4.286</td>\n",
       "      <td>4.429</td>\n",
       "      <td>1.000</td>\n",
       "      <td>1.000</td>\n",
       "      <td>sadness</td>\n",
       "      <td>0</td>\n",
       "      <td>0</td>\n",
       "    </tr>\n",
       "  </tbody>\n",
       "</table>\n",
       "<p>1860 rows × 28 columns</p>\n",
       "</div>"
      ],
      "text/plain": [
       "               message_id        response_id  article_id  empathy  distress  \\\n",
       "0     R_1hGrPtWM4SumG0U_1  R_1hGrPtWM4SumG0U          67    5.667     4.375   \n",
       "1     R_1hGrPtWM4SumG0U_2  R_1hGrPtWM4SumG0U          86    4.833     4.875   \n",
       "2     R_1hGrPtWM4SumG0U_3  R_1hGrPtWM4SumG0U         206    5.333     3.500   \n",
       "3     R_1hGrPtWM4SumG0U_4  R_1hGrPtWM4SumG0U         290    4.167     5.250   \n",
       "4     R_1hGrPtWM4SumG0U_5  R_1hGrPtWM4SumG0U         342    5.333     4.625   \n",
       "...                   ...                ...         ...      ...       ...   \n",
       "1855  R_DHy2Rcz9Hym8jgl_1  R_DHy2Rcz9Hym8jgl          16    1.000     1.000   \n",
       "1856  R_DHy2Rcz9Hym8jgl_2  R_DHy2Rcz9Hym8jgl         158    1.000     1.000   \n",
       "1857  R_DHy2Rcz9Hym8jgl_3  R_DHy2Rcz9Hym8jgl         203    1.000     1.000   \n",
       "1858  R_DHy2Rcz9Hym8jgl_4  R_DHy2Rcz9Hym8jgl         253    1.000     1.000   \n",
       "1859  R_DHy2Rcz9Hym8jgl_5  R_DHy2Rcz9Hym8jgl         344    1.000     1.000   \n",
       "\n",
       "      empathy_bin  distress_bin  \\\n",
       "0               1             1   \n",
       "1               1             1   \n",
       "2               1             0   \n",
       "3               1             1   \n",
       "4               1             1   \n",
       "...           ...           ...   \n",
       "1855            0             0   \n",
       "1856            0             0   \n",
       "1857            0             0   \n",
       "1858            0             0   \n",
       "1859            0             0   \n",
       "\n",
       "                                                  essay  emotion  gender  ...  \\\n",
       "0      it is really disheartening to read about thes...  sadness       1  ...   \n",
       "1      the phone lines from the suicide prevention l...  sadness       1  ...   \n",
       "2      no matter what your heritage , you should be ...  neutral       1  ...   \n",
       "3      it is frightening to learn about all these sh...     fear       1  ...   \n",
       "4      the eldest generation of russians are not bei...  sadness       1  ...   \n",
       "...                                                 ...      ...     ...  ...   \n",
       "1855   These days , women are winning in sports . Th...      joy       2  ...   \n",
       "1856   I hate SIS . They are a group full of hate an...    anger       2  ...   \n",
       "1857   This is just disgusting . I cannot believe th...  disgust       2  ...   \n",
       "1858   I feel like the world is so corrupt that it n...  sadness       2  ...   \n",
       "1859   This is such a weird experience and so unexpl...  sadness       2  ...   \n",
       "\n",
       "      personality_stability  iri_perspective_taking  iri_personal_distress  \\\n",
       "0                       5.5                   3.571                  2.000   \n",
       "1                       5.5                   3.571                  2.000   \n",
       "2                       5.5                   3.571                  2.000   \n",
       "3                       5.5                   3.571                  2.000   \n",
       "4                       5.5                   3.571                  2.000   \n",
       "...                     ...                     ...                    ...   \n",
       "1855                    7.0                   5.000                  1.286   \n",
       "1856                    7.0                   5.000                  1.286   \n",
       "1857                    7.0                   5.000                  1.286   \n",
       "1858                    7.0                   5.000                  1.286   \n",
       "1859                    7.0                   5.000                  1.286   \n",
       "\n",
       "      iri_fantasy  iri_empathatic_concern  gold_empathy  gold_distress  \\\n",
       "0           3.429                   4.000         5.667          4.375   \n",
       "1           3.429                   4.000         4.833          4.875   \n",
       "2           3.429                   4.000         5.333          3.500   \n",
       "3           3.429                   4.000         4.167          5.250   \n",
       "4           3.429                   4.000         5.333          4.625   \n",
       "...           ...                     ...           ...            ...   \n",
       "1855        4.286                   4.429         1.000          1.000   \n",
       "1856        4.286                   4.429         1.000          1.000   \n",
       "1857        4.286                   4.429         1.000          1.000   \n",
       "1858        4.286                   4.429         1.000          1.000   \n",
       "1859        4.286                   4.429         1.000          1.000   \n",
       "\n",
       "      gold_emotion  gold_empathy_bin  gold_distress_bin  \n",
       "0          sadness                 1                  1  \n",
       "1          sadness                 1                  1  \n",
       "2          neutral                 1                  0  \n",
       "3             fear                 1                  1  \n",
       "4          sadness                 1                  1  \n",
       "...            ...               ...                ...  \n",
       "1855           joy                 0                  0  \n",
       "1856         anger                 0                  0  \n",
       "1857       disgust                 0                  0  \n",
       "1858       sadness                 0                  0  \n",
       "1859       sadness                 0                  0  \n",
       "\n",
       "[1860 rows x 28 columns]"
      ]
     },
     "execution_count": 32,
     "metadata": {},
     "output_type": "execute_result"
    }
   ],
   "source": [
    "train_data = utils.read_data(\"../dataset/train/train-empathy-distress-prediction-task-normalized.csv\")\n",
    "train_data"
   ]
  },
  {
   "cell_type": "code",
   "execution_count": 55,
   "metadata": {},
   "outputs": [
    {
     "data": {
      "image/png": "[encoded data removed]",
      "text/plain": [
       "<Figure size 432x288 with 1 Axes>"
      ]
     },
     "metadata": {
      "needs_background": "light"
     },
     "output_type": "display_data"
    }
   ],
   "source": [
    "plt.hist(data.age.values.tolist())\n",
    "plt.show()"
   ]
  },
  {
   "cell_type": "code",
   "execution_count": 56,
   "metadata": {},
   "outputs": [
    {
     "data": {
      "image/png": "[encoded data removed]",
      "text/plain": [
       "<Figure size 432x288 with 1 Axes>"
      ]
     },
     "metadata": {
      "needs_background": "light"
     },
     "output_type": "display_data"
    }
   ],
   "source": [
    "plt.hist(data.income.values.tolist())\n",
    "plt.show()"
   ]
  },
  {
   "cell_type": "code",
   "execution_count": 57,
   "metadata": {},
   "outputs": [
    {
     "data": {
      "image/png": "[encoded data removed]",
      "text/plain": [
       "<Figure size 432x288 with 1 Axes>"
      ]
     },
     "metadata": {
      "needs_background": "light"
     },
     "output_type": "display_data"
    }
   ],
   "source": [
    "plt.hist(data.empathy.values.tolist())\n",
    "plt.show()"
   ]
  },
  {
   "cell_type": "code",
   "execution_count": 58,
   "metadata": {},
   "outputs": [
    {
     "data": {
      "image/png": "[encoded data removed]",
      "text/plain": [
       "<Figure size 432x288 with 1 Axes>"
      ]
     },
     "metadata": {
      "needs_background": "light"
     },
     "output_type": "display_data"
    }
   ],
   "source": [
    "plt.hist(data.distress.values.tolist())\n",
    "plt.show()"
   ]
  },
  {
   "cell_type": "code",
   "execution_count": 59,
   "metadata": {},
   "outputs": [
    {
     "data": {
      "text/plain": [
       "Index(['message_id', 'response_id', 'article_id', 'empathy', 'distress',\n",
       "       'empathy_bin', 'distress_bin', 'essay', 'emotion', 'gender',\n",
       "       'education', 'race', 'age', 'income', 'personality_conscientiousness',\n",
       "       'personality_openess', 'personality_extraversion',\n",
       "       'personality_agreeableness', 'personality_stability',\n",
       "       'iri_perspective_taking', 'iri_personal_distress', 'iri_fantasy',\n",
       "       'iri_empathatic_concern', 'gold_empathy', 'gold_distress',\n",
       "       'gold_emotion', 'gold_empathy_bin', 'gold_distress_bin',\n",
       "       'normalized_age', 'scaled_age', 'scaled_age_1_7', 'normalized_income',\n",
       "       'scaled_income', 'scaled_income_1_7'],\n",
       "      dtype='object')"
      ]
     },
     "execution_count": 59,
     "metadata": {},
     "output_type": "execute_result"
    }
   ],
   "source": [
    "data.columns"
   ]
  },
  {
   "cell_type": "code",
   "execution_count": 60,
   "metadata": {},
   "outputs": [
    {
     "data": {
      "image/png": "[encoded data removed]",
      "text/plain": [
       "<Figure size 432x288 with 1 Axes>"
      ]
     },
     "metadata": {
      "needs_background": "light"
     },
     "output_type": "display_data"
    }
   ],
   "source": [
    "plt.hist(data.personality_conscientiousness.values.tolist())\n",
    "plt.show()"
   ]
  },
  {
   "cell_type": "code",
   "execution_count": 61,
   "metadata": {},
   "outputs": [
    {
     "data": {
      "image/png": "[encoded data removed]",
      "text/plain": [
       "<Figure size 432x288 with 1 Axes>"
      ]
     },
     "metadata": {
      "needs_background": "light"
     },
     "output_type": "display_data"
    }
   ],
   "source": [
    "plt.hist(data.personality_openess.values.tolist())\n",
    "plt.show()"
   ]
  },
  {
   "cell_type": "code",
   "execution_count": 62,
   "metadata": {},
   "outputs": [
    {
     "data": {
      "image/png": "[encoded data removed]",
      "text/plain": [
       "<Figure size 432x288 with 1 Axes>"
      ]
     },
     "metadata": {
      "needs_background": "light"
     },
     "output_type": "display_data"
    }
   ],
   "source": [
    "plt.hist(data.personality_extraversion.values.tolist())\n",
    "plt.show()"
   ]
  },
  {
   "cell_type": "code",
   "execution_count": 63,
   "metadata": {},
   "outputs": [
    {
     "data": {
      "image/png": "[encoded data removed]",
      "text/plain": [
       "<Figure size 432x288 with 1 Axes>"
      ]
     },
     "metadata": {
      "needs_background": "light"
     },
     "output_type": "display_data"
    }
   ],
   "source": [
    "plt.hist(data.personality_agreeableness.values.tolist())\n",
    "plt.show()"
   ]
  },
  {
   "cell_type": "code",
   "execution_count": 64,
   "metadata": {},
   "outputs": [
    {
     "data": {
      "image/png": "[encoded data removed]",
      "text/plain": [
       "<Figure size 432x288 with 1 Axes>"
      ]
     },
     "metadata": {
      "needs_background": "light"
     },
     "output_type": "display_data"
    }
   ],
   "source": [
    "plt.hist(data.personality_stability.values.tolist())\n",
    "plt.show()"
   ]
  },
  {
   "cell_type": "code",
   "execution_count": 65,
   "metadata": {},
   "outputs": [
    {
     "data": {
      "image/png": "[encoded data removed]",
      "text/plain": [
       "<Figure size 432x288 with 1 Axes>"
      ]
     },
     "metadata": {
      "needs_background": "light"
     },
     "output_type": "display_data"
    }
   ],
   "source": [
    "plt.hist(data.iri_perspective_taking.values.tolist())\n",
    "plt.show()"
   ]
  },
  {
   "cell_type": "code",
   "execution_count": 69,
   "metadata": {},
   "outputs": [
    {
     "data": {
      "image/png": "[encoded data removed]",
      "text/plain": [
       "<Figure size 432x288 with 1 Axes>"
      ]
     },
     "metadata": {
      "needs_background": "light"
     },
     "output_type": "display_data"
    }
   ],
   "source": [
    "plt.hist(data.iri_personal_distress.values.tolist())\n",
    "plt.show()"
   ]
  },
  {
   "cell_type": "code",
   "execution_count": 67,
   "metadata": {},
   "outputs": [
    {
     "data": {
      "image/png": "[encoded data removed]",
      "text/plain": [
       "<Figure size 432x288 with 1 Axes>"
      ]
     },
     "metadata": {
      "needs_background": "light"
     },
     "output_type": "display_data"
    }
   ],
   "source": [
    "plt.hist(data.iri_fantasy.values.tolist())\n",
    "plt.show()"
   ]
  },
  {
   "cell_type": "code",
   "execution_count": 68,
   "metadata": {},
   "outputs": [
    {
     "data": {
      "image/png": "[encoded data removed]",
      "text/plain": [
       "<Figure size 432x288 with 1 Axes>"
      ]
     },
     "metadata": {
      "needs_background": "light"
     },
     "output_type": "display_data"
    }
   ],
   "source": [
    "plt.hist(data.iri_empathatic_concern.values.tolist())\n",
    "plt.show()"
   ]
  },
  {
   "cell_type": "code",
   "execution_count": 43,
   "metadata": {},
   "outputs": [],
   "source": [
    "std_scaler = StandardScaler()\n",
    "minmax_scaler = MinMaxScaler()\n",
    "minmax_scaler_1_7 = MinMaxScaler(feature_range=(1, 7))"
   ]
  },
  {
   "cell_type": "code",
   "execution_count": 44,
   "metadata": {},
   "outputs": [
    {
     "data": {
      "text/html": [
       "<div>\n",
       "<style scoped>\n",
       "    .dataframe tbody tr th:only-of-type {\n",
       "        vertical-align: middle;\n",
       "    }\n",
       "\n",
       "    .dataframe tbody tr th {\n",
       "        vertical-align: top;\n",
       "    }\n",
       "\n",
       "    .dataframe thead th {\n",
       "        text-align: right;\n",
       "    }\n",
       "</style>\n",
       "<table border=\"1\" class=\"dataframe\">\n",
       "  <thead>\n",
       "    <tr style=\"text-align: right;\">\n",
       "      <th></th>\n",
       "      <th>age</th>\n",
       "      <th>normalized_age</th>\n",
       "      <th>scaled_age</th>\n",
       "      <th>scaled_age_1_7</th>\n",
       "    </tr>\n",
       "  </thead>\n",
       "  <tbody>\n",
       "    <tr>\n",
       "      <th>0</th>\n",
       "      <td>33</td>\n",
       "      <td>-0.228791</td>\n",
       "      <td>0.285714</td>\n",
       "      <td>2.714286</td>\n",
       "    </tr>\n",
       "    <tr>\n",
       "      <th>1</th>\n",
       "      <td>33</td>\n",
       "      <td>-0.228791</td>\n",
       "      <td>0.285714</td>\n",
       "      <td>2.714286</td>\n",
       "    </tr>\n",
       "    <tr>\n",
       "      <th>2</th>\n",
       "      <td>33</td>\n",
       "      <td>-0.228791</td>\n",
       "      <td>0.285714</td>\n",
       "      <td>2.714286</td>\n",
       "    </tr>\n",
       "    <tr>\n",
       "      <th>3</th>\n",
       "      <td>33</td>\n",
       "      <td>-0.228791</td>\n",
       "      <td>0.285714</td>\n",
       "      <td>2.714286</td>\n",
       "    </tr>\n",
       "    <tr>\n",
       "      <th>4</th>\n",
       "      <td>33</td>\n",
       "      <td>-0.228791</td>\n",
       "      <td>0.285714</td>\n",
       "      <td>2.714286</td>\n",
       "    </tr>\n",
       "    <tr>\n",
       "      <th>...</th>\n",
       "      <td>...</td>\n",
       "      <td>...</td>\n",
       "      <td>...</td>\n",
       "      <td>...</td>\n",
       "    </tr>\n",
       "    <tr>\n",
       "      <th>1855</th>\n",
       "      <td>34</td>\n",
       "      <td>-0.130055</td>\n",
       "      <td>0.306122</td>\n",
       "      <td>2.836735</td>\n",
       "    </tr>\n",
       "    <tr>\n",
       "      <th>1856</th>\n",
       "      <td>34</td>\n",
       "      <td>-0.130055</td>\n",
       "      <td>0.306122</td>\n",
       "      <td>2.836735</td>\n",
       "    </tr>\n",
       "    <tr>\n",
       "      <th>1857</th>\n",
       "      <td>34</td>\n",
       "      <td>-0.130055</td>\n",
       "      <td>0.306122</td>\n",
       "      <td>2.836735</td>\n",
       "    </tr>\n",
       "    <tr>\n",
       "      <th>1858</th>\n",
       "      <td>34</td>\n",
       "      <td>-0.130055</td>\n",
       "      <td>0.306122</td>\n",
       "      <td>2.836735</td>\n",
       "    </tr>\n",
       "    <tr>\n",
       "      <th>1859</th>\n",
       "      <td>34</td>\n",
       "      <td>-0.130055</td>\n",
       "      <td>0.306122</td>\n",
       "      <td>2.836735</td>\n",
       "    </tr>\n",
       "  </tbody>\n",
       "</table>\n",
       "<p>1860 rows × 4 columns</p>\n",
       "</div>"
      ],
      "text/plain": [
       "      age  normalized_age  scaled_age  scaled_age_1_7\n",
       "0      33       -0.228791    0.285714        2.714286\n",
       "1      33       -0.228791    0.285714        2.714286\n",
       "2      33       -0.228791    0.285714        2.714286\n",
       "3      33       -0.228791    0.285714        2.714286\n",
       "4      33       -0.228791    0.285714        2.714286\n",
       "...   ...             ...         ...             ...\n",
       "1855   34       -0.130055    0.306122        2.836735\n",
       "1856   34       -0.130055    0.306122        2.836735\n",
       "1857   34       -0.130055    0.306122        2.836735\n",
       "1858   34       -0.130055    0.306122        2.836735\n",
       "1859   34       -0.130055    0.306122        2.836735\n",
       "\n",
       "[1860 rows x 4 columns]"
      ]
     },
     "execution_count": 44,
     "metadata": {},
     "output_type": "execute_result"
    }
   ],
   "source": [
    "age = np.reshape(data.age.values.tolist(), (len(data), 1))\n",
    "normalized_age = std_scaler.fit_transform(age)\n",
    "data['normalized_age'] = normalized_age\n",
    "scaled_age = minmax_scaler.fit_transform(age)\n",
    "data['scaled_age'] = scaled_age\n",
    "scaled_age_1_7 = minmax_scaler_1_7.fit_transform(age)\n",
    "data['scaled_age_1_7'] = scaled_age_1_7\n",
    "data[['age', 'normalized_age', 'scaled_age', 'scaled_age_1_7']]"
   ]
  },
  {
   "cell_type": "code",
   "execution_count": 45,
   "metadata": {},
   "outputs": [
    {
     "data": {
      "text/html": [
       "<div>\n",
       "<style scoped>\n",
       "    .dataframe tbody tr th:only-of-type {\n",
       "        vertical-align: middle;\n",
       "    }\n",
       "\n",
       "    .dataframe tbody tr th {\n",
       "        vertical-align: top;\n",
       "    }\n",
       "\n",
       "    .dataframe thead th {\n",
       "        text-align: right;\n",
       "    }\n",
       "</style>\n",
       "<table border=\"1\" class=\"dataframe\">\n",
       "  <thead>\n",
       "    <tr style=\"text-align: right;\">\n",
       "      <th></th>\n",
       "      <th>income</th>\n",
       "      <th>normalized_income</th>\n",
       "      <th>scaled_income</th>\n",
       "      <th>scaled_income_1_7</th>\n",
       "    </tr>\n",
       "  </thead>\n",
       "  <tbody>\n",
       "    <tr>\n",
       "      <th>0</th>\n",
       "      <td>50000</td>\n",
       "      <td>-0.121785</td>\n",
       "      <td>0.049905</td>\n",
       "      <td>1.299430</td>\n",
       "    </tr>\n",
       "    <tr>\n",
       "      <th>1</th>\n",
       "      <td>50000</td>\n",
       "      <td>-0.121785</td>\n",
       "      <td>0.049905</td>\n",
       "      <td>1.299430</td>\n",
       "    </tr>\n",
       "    <tr>\n",
       "      <th>2</th>\n",
       "      <td>50000</td>\n",
       "      <td>-0.121785</td>\n",
       "      <td>0.049905</td>\n",
       "      <td>1.299430</td>\n",
       "    </tr>\n",
       "    <tr>\n",
       "      <th>3</th>\n",
       "      <td>50000</td>\n",
       "      <td>-0.121785</td>\n",
       "      <td>0.049905</td>\n",
       "      <td>1.299430</td>\n",
       "    </tr>\n",
       "    <tr>\n",
       "      <th>4</th>\n",
       "      <td>50000</td>\n",
       "      <td>-0.121785</td>\n",
       "      <td>0.049905</td>\n",
       "      <td>1.299430</td>\n",
       "    </tr>\n",
       "    <tr>\n",
       "      <th>...</th>\n",
       "      <td>...</td>\n",
       "      <td>...</td>\n",
       "      <td>...</td>\n",
       "      <td>...</td>\n",
       "    </tr>\n",
       "    <tr>\n",
       "      <th>1855</th>\n",
       "      <td>30000</td>\n",
       "      <td>-0.431083</td>\n",
       "      <td>0.029903</td>\n",
       "      <td>1.179418</td>\n",
       "    </tr>\n",
       "    <tr>\n",
       "      <th>1856</th>\n",
       "      <td>30000</td>\n",
       "      <td>-0.431083</td>\n",
       "      <td>0.029903</td>\n",
       "      <td>1.179418</td>\n",
       "    </tr>\n",
       "    <tr>\n",
       "      <th>1857</th>\n",
       "      <td>30000</td>\n",
       "      <td>-0.431083</td>\n",
       "      <td>0.029903</td>\n",
       "      <td>1.179418</td>\n",
       "    </tr>\n",
       "    <tr>\n",
       "      <th>1858</th>\n",
       "      <td>30000</td>\n",
       "      <td>-0.431083</td>\n",
       "      <td>0.029903</td>\n",
       "      <td>1.179418</td>\n",
       "    </tr>\n",
       "    <tr>\n",
       "      <th>1859</th>\n",
       "      <td>30000</td>\n",
       "      <td>-0.431083</td>\n",
       "      <td>0.029903</td>\n",
       "      <td>1.179418</td>\n",
       "    </tr>\n",
       "  </tbody>\n",
       "</table>\n",
       "<p>1860 rows × 4 columns</p>\n",
       "</div>"
      ],
      "text/plain": [
       "      income  normalized_income  scaled_income  scaled_income_1_7\n",
       "0      50000          -0.121785       0.049905           1.299430\n",
       "1      50000          -0.121785       0.049905           1.299430\n",
       "2      50000          -0.121785       0.049905           1.299430\n",
       "3      50000          -0.121785       0.049905           1.299430\n",
       "4      50000          -0.121785       0.049905           1.299430\n",
       "...      ...                ...            ...                ...\n",
       "1855   30000          -0.431083       0.029903           1.179418\n",
       "1856   30000          -0.431083       0.029903           1.179418\n",
       "1857   30000          -0.431083       0.029903           1.179418\n",
       "1858   30000          -0.431083       0.029903           1.179418\n",
       "1859   30000          -0.431083       0.029903           1.179418\n",
       "\n",
       "[1860 rows x 4 columns]"
      ]
     },
     "execution_count": 45,
     "metadata": {},
     "output_type": "execute_result"
    }
   ],
   "source": [
    "income = np.reshape(data.income.values.tolist(), (len(data), 1))\n",
    "normalized_income = std_scaler.fit_transform(income)\n",
    "data['normalized_income'] = normalized_income\n",
    "scaled_income = minmax_scaler.fit_transform(income)\n",
    "data['scaled_income'] = scaled_income\n",
    "scaled_income_1_7 = minmax_scaler_1_7.fit_transform(income)\n",
    "data['scaled_income_1_7'] = scaled_income_1_7\n",
    "data[['income', 'normalized_income', 'scaled_income', 'scaled_income_1_7']]"
   ]
  },
  {
   "cell_type": "code",
   "execution_count": 48,
   "metadata": {},
   "outputs": [],
   "source": [
    "from scipy.stats import pearsonr"
   ]
  },
  {
   "cell_type": "code",
   "execution_count": 47,
   "metadata": {},
   "outputs": [
    {
     "data": {
      "text/plain": [
       "[1000000.0, 14.56984480532354, 1.0000000000000002, 7.0]"
      ]
     },
     "execution_count": 47,
     "metadata": {},
     "output_type": "execute_result"
    }
   ],
   "source": [
    "max(data[['income', 'normalized_income', 'scaled_income', 'scaled_income_1_7']].values.tolist())"
   ]
  },
  {
   "cell_type": "code",
   "execution_count": 34,
   "metadata": {},
   "outputs": [],
   "source": [
    "def categorize_age(age):\n",
    "        if age >0 and age <=25:\n",
    "            return 0\n",
    "        elif age >25 and age <=40:\n",
    "            return 1\n",
    "        elif age >40 and age <=60:\n",
    "            return 2\n",
    "        elif age >60:\n",
    "            return 3"
   ]
  },
  {
   "cell_type": "code",
   "execution_count": 35,
   "metadata": {},
   "outputs": [
    {
     "name": "stdout",
     "output_type": "stream",
     "text": [
      "1860\n",
      "1    1195\n",
      "2     375\n",
      "0     230\n",
      "3      60\n",
      "Name: age_bin, dtype: int64\n"
     ]
    }
   ],
   "source": [
    "train_data['age_bin'] = train_data.age.apply(lambda x: categorize_age(x))\n",
    "print(sum((train_data.age_bin.value_counts())))\n",
    "print((train_data.age_bin.value_counts()))"
   ]
  },
  {
   "cell_type": "code",
   "execution_count": 36,
   "metadata": {
    "scrolled": false
   },
   "outputs": [
    {
     "data": {
      "text/html": [
       "<div>\n",
       "<style scoped>\n",
       "    .dataframe tbody tr th:only-of-type {\n",
       "        vertical-align: middle;\n",
       "    }\n",
       "\n",
       "    .dataframe tbody tr th {\n",
       "        vertical-align: top;\n",
       "    }\n",
       "\n",
       "    .dataframe thead th {\n",
       "        text-align: right;\n",
       "    }\n",
       "</style>\n",
       "<table border=\"1\" class=\"dataframe\">\n",
       "  <thead>\n",
       "    <tr style=\"text-align: right;\">\n",
       "      <th></th>\n",
       "      <th>message_id</th>\n",
       "      <th>response_id</th>\n",
       "      <th>article_id</th>\n",
       "      <th>essay</th>\n",
       "      <th>gender</th>\n",
       "      <th>education</th>\n",
       "      <th>race</th>\n",
       "      <th>age</th>\n",
       "      <th>income</th>\n",
       "      <th>personality_conscientiousness</th>\n",
       "      <th>...</th>\n",
       "      <th>personality_stability</th>\n",
       "      <th>iri_perspective_taking</th>\n",
       "      <th>iri_personal_distress</th>\n",
       "      <th>iri_fantasy</th>\n",
       "      <th>iri_empathatic_concern</th>\n",
       "      <th>gold_empathy</th>\n",
       "      <th>gold_distress</th>\n",
       "      <th>gold_emotion</th>\n",
       "      <th>gold_empathy_bin</th>\n",
       "      <th>gold_distress_bin</th>\n",
       "    </tr>\n",
       "  </thead>\n",
       "  <tbody>\n",
       "    <tr>\n",
       "      <th>0</th>\n",
       "      <td>R_3QLVVnAgRBRH41U_1</td>\n",
       "      <td>R_3QLVVnAgRBRH41U</td>\n",
       "      <td>13</td>\n",
       "      <td>The story about the air strikes is very sadde...</td>\n",
       "      <td>1.0</td>\n",
       "      <td>4.0</td>\n",
       "      <td>3.0</td>\n",
       "      <td>20.0</td>\n",
       "      <td>24000.0</td>\n",
       "      <td>5.5</td>\n",
       "      <td>...</td>\n",
       "      <td>4.5</td>\n",
       "      <td>4.429</td>\n",
       "      <td>2.286</td>\n",
       "      <td>4.143</td>\n",
       "      <td>3.143</td>\n",
       "      <td>7.000</td>\n",
       "      <td>7.000</td>\n",
       "      <td>sadness</td>\n",
       "      <td>1</td>\n",
       "      <td>1</td>\n",
       "    </tr>\n",
       "    <tr>\n",
       "      <th>1</th>\n",
       "      <td>R_3QLVVnAgRBRH41U_2</td>\n",
       "      <td>R_3QLVVnAgRBRH41U</td>\n",
       "      <td>127</td>\n",
       "      <td>It is clear that climate change is something ...</td>\n",
       "      <td>1.0</td>\n",
       "      <td>4.0</td>\n",
       "      <td>3.0</td>\n",
       "      <td>20.0</td>\n",
       "      <td>24000.0</td>\n",
       "      <td>5.5</td>\n",
       "      <td>...</td>\n",
       "      <td>4.5</td>\n",
       "      <td>4.429</td>\n",
       "      <td>2.286</td>\n",
       "      <td>4.143</td>\n",
       "      <td>3.143</td>\n",
       "      <td>3.167</td>\n",
       "      <td>3.625</td>\n",
       "      <td>sadness</td>\n",
       "      <td>0</td>\n",
       "      <td>0</td>\n",
       "    </tr>\n",
       "    <tr>\n",
       "      <th>2</th>\n",
       "      <td>R_3QLVVnAgRBRH41U_3</td>\n",
       "      <td>R_3QLVVnAgRBRH41U</td>\n",
       "      <td>188</td>\n",
       "      <td>I did not know this comedian but thinking abo...</td>\n",
       "      <td>1.0</td>\n",
       "      <td>4.0</td>\n",
       "      <td>3.0</td>\n",
       "      <td>20.0</td>\n",
       "      <td>24000.0</td>\n",
       "      <td>5.5</td>\n",
       "      <td>...</td>\n",
       "      <td>4.5</td>\n",
       "      <td>4.429</td>\n",
       "      <td>2.286</td>\n",
       "      <td>4.143</td>\n",
       "      <td>3.143</td>\n",
       "      <td>4.500</td>\n",
       "      <td>3.125</td>\n",
       "      <td>fear</td>\n",
       "      <td>1</td>\n",
       "      <td>0</td>\n",
       "    </tr>\n",
       "    <tr>\n",
       "      <th>3</th>\n",
       "      <td>R_3QLVVnAgRBRH41U_4</td>\n",
       "      <td>R_3QLVVnAgRBRH41U</td>\n",
       "      <td>307</td>\n",
       "      <td>I am an affirmed believer that your punishmen...</td>\n",
       "      <td>1.0</td>\n",
       "      <td>4.0</td>\n",
       "      <td>3.0</td>\n",
       "      <td>20.0</td>\n",
       "      <td>24000.0</td>\n",
       "      <td>5.5</td>\n",
       "      <td>...</td>\n",
       "      <td>4.5</td>\n",
       "      <td>4.429</td>\n",
       "      <td>2.286</td>\n",
       "      <td>4.143</td>\n",
       "      <td>3.143</td>\n",
       "      <td>2.000</td>\n",
       "      <td>2.000</td>\n",
       "      <td>anger</td>\n",
       "      <td>0</td>\n",
       "      <td>0</td>\n",
       "    </tr>\n",
       "    <tr>\n",
       "      <th>4</th>\n",
       "      <td>R_3QLVVnAgRBRH41U_5</td>\n",
       "      <td>R_3QLVVnAgRBRH41U</td>\n",
       "      <td>409</td>\n",
       "      <td>Okay , I hate hearing about disease outbreaks...</td>\n",
       "      <td>1.0</td>\n",
       "      <td>4.0</td>\n",
       "      <td>3.0</td>\n",
       "      <td>20.0</td>\n",
       "      <td>24000.0</td>\n",
       "      <td>5.5</td>\n",
       "      <td>...</td>\n",
       "      <td>4.5</td>\n",
       "      <td>4.429</td>\n",
       "      <td>2.286</td>\n",
       "      <td>4.143</td>\n",
       "      <td>3.143</td>\n",
       "      <td>4.500</td>\n",
       "      <td>4.625</td>\n",
       "      <td>anger</td>\n",
       "      <td>1</td>\n",
       "      <td>1</td>\n",
       "    </tr>\n",
       "    <tr>\n",
       "      <th>...</th>\n",
       "      <td>...</td>\n",
       "      <td>...</td>\n",
       "      <td>...</td>\n",
       "      <td>...</td>\n",
       "      <td>...</td>\n",
       "      <td>...</td>\n",
       "      <td>...</td>\n",
       "      <td>...</td>\n",
       "      <td>...</td>\n",
       "      <td>...</td>\n",
       "      <td>...</td>\n",
       "      <td>...</td>\n",
       "      <td>...</td>\n",
       "      <td>...</td>\n",
       "      <td>...</td>\n",
       "      <td>...</td>\n",
       "      <td>...</td>\n",
       "      <td>...</td>\n",
       "      <td>...</td>\n",
       "      <td>...</td>\n",
       "      <td>...</td>\n",
       "    </tr>\n",
       "    <tr>\n",
       "      <th>265</th>\n",
       "      <td>R_r3CoQ7YjIwxVvJT_1</td>\n",
       "      <td>R_r3CoQ7YjIwxVvJT</td>\n",
       "      <td>2</td>\n",
       "      <td>While I feel bad for the arrest charges , I d...</td>\n",
       "      <td>2.0</td>\n",
       "      <td>2.0</td>\n",
       "      <td>1.0</td>\n",
       "      <td>37.0</td>\n",
       "      <td>93000.0</td>\n",
       "      <td>4.0</td>\n",
       "      <td>...</td>\n",
       "      <td>2.5</td>\n",
       "      <td>3.857</td>\n",
       "      <td>4.143</td>\n",
       "      <td>4.286</td>\n",
       "      <td>3.286</td>\n",
       "      <td>2.000</td>\n",
       "      <td>2.250</td>\n",
       "      <td>anger</td>\n",
       "      <td>0</td>\n",
       "      <td>0</td>\n",
       "    </tr>\n",
       "    <tr>\n",
       "      <th>266</th>\n",
       "      <td>R_r3CoQ7YjIwxVvJT_2</td>\n",
       "      <td>R_r3CoQ7YjIwxVvJT</td>\n",
       "      <td>131</td>\n",
       "      <td>This is such a tragedy . All I can think abou...</td>\n",
       "      <td>2.0</td>\n",
       "      <td>2.0</td>\n",
       "      <td>1.0</td>\n",
       "      <td>37.0</td>\n",
       "      <td>93000.0</td>\n",
       "      <td>4.0</td>\n",
       "      <td>...</td>\n",
       "      <td>2.5</td>\n",
       "      <td>3.857</td>\n",
       "      <td>4.143</td>\n",
       "      <td>4.286</td>\n",
       "      <td>3.286</td>\n",
       "      <td>4.500</td>\n",
       "      <td>5.625</td>\n",
       "      <td>fear</td>\n",
       "      <td>1</td>\n",
       "      <td>1</td>\n",
       "    </tr>\n",
       "    <tr>\n",
       "      <th>267</th>\n",
       "      <td>R_r3CoQ7YjIwxVvJT_3</td>\n",
       "      <td>R_r3CoQ7YjIwxVvJT</td>\n",
       "      <td>230</td>\n",
       "      <td>I am still on the fence regarding climate cha...</td>\n",
       "      <td>2.0</td>\n",
       "      <td>2.0</td>\n",
       "      <td>1.0</td>\n",
       "      <td>37.0</td>\n",
       "      <td>93000.0</td>\n",
       "      <td>4.0</td>\n",
       "      <td>...</td>\n",
       "      <td>2.5</td>\n",
       "      <td>3.857</td>\n",
       "      <td>4.143</td>\n",
       "      <td>4.286</td>\n",
       "      <td>3.286</td>\n",
       "      <td>1.833</td>\n",
       "      <td>2.375</td>\n",
       "      <td>neutral</td>\n",
       "      <td>0</td>\n",
       "      <td>0</td>\n",
       "    </tr>\n",
       "    <tr>\n",
       "      <th>268</th>\n",
       "      <td>R_r3CoQ7YjIwxVvJT_4</td>\n",
       "      <td>R_r3CoQ7YjIwxVvJT</td>\n",
       "      <td>326</td>\n",
       "      <td>I can understand why the Jewish community wou...</td>\n",
       "      <td>2.0</td>\n",
       "      <td>2.0</td>\n",
       "      <td>1.0</td>\n",
       "      <td>37.0</td>\n",
       "      <td>93000.0</td>\n",
       "      <td>4.0</td>\n",
       "      <td>...</td>\n",
       "      <td>2.5</td>\n",
       "      <td>3.857</td>\n",
       "      <td>4.143</td>\n",
       "      <td>4.286</td>\n",
       "      <td>3.286</td>\n",
       "      <td>1.833</td>\n",
       "      <td>1.375</td>\n",
       "      <td>joy</td>\n",
       "      <td>0</td>\n",
       "      <td>0</td>\n",
       "    </tr>\n",
       "    <tr>\n",
       "      <th>269</th>\n",
       "      <td>R_r3CoQ7YjIwxVvJT_5</td>\n",
       "      <td>R_r3CoQ7YjIwxVvJT</td>\n",
       "      <td>394</td>\n",
       "      <td>As a woman , it is very discouraging to see t...</td>\n",
       "      <td>2.0</td>\n",
       "      <td>2.0</td>\n",
       "      <td>1.0</td>\n",
       "      <td>37.0</td>\n",
       "      <td>93000.0</td>\n",
       "      <td>4.0</td>\n",
       "      <td>...</td>\n",
       "      <td>2.5</td>\n",
       "      <td>3.857</td>\n",
       "      <td>4.143</td>\n",
       "      <td>4.286</td>\n",
       "      <td>3.286</td>\n",
       "      <td>5.667</td>\n",
       "      <td>4.750</td>\n",
       "      <td>sadness</td>\n",
       "      <td>1</td>\n",
       "      <td>1</td>\n",
       "    </tr>\n",
       "  </tbody>\n",
       "</table>\n",
       "<p>270 rows × 23 columns</p>\n",
       "</div>"
      ],
      "text/plain": [
       "              message_id        response_id  article_id  \\\n",
       "0    R_3QLVVnAgRBRH41U_1  R_3QLVVnAgRBRH41U          13   \n",
       "1    R_3QLVVnAgRBRH41U_2  R_3QLVVnAgRBRH41U         127   \n",
       "2    R_3QLVVnAgRBRH41U_3  R_3QLVVnAgRBRH41U         188   \n",
       "3    R_3QLVVnAgRBRH41U_4  R_3QLVVnAgRBRH41U         307   \n",
       "4    R_3QLVVnAgRBRH41U_5  R_3QLVVnAgRBRH41U         409   \n",
       "..                   ...                ...         ...   \n",
       "265  R_r3CoQ7YjIwxVvJT_1  R_r3CoQ7YjIwxVvJT           2   \n",
       "266  R_r3CoQ7YjIwxVvJT_2  R_r3CoQ7YjIwxVvJT         131   \n",
       "267  R_r3CoQ7YjIwxVvJT_3  R_r3CoQ7YjIwxVvJT         230   \n",
       "268  R_r3CoQ7YjIwxVvJT_4  R_r3CoQ7YjIwxVvJT         326   \n",
       "269  R_r3CoQ7YjIwxVvJT_5  R_r3CoQ7YjIwxVvJT         394   \n",
       "\n",
       "                                                 essay  gender  education  \\\n",
       "0     The story about the air strikes is very sadde...     1.0        4.0   \n",
       "1     It is clear that climate change is something ...     1.0        4.0   \n",
       "2     I did not know this comedian but thinking abo...     1.0        4.0   \n",
       "3     I am an affirmed believer that your punishmen...     1.0        4.0   \n",
       "4     Okay , I hate hearing about disease outbreaks...     1.0        4.0   \n",
       "..                                                 ...     ...        ...   \n",
       "265   While I feel bad for the arrest charges , I d...     2.0        2.0   \n",
       "266   This is such a tragedy . All I can think abou...     2.0        2.0   \n",
       "267   I am still on the fence regarding climate cha...     2.0        2.0   \n",
       "268   I can understand why the Jewish community wou...     2.0        2.0   \n",
       "269   As a woman , it is very discouraging to see t...     2.0        2.0   \n",
       "\n",
       "     race   age   income  personality_conscientiousness  ...  \\\n",
       "0     3.0  20.0  24000.0                            5.5  ...   \n",
       "1     3.0  20.0  24000.0                            5.5  ...   \n",
       "2     3.0  20.0  24000.0                            5.5  ...   \n",
       "3     3.0  20.0  24000.0                            5.5  ...   \n",
       "4     3.0  20.0  24000.0                            5.5  ...   \n",
       "..    ...   ...      ...                            ...  ...   \n",
       "265   1.0  37.0  93000.0                            4.0  ...   \n",
       "266   1.0  37.0  93000.0                            4.0  ...   \n",
       "267   1.0  37.0  93000.0                            4.0  ...   \n",
       "268   1.0  37.0  93000.0                            4.0  ...   \n",
       "269   1.0  37.0  93000.0                            4.0  ...   \n",
       "\n",
       "     personality_stability  iri_perspective_taking  iri_personal_distress  \\\n",
       "0                      4.5                   4.429                  2.286   \n",
       "1                      4.5                   4.429                  2.286   \n",
       "2                      4.5                   4.429                  2.286   \n",
       "3                      4.5                   4.429                  2.286   \n",
       "4                      4.5                   4.429                  2.286   \n",
       "..                     ...                     ...                    ...   \n",
       "265                    2.5                   3.857                  4.143   \n",
       "266                    2.5                   3.857                  4.143   \n",
       "267                    2.5                   3.857                  4.143   \n",
       "268                    2.5                   3.857                  4.143   \n",
       "269                    2.5                   3.857                  4.143   \n",
       "\n",
       "     iri_fantasy  iri_empathatic_concern  gold_empathy  gold_distress  \\\n",
       "0          4.143                   3.143         7.000          7.000   \n",
       "1          4.143                   3.143         3.167          3.625   \n",
       "2          4.143                   3.143         4.500          3.125   \n",
       "3          4.143                   3.143         2.000          2.000   \n",
       "4          4.143                   3.143         4.500          4.625   \n",
       "..           ...                     ...           ...            ...   \n",
       "265        4.286                   3.286         2.000          2.250   \n",
       "266        4.286                   3.286         4.500          5.625   \n",
       "267        4.286                   3.286         1.833          2.375   \n",
       "268        4.286                   3.286         1.833          1.375   \n",
       "269        4.286                   3.286         5.667          4.750   \n",
       "\n",
       "     gold_emotion  gold_empathy_bin  gold_distress_bin  \n",
       "0         sadness                 1                  1  \n",
       "1         sadness                 0                  0  \n",
       "2            fear                 1                  0  \n",
       "3           anger                 0                  0  \n",
       "4           anger                 1                  1  \n",
       "..            ...               ...                ...  \n",
       "265         anger                 0                  0  \n",
       "266          fear                 1                  1  \n",
       "267       neutral                 0                  0  \n",
       "268           joy                 0                  0  \n",
       "269       sadness                 1                  1  \n",
       "\n",
       "[270 rows x 23 columns]"
      ]
     },
     "execution_count": 36,
     "metadata": {},
     "output_type": "execute_result"
    }
   ],
   "source": [
    "dev_data = utils.read_data(\"../dataset/dev/dev-empathy-distress-prediction-task-normalized.csv\")\n",
    "dev_data"
   ]
  },
  {
   "cell_type": "code",
   "execution_count": 37,
   "metadata": {},
   "outputs": [
    {
     "name": "stdout",
     "output_type": "stream",
     "text": [
      "270\n",
      "1    170\n",
      "2     45\n",
      "0     45\n",
      "3     10\n",
      "Name: age_bin, dtype: int64\n"
     ]
    }
   ],
   "source": [
    "dev_data['age_bin'] = dev_data.age.apply(lambda x: categorize_age(x))\n",
    "print(sum((dev_data.age_bin.value_counts())))\n",
    "print((dev_data.age_bin.value_counts()))"
   ]
  },
  {
   "cell_type": "code",
   "execution_count": null,
   "metadata": {},
   "outputs": [],
   "source": [
    "0-20: 25\n",
    "20-40: 1400\n",
    "40-60: 375\n",
    "60:80: 60\n",
    "80-100:\n",
    "    \n",
    "0-25: 230\n",
    "25-50: 1455\n",
    "50-80: 175\n",
    "\n",
    "0-25: 230\n",
    "26-40: 1195\n",
    "41-60: 375\n",
    "61-"
   ]
  },
  {
   "cell_type": "code",
   "execution_count": 47,
   "metadata": {},
   "outputs": [
    {
     "data": {
      "text/plain": [
       "array([[<matplotlib.axes._subplots.AxesSubplot object at 0x7ff8fcc57b80>]],\n",
       "      dtype=object)"
      ]
     },
     "execution_count": 47,
     "metadata": {},
     "output_type": "execute_result"
    },
    {
     "data": {
      "image/png": "[encoded data removed]",
      "text/plain": [
       "<Figure size 432x288 with 1 Axes>"
      ]
     },
     "metadata": {
      "needs_background": "light"
     },
     "output_type": "display_data"
    }
   ],
   "source": [
    "data.hist(column=['age'])"
   ]
  },
  {
   "cell_type": "code",
   "execution_count": 19,
   "metadata": {},
   "outputs": [
    {
     "data": {
      "text/plain": [
       "6    445\n",
       "4    260\n",
       "2    105\n",
       "5     85\n",
       "7     75\n",
       "3     20\n",
       "Name: education, dtype: int64"
      ]
     },
     "execution_count": 19,
     "metadata": {},
     "output_type": "execute_result"
    }
   ],
   "source": [
    "data[data.gender == 1].education.value_counts()"
   ]
  },
  {
   "cell_type": "code",
   "execution_count": 21,
   "metadata": {},
   "outputs": [
    {
     "data": {
      "text/plain": [
       "6    375\n",
       "4    185\n",
       "5    130\n",
       "2     85\n",
       "7     65\n",
       "3     20\n",
       "Name: education, dtype: int64"
      ]
     },
     "execution_count": 21,
     "metadata": {},
     "output_type": "execute_result"
    }
   ],
   "source": [
    "data[data.gender == 2].education.value_counts()"
   ]
  },
  {
   "cell_type": "code",
   "execution_count": 78,
   "metadata": {},
   "outputs": [],
   "source": [
    "def groupeInfo(feature):\n",
    "    '''Function to group a feature\n",
    "    @parm feature (panda Series): feature of dataset to be grouped\n",
    "    @return z: Grouped dataframe\n",
    "    '''\n",
    "    x=pd.DataFrame(feature)\n",
    "    for col in x:\n",
    "        z=x.groupby(pd.cut(x[col], np.arange(0,10,1))).count()\n",
    "    return z\n"
   ]
  },
  {
   "cell_type": "code",
   "execution_count": 79,
   "metadata": {},
   "outputs": [
    {
     "name": "stdout",
     "output_type": "stream",
     "text": [
      "        age\n",
      "age        \n",
      "(0, 1]    0\n",
      "(1, 2]    0\n",
      "(2, 3]    0\n",
      "(3, 4]    0\n",
      "(4, 5]    0\n",
      "(5, 6]    0\n",
      "(6, 7]    0\n",
      "(7, 8]    0\n",
      "(8, 9]    0\n"
     ]
    }
   ],
   "source": [
    "distressGroup =groupeInfo(data[\"age\"])\n",
    "print(distressGroup)\n",
    "# empathyGroup =groupeInfo(df[\"empathy\"])\n",
    "# print(empathyGroup)"
   ]
  },
  {
   "cell_type": "code",
   "execution_count": 28,
   "metadata": {},
   "outputs": [
    {
     "data": {
      "image/png": "[encoded data removed]",
      "text/plain": [
       "<Figure size 2160x2160 with 49 Axes>"
      ]
     },
     "metadata": {
      "needs_background": "light"
     },
     "output_type": "display_data"
    }
   ],
   "source": [
    "#don't know if this is useful\n",
    "df[\"distress\"].hist(by=df[\"distress\"],bins=50,figsize=(30,30))\n",
    "plt.show()"
   ]
  },
  {
   "cell_type": "code",
   "execution_count": 20,
   "metadata": {},
   "outputs": [
    {
     "name": "stdout",
     "output_type": "stream",
     "text": [
      "         age\n",
      "age         \n",
      "(0, 10]    0\n"
     ]
    }
   ],
   "source": [
    "#further experiments\n",
    "x=pd.DataFrame(data[\"age\"])\n",
    "z=x.groupby(pd.cut(x[\"age\"], np.arange(0,20,10))).count()\n",
    "print(z)"
   ]
  },
  {
   "cell_type": "code",
   "execution_count": 18,
   "metadata": {},
   "outputs": [
    {
     "data": {
      "text/plain": [
       "array([[<matplotlib.axes._subplots.AxesSubplot object at 0x7ff8ff5bd670>]],\n",
       "      dtype=object)"
      ]
     },
     "execution_count": 18,
     "metadata": {},
     "output_type": "execute_result"
    },
    {
     "data": {
      "image/png": "[encoded data removed]",
      "text/plain": [
       "<Figure size 432x288 with 1 Axes>"
      ]
     },
     "metadata": {
      "needs_background": "light"
     },
     "output_type": "display_data"
    }
   ],
   "source": [
    "z.hist()"
   ]
  },
  {
   "cell_type": "code",
   "execution_count": 38,
   "metadata": {},
   "outputs": [
    {
     "name": "stdout",
     "output_type": "stream",
     "text": [
      "          distress\n",
      "distress          \n",
      "(0, 1]         239\n",
      "(1, 2]         260\n",
      "(2, 3]         225\n",
      "(3, 4]         288\n",
      "(4, 5]         312\n",
      "(5, 6]         311\n",
      "(6, 7]         225\n"
     ]
    },
    {
     "data": {
      "text/plain": [
       "array([[<matplotlib.axes._subplots.AxesSubplot object at 0x7fb41cc74f10>]],\n",
       "      dtype=object)"
      ]
     },
     "execution_count": 38,
     "metadata": {},
     "output_type": "execute_result"
    },
    {
     "data": {
      "image/png": "[encoded data removed]",
      "text/plain": [
       "<Figure size 432x288 with 1 Axes>"
      ]
     },
     "metadata": {
      "needs_background": "light"
     },
     "output_type": "display_data"
    },
    {
     "data": {
      "image/png": "[encoded data removed]",
      "text/plain": [
       "<Figure size 432x288 with 1 Axes>"
      ]
     },
     "metadata": {
      "needs_background": "light"
     },
     "output_type": "display_data"
    }
   ],
   "source": [
    "x=pd.DataFrame(df[\"distress\"])\n",
    "z=x.groupby(pd.cut(x[\"distress\"], np.arange(0,8,1))).count()\n",
    "print(z)\n",
    "z.hist()\n",
    "x.hist()"
   ]
  },
  {
   "cell_type": "code",
   "execution_count": 40,
   "metadata": {},
   "outputs": [
    {
     "data": {
      "text/plain": [
       "<matplotlib.collections.PathCollection at 0x7fb4293dd550>"
      ]
     },
     "execution_count": 40,
     "metadata": {},
     "output_type": "execute_result"
    },
    {
     "data": {
      "image/png": "[encoded data removed]",
      "text/plain": [
       "<Figure size 432x288 with 1 Axes>"
      ]
     },
     "metadata": {
      "needs_background": "light"
     },
     "output_type": "display_data"
    }
   ],
   "source": [
    "plt.scatter(df[\"gender\"],df[\"empathy\"])"
   ]
  },
  {
   "cell_type": "code",
   "execution_count": null,
   "metadata": {},
   "outputs": [],
   "source": []
  }
 ],
 "metadata": {
  "kernelspec": {
   "display_name": "Python 3",
   "language": "python",
   "name": "python3"
  },
  "language_info": {
   "codemirror_mode": {
    "name": "ipython",
    "version": 3
   },
   "file_extension": ".py",
   "mimetype": "text/x-python",
   "name": "python",
   "nbconvert_exporter": "python",
   "pygments_lexer": "ipython3",
   "version": "3.8.3"
  }
 },
 "nbformat": 4,
 "nbformat_minor": 4
}
