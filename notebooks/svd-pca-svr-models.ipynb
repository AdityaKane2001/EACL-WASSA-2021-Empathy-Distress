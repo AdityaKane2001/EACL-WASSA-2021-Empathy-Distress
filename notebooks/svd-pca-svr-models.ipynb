{
 "cells": [
  {
   "cell_type": "markdown",
   "metadata": {
    "id": "NhDMrrB2-snB"
   },
   "source": [
    "**SVC Model**"
   ]
  },
  {
   "cell_type": "code",
   "execution_count": null,
   "metadata": {
    "id": "AWAXlsi1qpDL"
   },
   "outputs": [],
   "source": [
    "import pandas as pd \n",
    "import numpy as np \n",
    "from sklearn.metrics import classification_report, confusion_matrix \n",
    "from sklearn.datasets import load_breast_cancer \n",
    "from sklearn.svm import SVC, SVR\n",
    "from sklearn.metrics import r2_score,mean_squared_error, accuracy_score\n",
    "from scipy.stats import pointbiserialr\n",
    "from scipy.stats import pearsonr\n",
    "import matplotlib.pyplot as plt\n",
    "import umap\n",
    "from sklearn import preprocessing"
   ]
  },
  {
   "cell_type": "code",
   "execution_count": null,
   "metadata": {
    "id": "gw8gCGMmrNQq"
   },
   "outputs": [],
   "source": [
    "df = pd.read_csv('/content/finalFeatures.csv')"
   ]
  },
  {
   "cell_type": "code",
   "execution_count": null,
   "metadata": {
    "id": "nhqdFIjBq9RT"
   },
   "outputs": [],
   "source": [
    "from sklearn.model_selection import train_test_split \n",
    "#features = ['iri_perspective_taking', 'iri_personal_distress', 'iri_fantasy', 'iri_empathatic_concern']\n",
    "#features = ['', 'X2', 'X3]\n",
    "le = preprocessing.LabelEncoder()\n",
    "le.fit(df[\"emotion_label\"])\n",
    "df[\"emotion_label\"]=le.transform(df[\"emotion_label\"])\n",
    "features= [ 'education', 'race', 'age', 'income', 'personality_agreeableness', 'personality_stability', 'iri_perspective_taking', 'iri_personal_distress' ]\n",
    "X = df[features]\n",
    "#X[\"emotion_label\"]=df[\"emotion_label\"]\n",
    "y = df['empathy']\n",
    "\n",
    "X_train, X_test, y_train, y_test = train_test_split( \n",
    "                       X ,y , \n",
    "                test_size = 0.1, random_state = 101)"
   ]
  },
  {
   "cell_type": "markdown",
   "metadata": {
    "id": "G38XhIMTFj0t"
   },
   "source": [
    "## PCA\n",
    "\n"
   ]
  },
  {
   "cell_type": "code",
   "execution_count": null,
   "metadata": {
    "id": "XoX9qwERRmZm"
   },
   "outputs": [],
   "source": [
    "from sklearn.preprocessing import StandardScaler\n",
    "\n",
    "sc = StandardScaler()\n",
    "X_trains = sc.fit_transform(X_train)\n",
    "X_tests = sc.transform(X_test)\n"
   ]
  },
  {
   "cell_type": "code",
   "execution_count": null,
   "metadata": {
    "id": "xMfECTIFRj4W"
   },
   "outputs": [],
   "source": [
    "from sklearn.decomposition import PCA\n",
    "\n",
    "pca = PCA()\n",
    "X_trainp = pca.fit_transform(X_trains)\n",
    "X_testp = pca.transform(X_tests)"
   ]
  },
  {
   "cell_type": "markdown",
   "metadata": {
    "id": "LPxZR9UTZ3JE"
   },
   "source": [
    "##bold text SVD"
   ]
  },
  {
   "cell_type": "code",
   "execution_count": null,
   "metadata": {
    "colab": {
     "base_uri": "https://localhost:8080/"
    },
    "id": "jqeFyD4NZ42w",
    "outputId": "2f6b8fbe-bb4d-4c72-e087-4b8e1c12cb4b"
   },
   "outputs": [
    {
     "name": "stdout",
     "output_type": "stream",
     "text": [
      "[[ 1.33121149e+03  1.98671309e+01  7.56322135e-01 ...  1.21383297e+00\n",
      "  -1.57747733e-01 -2.80030529e-03]\n",
      " [ 6.01110268e+02  2.40501690e+01  1.91890139e+01 ... -1.71837839e-01\n",
      "   9.55624602e-02  6.99899512e-02]\n",
      " [ 1.35129220e+03  9.43433292e+00 -3.69975040e+01 ... -9.67378613e-01\n",
      "   7.05193290e-03  6.76403789e-03]\n",
      " ...\n",
      " [ 1.36484647e+03 -8.18450681e+00 -4.96198052e+01 ...  3.25639132e-01\n",
      "  -2.02197275e-01 -7.90134536e-03]\n",
      " [ 1.55154864e+03 -9.50242496e+00  4.05923126e+00 ...  3.15343981e-01\n",
      "   7.05959426e-02 -1.64497037e-03]\n",
      " [ 8.70125005e+02  5.10046035e+01 -2.58983829e+01 ... -5.26241838e-01\n",
      "  -2.07457619e-01 -8.38857845e-02]]\n"
     ]
    }
   ],
   "source": [
    "from sklearn.decomposition import TruncatedSVD\n",
    "svd = TruncatedSVD(n_components=20, n_iter=10, random_state=42,algorithm='arpack')\n",
    "svd.fit(X_train)\n",
    "X_traind = svd.transform(X_train)\n",
    "svd.fit(X_test)\n",
    "X_testd=svd.transform(X_test)\n",
    "print(X_traind)"
   ]
  },
  {
   "cell_type": "markdown",
   "metadata": {
    "id": "CybD5siAeZ3O"
   },
   "source": [
    "## UMAP"
   ]
  },
  {
   "cell_type": "code",
   "execution_count": null,
   "metadata": {
    "colab": {
     "base_uri": "https://localhost:8080/"
    },
    "id": "mIy-wZU3eb8k",
    "outputId": "401af6c3-2d32-4365-a450-d88d62d953e9"
   },
   "outputs": [
    {
     "name": "stderr",
     "output_type": "stream",
     "text": [
      "/usr/local/lib/python3.6/dist-packages/sklearn/manifold/_spectral_embedding.py:236: UserWarning: Graph is not fully connected, spectral embedding may not work as expected.\n",
      "  warnings.warn(\"Graph is not fully connected, spectral embedding\"\n",
      "/usr/local/lib/python3.6/dist-packages/sklearn/manifold/_spectral_embedding.py:236: UserWarning: Graph is not fully connected, spectral embedding may not work as expected.\n",
      "  warnings.warn(\"Graph is not fully connected, spectral embedding\"\n"
     ]
    }
   ],
   "source": [
    "trans = umap.UMAP(n_neighbors=4, random_state=42).fit(X_train)\n",
    "# plt.scatter(trans.embedding_[:, 0], trans.embedding_[:, 1], s= 5, c=y_train, cmap='Spectral')\n",
    "# plt.title('Embedding of the training set by UMAP', fontsize=24);\n",
    "X_trainu = trans.transform(X_train)\n",
    "trans = umap.UMAP(n_neighbors=5, random_state=42).fit(X_test)\n",
    "X_testu = trans.transform(X_test)\n"
   ]
  },
  {
   "cell_type": "markdown",
   "metadata": {
    "id": "G7b5z9M8RdSX"
   },
   "source": [
    "## SVR Model"
   ]
  },
  {
   "cell_type": "code",
   "execution_count": null,
   "metadata": {
    "colab": {
     "base_uri": "https://localhost:8080/"
    },
    "id": "fOudAjjnlgVa",
    "outputId": "54f9026f-9062-480a-e982-8517cefdab3a"
   },
   "outputs": [
    {
     "name": "stdout",
     "output_type": "stream",
     "text": [
      "rmse 1.6245974530590666\n",
      "r2_score 0.1896132854919037\n",
      "pearson corr (0.438454511588413, 3.868654225349831e-10)\n"
     ]
    }
   ],
   "source": [
    "modelr = SVR(kernel='rbf', degree=15, gamma= 'auto')\n",
    "modelr.fit(X_trainp, y_train)\n",
    "\n",
    "pred = modelr.predict(X_testp)\n",
    "#print(pred)\n",
    "\n",
    "mse = mean_squared_error(y_test, pred)\n",
    "print('rmse',np.sqrt(mse))\n",
    "print('r2_score',r2_score(y_test, pred))\n",
    "print('pearson corr',pearsonr(pred, y_test))"
   ]
  },
  {
   "cell_type": "code",
   "execution_count": null,
   "metadata": {
    "id": "0VVgsj1j7pt9"
   },
   "outputs": [],
   "source": [
    "# model = SVC(kernel='rbf', degree=8, gamma='auto') \n",
    "# model.fit(X_train, y_train) \n",
    "  \n",
    "# # print prediction results \n",
    "# predictions = model.predict(X_test)\n",
    "# print(predictions)\n",
    "# print(classification_report(y_test, predictions)) "
   ]
  },
  {
   "cell_type": "code",
   "execution_count": null,
   "metadata": {
    "id": "bpiJu36BsNra"
   },
   "outputs": [],
   "source": [
    " precision    recall  f1-score   support\n",
    "\n",
    "           0       0.67      0.80      0.73        82\n",
    "           1       0.82      0.69      0.75       104\n",
    "\n",
    "    accuracy                           0.74       186\n",
    "   macro avg       0.75      0.75      0.74       186\n",
    "weighted avg       0.75      0.74      0.74       186\n"
   ]
  },
  {
   "cell_type": "code",
   "execution_count": null,
   "metadata": {
    "id": "Dj_uKZRdZwpk"
   },
   "outputs": [],
   "source": []
  }
 ],
 "metadata": {
  "colab": {
   "name": "Models-wassa.ipynb",
   "provenance": [],
   "toc_visible": true
  },
  "kernelspec": {
   "display_name": "Python 3",
   "language": "python",
   "name": "python3"
  },
  "language_info": {
   "codemirror_mode": {
    "name": "ipython",
    "version": 3
   },
   "file_extension": ".py",
   "mimetype": "text/x-python",
   "name": "python",
   "nbconvert_exporter": "python",
   "pygments_lexer": "ipython3",
   "version": "3.8.3"
  }
 },
 "nbformat": 4,
 "nbformat_minor": 1
}
