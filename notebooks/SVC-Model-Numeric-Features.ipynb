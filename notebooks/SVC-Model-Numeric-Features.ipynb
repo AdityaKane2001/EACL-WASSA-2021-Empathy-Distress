{
 "cells": [
  {
   "cell_type": "code",
   "execution_count": 1,
   "metadata": {},
   "outputs": [],
   "source": [
    "import pandas as pd \n",
    "import numpy as np \n",
    "from sklearn.metrics import classification_report, confusion_matrix \n",
    "from sklearn.datasets import load_breast_cancer \n",
    "from sklearn.svm import SVC, SVR\n",
    "from sklearn.metrics import r2_score,mean_squared_error, accuracy_score\n",
    "from scipy.stats import pointbiserialr\n",
    "from scipy.stats import pearsonr"
   ]
  },
  {
   "cell_type": "code",
   "execution_count": null,
   "metadata": {},
   "outputs": [],
   "source": [
    "df = pd.read_csv('/content/track-1-essay-empathy-train.csv')"
   ]
  },
  {
   "cell_type": "code",
   "execution_count": null,
   "metadata": {},
   "outputs": [],
   "source": [
    "negative = []\n",
    "neutral = []\n",
    "positive = []\n",
    "compound = []\n",
    "\n",
    "import nltk\n",
    "nltk.download('vader_lexicon')\n",
    "from nltk.sentiment.vader import SentimentIntensityAnalyzer\n",
    "sid = SentimentIntensityAnalyzer()\n",
    "for essays in df['essay']:\n",
    "  my_dict = sid.polarity_scores(essays)\n",
    "  #print(my_dict)\n",
    "  negative.append(my_dict['neg'])\n",
    "  neutral.append(my_dict['pos'])\n",
    "  positive.append(my_dict['neu'])\n",
    "  compound.append(my_dict['compound'])\n"
   ]
  },
  {
   "cell_type": "code",
   "execution_count": null,
   "metadata": {},
   "outputs": [],
   "source": [
    "df['positive_sent'] = pd.DataFrame(positive)\n",
    "df['neutral_sent'] = pd.DataFrame(neutral)\n",
    "df['negative_sent'] = pd.DataFrame(negative)\n",
    "df['compoud_sent'] = pd.DataFrame(compound)\n"
   ]
  },
  {
   "cell_type": "code",
   "execution_count": null,
   "metadata": {},
   "outputs": [],
   "source": []
  },
  {
   "cell_type": "code",
   "execution_count": null,
   "metadata": {},
   "outputs": [],
   "source": [
    "from sklearn.model_selection import train_test_split \n",
    "features = [  'education', 'race', 'age', 'income', 'personality_conscientiousness', 'personality_openess', 'personality_extraversion', 'personality_agreeableness', 'personality_stability', 'iri_perspective_taking', 'iri_personal_distress', 'iri_fantasy', 'iri_empathatic_concern' ,'positive_sent','negative_sent', 'neutral_sent', 'compoud_sent']\n",
    "\n",
    "#features = ['', 'X2', 'X3]\n",
    "X = df[features]\n",
    "y = df['empathy']\n",
    "\n",
    "X_train, X_test, y_train, y_test = train_test_split( \n",
    "                       X ,y , \n",
    "                test_size = 0.1, random_state = 101)"
   ]
  },
  {
   "cell_type": "code",
   "execution_count": null,
   "metadata": {},
   "outputs": [],
   "source": [
    "#SVC model if y is df['empathy_bin'] - classification\n",
    "\n",
    "model = SVC(kernel='rbf', degree=8, gamma='auto') \n",
    "model.fit(X_train, y_train) \n",
    "  \n",
    "# print prediction results \n",
    "predictions = model.predict(X_test)\n",
    "print(predictions)\n",
    "print(classification_report(y_test, predictions)) "
   ]
  }
 ],
 "metadata": {
  "kernelspec": {
   "display_name": "Python 3",
   "language": "python",
   "name": "python3"
  },
  "language_info": {
   "codemirror_mode": {
    "name": "ipython",
    "version": 3
   },
   "file_extension": ".py",
   "mimetype": "text/x-python",
   "name": "python",
   "nbconvert_exporter": "python",
   "pygments_lexer": "ipython3",
   "version": "3.7.4"
  }
 },
 "nbformat": 4,
 "nbformat_minor": 2
}
