{
  "nbformat": 4,
  "nbformat_minor": 0,
  "metadata": {
    "accelerator": "GPU",
    "colab": {
      "name": "main_old.ipynb",
      "provenance": [],
      "collapsed_sections": [
        "puNGB2N-qhsk",
        "6SYi93ON3Zoe",
        "DtbZSjMZlDuM",
        "0JpFRLDRBzSU"
      ],
      "toc_visible": true
    },
    "kernelspec": {
      "display_name": "Python 3",
      "name": "python3"
    }
  },
  "cells": [
    {
      "cell_type": "markdown",
      "metadata": {
        "id": "WdkmphtaHVDI"
      },
      "source": [
        "# Loading all the libraries and modules"
      ]
    },
    {
      "cell_type": "code",
      "metadata": {
        "colab": {
          "base_uri": "https://localhost:8080/"
        },
        "id": "KIIcoHZmxlYm",
        "outputId": "de6b9108-2db0-48c4-c116-52007f48037d"
      },
      "source": [
        "!pip install autocorrect\n",
        "!pip install transformers==3.0.0"
      ],
      "execution_count": null,
      "outputs": [
        {
          "output_type": "stream",
          "text": [
            "Collecting autocorrect\n",
            "\u001b[?25l  Downloading https://files.pythonhosted.org/packages/16/a8/1fc332535fc26db807fa48bdb54070355b83a36c797451c3d563bc190fa8/autocorrect-2.3.0.tar.gz (621kB)\n",
            "\r\u001b[K     |▌                               | 10kB 29.0MB/s eta 0:00:01\r\u001b[K     |█                               | 20kB 31.8MB/s eta 0:00:01\r\u001b[K     |█▋                              | 30kB 20.0MB/s eta 0:00:01\r\u001b[K     |██                              | 40kB 23.5MB/s eta 0:00:01\r\u001b[K     |██▋                             | 51kB 23.1MB/s eta 0:00:01\r\u001b[K     |███▏                            | 61kB 25.9MB/s eta 0:00:01\r\u001b[K     |███▊                            | 71kB 16.9MB/s eta 0:00:01\r\u001b[K     |████▏                           | 81kB 18.1MB/s eta 0:00:01\r\u001b[K     |████▊                           | 92kB 16.5MB/s eta 0:00:01\r\u001b[K     |█████▎                          | 102kB 16.8MB/s eta 0:00:01\r\u001b[K     |█████▉                          | 112kB 16.8MB/s eta 0:00:01\r\u001b[K     |██████▎                         | 122kB 16.8MB/s eta 0:00:01\r\u001b[K     |██████▉                         | 133kB 16.8MB/s eta 0:00:01\r\u001b[K     |███████▍                        | 143kB 16.8MB/s eta 0:00:01\r\u001b[K     |████████                        | 153kB 16.8MB/s eta 0:00:01\r\u001b[K     |████████▍                       | 163kB 16.8MB/s eta 0:00:01\r\u001b[K     |█████████                       | 174kB 16.8MB/s eta 0:00:01\r\u001b[K     |█████████▌                      | 184kB 16.8MB/s eta 0:00:01\r\u001b[K     |██████████                      | 194kB 16.8MB/s eta 0:00:01\r\u001b[K     |██████████▌                     | 204kB 16.8MB/s eta 0:00:01\r\u001b[K     |███████████                     | 215kB 16.8MB/s eta 0:00:01\r\u001b[K     |███████████▋                    | 225kB 16.8MB/s eta 0:00:01\r\u001b[K     |████████████▏                   | 235kB 16.8MB/s eta 0:00:01\r\u001b[K     |████████████▋                   | 245kB 16.8MB/s eta 0:00:01\r\u001b[K     |█████████████▏                  | 256kB 16.8MB/s eta 0:00:01\r\u001b[K     |█████████████▊                  | 266kB 16.8MB/s eta 0:00:01\r\u001b[K     |██████████████▎                 | 276kB 16.8MB/s eta 0:00:01\r\u001b[K     |██████████████▊                 | 286kB 16.8MB/s eta 0:00:01\r\u001b[K     |███████████████▎                | 296kB 16.8MB/s eta 0:00:01\r\u001b[K     |███████████████▉                | 307kB 16.8MB/s eta 0:00:01\r\u001b[K     |████████████████▍               | 317kB 16.8MB/s eta 0:00:01\r\u001b[K     |████████████████▉               | 327kB 16.8MB/s eta 0:00:01\r\u001b[K     |█████████████████▍              | 337kB 16.8MB/s eta 0:00:01\r\u001b[K     |██████████████████              | 348kB 16.8MB/s eta 0:00:01\r\u001b[K     |██████████████████▍             | 358kB 16.8MB/s eta 0:00:01\r\u001b[K     |███████████████████             | 368kB 16.8MB/s eta 0:00:01\r\u001b[K     |███████████████████▌            | 378kB 16.8MB/s eta 0:00:01\r\u001b[K     |████████████████████            | 389kB 16.8MB/s eta 0:00:01\r\u001b[K     |████████████████████▌           | 399kB 16.8MB/s eta 0:00:01\r\u001b[K     |█████████████████████           | 409kB 16.8MB/s eta 0:00:01\r\u001b[K     |█████████████████████▋          | 419kB 16.8MB/s eta 0:00:01\r\u001b[K     |██████████████████████▏         | 430kB 16.8MB/s eta 0:00:01\r\u001b[K     |██████████████████████▋         | 440kB 16.8MB/s eta 0:00:01\r\u001b[K     |███████████████████████▏        | 450kB 16.8MB/s eta 0:00:01\r\u001b[K     |███████████████████████▊        | 460kB 16.8MB/s eta 0:00:01\r\u001b[K     |████████████████████████▎       | 471kB 16.8MB/s eta 0:00:01\r\u001b[K     |████████████████████████▊       | 481kB 16.8MB/s eta 0:00:01\r\u001b[K     |█████████████████████████▎      | 491kB 16.8MB/s eta 0:00:01\r\u001b[K     |█████████████████████████▉      | 501kB 16.8MB/s eta 0:00:01\r\u001b[K     |██████████████████████████▍     | 512kB 16.8MB/s eta 0:00:01\r\u001b[K     |██████████████████████████▉     | 522kB 16.8MB/s eta 0:00:01\r\u001b[K     |███████████████████████████▍    | 532kB 16.8MB/s eta 0:00:01\r\u001b[K     |████████████████████████████    | 542kB 16.8MB/s eta 0:00:01\r\u001b[K     |████████████████████████████▌   | 552kB 16.8MB/s eta 0:00:01\r\u001b[K     |█████████████████████████████   | 563kB 16.8MB/s eta 0:00:01\r\u001b[K     |█████████████████████████████▌  | 573kB 16.8MB/s eta 0:00:01\r\u001b[K     |██████████████████████████████  | 583kB 16.8MB/s eta 0:00:01\r\u001b[K     |██████████████████████████████▋ | 593kB 16.8MB/s eta 0:00:01\r\u001b[K     |███████████████████████████████ | 604kB 16.8MB/s eta 0:00:01\r\u001b[K     |███████████████████████████████▋| 614kB 16.8MB/s eta 0:00:01\r\u001b[K     |████████████████████████████████| 624kB 16.8MB/s \n",
            "\u001b[?25hBuilding wheels for collected packages: autocorrect\n",
            "  Building wheel for autocorrect (setup.py) ... \u001b[?25l\u001b[?25hdone\n",
            "  Created wheel for autocorrect: filename=autocorrect-2.3.0-cp36-none-any.whl size=621588 sha256=c48c6674cd93e9809a394756da5d5b7acd224779a603e6b5da67375cac75ea81\n",
            "  Stored in directory: /root/.cache/pip/wheels/cc/1c/30/6b0199afbd20eef5959f5eaa0ead86aeef84391740482b2279\n",
            "Successfully built autocorrect\n",
            "Installing collected packages: autocorrect\n",
            "Successfully installed autocorrect-2.3.0\n",
            "Collecting transformers==3.0.0\n",
            "\u001b[?25l  Downloading https://files.pythonhosted.org/packages/9c/35/1c3f6e62d81f5f0daff1384e6d5e6c5758682a8357ebc765ece2b9def62b/transformers-3.0.0-py3-none-any.whl (754kB)\n",
            "\u001b[K     |████████████████████████████████| 757kB 19.9MB/s \n",
            "\u001b[?25hRequirement already satisfied: tqdm>=4.27 in /usr/local/lib/python3.6/dist-packages (from transformers==3.0.0) (4.41.1)\n",
            "Requirement already satisfied: dataclasses; python_version < \"3.7\" in /usr/local/lib/python3.6/dist-packages (from transformers==3.0.0) (0.8)\n",
            "Collecting sacremoses\n",
            "\u001b[?25l  Downloading https://files.pythonhosted.org/packages/7d/34/09d19aff26edcc8eb2a01bed8e98f13a1537005d31e95233fd48216eed10/sacremoses-0.0.43.tar.gz (883kB)\n",
            "\u001b[K     |████████████████████████████████| 890kB 55.1MB/s \n",
            "\u001b[?25hCollecting sentencepiece\n",
            "\u001b[?25l  Downloading https://files.pythonhosted.org/packages/14/67/e42bd1181472c95c8cda79305df848264f2a7f62740995a46945d9797b67/sentencepiece-0.1.95-cp36-cp36m-manylinux2014_x86_64.whl (1.2MB)\n",
            "\u001b[K     |████████████████████████████████| 1.2MB 52.3MB/s \n",
            "\u001b[?25hCollecting tokenizers==0.8.0-rc4\n",
            "\u001b[?25l  Downloading https://files.pythonhosted.org/packages/e8/bd/e5abec46af977c8a1375c1dca7cb1e5b3ec392ef279067af7f6bc50491a0/tokenizers-0.8.0rc4-cp36-cp36m-manylinux1_x86_64.whl (3.0MB)\n",
            "\u001b[K     |████████████████████████████████| 3.0MB 46.4MB/s \n",
            "\u001b[?25hRequirement already satisfied: regex!=2019.12.17 in /usr/local/lib/python3.6/dist-packages (from transformers==3.0.0) (2019.12.20)\n",
            "Requirement already satisfied: packaging in /usr/local/lib/python3.6/dist-packages (from transformers==3.0.0) (20.9)\n",
            "Requirement already satisfied: requests in /usr/local/lib/python3.6/dist-packages (from transformers==3.0.0) (2.23.0)\n",
            "Requirement already satisfied: numpy in /usr/local/lib/python3.6/dist-packages (from transformers==3.0.0) (1.19.5)\n",
            "Requirement already satisfied: filelock in /usr/local/lib/python3.6/dist-packages (from transformers==3.0.0) (3.0.12)\n",
            "Requirement already satisfied: six in /usr/local/lib/python3.6/dist-packages (from sacremoses->transformers==3.0.0) (1.15.0)\n",
            "Requirement already satisfied: click in /usr/local/lib/python3.6/dist-packages (from sacremoses->transformers==3.0.0) (7.1.2)\n",
            "Requirement already satisfied: joblib in /usr/local/lib/python3.6/dist-packages (from sacremoses->transformers==3.0.0) (1.0.0)\n",
            "Requirement already satisfied: pyparsing>=2.0.2 in /usr/local/lib/python3.6/dist-packages (from packaging->transformers==3.0.0) (2.4.7)\n",
            "Requirement already satisfied: certifi>=2017.4.17 in /usr/local/lib/python3.6/dist-packages (from requests->transformers==3.0.0) (2020.12.5)\n",
            "Requirement already satisfied: chardet<4,>=3.0.2 in /usr/local/lib/python3.6/dist-packages (from requests->transformers==3.0.0) (3.0.4)\n",
            "Requirement already satisfied: urllib3!=1.25.0,!=1.25.1,<1.26,>=1.21.1 in /usr/local/lib/python3.6/dist-packages (from requests->transformers==3.0.0) (1.24.3)\n",
            "Requirement already satisfied: idna<3,>=2.5 in /usr/local/lib/python3.6/dist-packages (from requests->transformers==3.0.0) (2.10)\n",
            "Building wheels for collected packages: sacremoses\n",
            "  Building wheel for sacremoses (setup.py) ... \u001b[?25l\u001b[?25hdone\n",
            "  Created wheel for sacremoses: filename=sacremoses-0.0.43-cp36-none-any.whl size=893261 sha256=67626c08e794198d4cf128d903d6ded67932fd28d28895200e93761ef3a483d0\n",
            "  Stored in directory: /root/.cache/pip/wheels/29/3c/fd/7ce5c3f0666dab31a50123635e6fb5e19ceb42ce38d4e58f45\n",
            "Successfully built sacremoses\n",
            "Installing collected packages: sacremoses, sentencepiece, tokenizers, transformers\n",
            "Successfully installed sacremoses-0.0.43 sentencepiece-0.1.95 tokenizers-0.8.0rc4 transformers-3.0.0\n"
          ],
          "name": "stdout"
        }
      ]
    },
    {
      "cell_type": "code",
      "metadata": {
        "colab": {
          "base_uri": "https://localhost:8080/"
        },
        "id": "YqrYzjL4je7-",
        "outputId": "c361a83c-3b3a-4d45-fab2-3a9bbff22ec1"
      },
      "source": [
        "from preprocess import Preprocess\n",
        "from utils import Utils\n",
        "from google.colab import drive\n",
        "\n",
        "drive.mount('/content/gdrive')"
      ],
      "execution_count": null,
      "outputs": [
        {
          "output_type": "stream",
          "text": [
            "[nltk_data] Downloading package vader_lexicon to /root/nltk_data...\n",
            "[nltk_data] Downloading package stopwords to /root/nltk_data...\n",
            "[nltk_data]   Unzipping corpora/stopwords.zip.\n",
            "[nltk_data] Downloading package punkt to /root/nltk_data...\n",
            "[nltk_data]   Unzipping tokenizers/punkt.zip.\n"
          ],
          "name": "stdout"
        },
        {
          "output_type": "stream",
          "text": [
            "/usr/local/lib/python3.6/dist-packages/nltk/twitter/__init__.py:20: UserWarning: The twython library has not been installed. Some functionality from the twitter package will not be available.\n",
            "  warnings.warn(\"The twython library has not been installed. \"\n"
          ],
          "name": "stderr"
        },
        {
          "output_type": "stream",
          "text": [
            "[nltk_data] Downloading package wordnet to /root/nltk_data...\n",
            "[nltk_data]   Unzipping corpora/wordnet.zip.\n",
            "[nltk_data] Downloading package words to /root/nltk_data...\n",
            "[nltk_data]   Unzipping corpora/words.zip.\n",
            "[nltk_data] Downloading package brown to /root/nltk_data...\n",
            "[nltk_data]   Unzipping corpora/brown.zip.\n",
            "Mounted at /content/gdrive\n"
          ],
          "name": "stdout"
        }
      ]
    },
    {
      "cell_type": "code",
      "metadata": {
        "colab": {
          "base_uri": "https://localhost:8080/"
        },
        "id": "m2v-M6HGSOLy",
        "outputId": "b1db2418-0321-4835-e30e-fcfea01c0e63"
      },
      "source": [
        "import time\n",
        "import numpy as np\n",
        "from scipy.stats import pearsonr\n",
        "from sklearn.model_selection import train_test_split\n",
        "from sklearn.preprocessing import LabelEncoder, OneHotEncoder\n",
        "from sklearn.utils import class_weight\n",
        "\n",
        "import tensorflow as tf\n",
        "from tensorflow.keras import backend as K\n",
        "from tensorflow.keras import layers\n",
        "from tensorflow.keras.layers import Input, Embedding, Dense, Flatten, Conv1D, LSTM, Bidirectional, Dropout, BatchNormalization, LayerNormalization, Concatenate \n",
        "from tensorflow.keras.layers import AveragePooling1D, MaxPooling1D, GlobalMaxPool1D, GlobalAveragePooling1D, MultiHeadAttention\n",
        "from tensorflow.keras.layers import LeakyReLU, PReLU, Activation\n",
        "from tensorflow.keras.optimizers import Adam, Nadam, Adamax, SGD, RMSprop, Adagrad, Adadelta\n",
        "from tensorflow.keras import losses\n",
        "from tensorflow.keras import metrics\n",
        "from tensorflow.keras.regularizers import l2\n",
        "from tensorflow.keras.callbacks import ModelCheckpoint, ReduceLROnPlateau, EarlyStopping\n",
        "from tensorflow.keras.utils import plot_model\n",
        "from tensorflow.keras.models import load_model\n",
        "from tensorflow.keras import Model, Sequential\n",
        "\n",
        "from transformers import TFBertModel, BertConfig, BertTokenizer, TFAutoModel\n",
        "from transformers import TFDistilBertModel, DistilBertConfig, DistilBertModel, DistilBertTokenizer\n",
        "from transformers import TFRobertaModel, RobertaConfig, RobertaModel, RobertaTokenizer\n",
        "from transformers import TFAutoModel, AutoModel, AutoConfig, AutoTokenizer\n",
        "from transformers import TFAutoModelForSequenceClassification, AutoModelForSequenceClassification, BertForSequenceClassification, TFDistilBertForSequenceClassification\n",
        "\n",
        "import gc\n",
        "import warnings\n",
        "warnings.filterwarnings('ignore')\n",
        "\n",
        "print(\"Tensorflow version: \", tf.__version__)"
      ],
      "execution_count": null,
      "outputs": [
        {
          "output_type": "stream",
          "text": [
            "Tensorflow version:  2.4.1\n"
          ],
          "name": "stdout"
        }
      ]
    },
    {
      "cell_type": "code",
      "metadata": {
        "colab": {
          "base_uri": "https://localhost:8080/"
        },
        "id": "WhfeAUIOT6ka",
        "outputId": "be951461-108e-4b77-8397-f1f130641fc6"
      },
      "source": [
        "print(\"Num GPUs Available: \", len(tf.config.experimental.list_physical_devices('GPU')))\n",
        "device_name = tf.test.gpu_device_name()\n",
        "if device_name != '/device:GPU:0':\n",
        "    raise SystemError('GPU device not found')\n",
        "print('Found GPU at: {}'.format(device_name))"
      ],
      "execution_count": null,
      "outputs": [
        {
          "output_type": "stream",
          "text": [
            "Num GPUs Available:  1\n",
            "Found GPU at: /device:GPU:0\n"
          ],
          "name": "stdout"
        }
      ]
    },
    {
      "cell_type": "markdown",
      "metadata": {
        "id": "69bSbRBmHZMW"
      },
      "source": [
        "# Prepare Dataset"
      ]
    },
    {
      "cell_type": "code",
      "metadata": {
        "colab": {
          "base_uri": "https://localhost:8080/"
        },
        "id": "7Hme4QKGJpEl",
        "outputId": "c851bc70-eef7-4abf-a2aa-288575e5f477"
      },
      "source": [
        "%%time\n",
        "utils = Utils()\n",
        "pre = Preprocess(mode=\"clean\")"
      ],
      "execution_count": null,
      "outputs": [
        {
          "output_type": "stream",
          "text": [
            "CPU times: user 3.5 s, sys: 154 ms, total: 3.66 s\n",
            "Wall time: 3.66 s\n"
          ],
          "name": "stdout"
        }
      ]
    },
    {
      "cell_type": "code",
      "metadata": {
        "colab": {
          "base_uri": "https://localhost:8080/"
        },
        "id": "4ALsP-dsJpB8",
        "outputId": "9e41b7b2-9d0c-4553-91d6-7af4ab24ec56"
      },
      "source": [
        "train_data = utils.read_data(\"/content/gdrive/My Drive/WASSA-2021-Shared-Task/dataset/train/train-empathy-distress-prediction-task-normalized.csv\")\n",
        "print(train_data.shape)\n",
        "dev_data = utils.read_data(\"/content/gdrive/My Drive/WASSA-2021-Shared-Task/dataset/dev/dev-empathy-distress-prediction-task-normalized.csv\")\n",
        "print(dev_data.shape)"
      ],
      "execution_count": null,
      "outputs": [
        {
          "output_type": "stream",
          "text": [
            "(1860, 28)\n",
            "(270, 23)\n"
          ],
          "name": "stdout"
        }
      ]
    },
    {
      "cell_type": "markdown",
      "metadata": {
        "id": "3kabQIaDqh0T"
      },
      "source": [
        "# Bert Model"
      ]
    },
    {
      "cell_type": "code",
      "metadata": {
        "id": "je1KXrnIqqFm"
      },
      "source": [
        "class BertModel():\r\n",
        "    \"\"\" Implementation of BERT for regression \"\"\"\r\n",
        "\r\n",
        "\r\n",
        "    def __init__(self, activation, kr_initializer, kr_rate, bert_model=\"BERT\", output_hidden_states=False):\r\n",
        "        \"\"\" Constructor to initialize Deep learning models\r\n",
        "        @param model (str): the model to be used (DNN, CNN, BiLSTM, BERT, DistilBERT, RoBERTa).\r\n",
        "        @param output_hidden_states (bool): Whether to output the hidden states of BERT.\r\n",
        "        \"\"\"\r\n",
        "        self.activation = activation\r\n",
        "        self.kr_rate=  kr_rate\r\n",
        "        self.kr_initializer = kr_initializer\r\n",
        "        if bert_model == \"BERT\":\r\n",
        "            config = BertConfig.from_pretrained(\"bert-base-uncased\", output_hidden_states=output_hidden_states)\r\n",
        "            self.tokenizer = BertTokenizer.from_pretrained(\"bert-base-uncased\", do_lower_case=True)\r\n",
        "            self.bert = TFBertModel.from_pretrained(\"bert-base-uncased\", config=config)\r\n",
        "\r\n",
        "        elif bert_model == \"DistilBERT\":\r\n",
        "            config = DistilBertConfig.from_pretrained(\"distilbert-base-uncased\", output_hidden_states=output_hidden_states)\r\n",
        "            self.tokenizer = DistilBertTokenizer.from_pretrained(\"distilbert-base-uncased\", do_lower_case=True)\r\n",
        "            self.bert = TFDistilBertModel.from_pretrained(\"distilbert-base-uncased\", config=config)\r\n",
        "\r\n",
        "        elif bert_model == \"RoBERTa\":\r\n",
        "            config = RobertaConfig.from_pretrained(\"roberta-base\", output_hidden_states=output_hidden_states)\r\n",
        "            self.tokenizer = RobertaTokenizer.from_pretrained(\"roberta-base\", do_lower_case=True)\r\n",
        "            self.bert = TFRobertaModel.from_pretrained(\"roberta-base\", config=config)\r\n",
        "        elif bert_model == \"custom\":\r\n",
        "            model_name = \"cardiffnlp/twitter-roberta-base-sentiment\"\r\n",
        "            self.tokenizer = AutoTokenizer.from_pretrained(model_name, do_lower_case=True, normalization=True)\r\n",
        "            self.bert = TFAutoModel.from_pretrained(model_name)\r\n",
        "\r\n",
        "\r\n",
        "\r\n",
        "\r\n",
        "\r\n",
        "    def prepare_input(self, corpus, maxlen):\r\n",
        "        \"\"\" Function to prepare input data for BERT.\r\n",
        "        @param corpus (list): Dataset to be processed.\r\n",
        "        @param max_len (int): maximum length of input post. Texts longer that max_len will be truncated, while shorter than max_len will be padded.\r\n",
        "        \"\"\"\r\n",
        "        input_ids = []\r\n",
        "        attention_mask = []\r\n",
        "\r\n",
        "        for record in corpus:\r\n",
        "            encoded_text = self.tokenizer.encode_plus(text=record,\r\n",
        "                                                      add_special_tokens=True,\r\n",
        "                                                      return_attention_mask=True,\r\n",
        "                                                      max_length=maxlen,\r\n",
        "                                                      pad_to_max_length=True,\r\n",
        "                                                      truncation=True)\r\n",
        "            input_ids.append(encoded_text.get(\"input_ids\"))\r\n",
        "            attention_mask.append(encoded_text.get(\"attention_mask\"))\r\n",
        "\r\n",
        "        return [np.array(input_ids, dtype=\"int32\"), np.array(attention_mask, dtype=\"int32\")]\r\n",
        "\r\n",
        "\r\n",
        "\r\n",
        "\r\n",
        "\r\n",
        "    def build(self, input_length):\r\n",
        "        \"\"\" Function to define the forward pass of the model.\r\n",
        "        @param input (tensor): input to the model.\r\n",
        "        \"\"\"\r\n",
        "        input_ids = Input(shape=(input_length,), name='input_ids', dtype=\"int32\")\r\n",
        "        attention_mask = Input(shape=(input_length,), name='attention_mask', dtype=\"int32\")\r\n",
        "        x = self.bert(input_ids, attention_mask=attention_mask)[0]\r\n",
        "        x = GlobalAveragePooling1D()(x)\r\n",
        "        x = Dense(128, activation=self.activation, kernel_initializer=self.kr_initializer, kernel_regularizer=l2(self.kr_rate))(x)\r\n",
        "        out = Dropout(0.2)(x)\r\n",
        "\r\n",
        "        model = Model(inputs=[input_ids, attention_mask], outputs=out)\r\n",
        "        model.layers[2].trainable = False\r\n",
        "        return model"
      ],
      "execution_count": null,
      "outputs": []
    },
    {
      "cell_type": "markdown",
      "metadata": {
        "id": "puNGB2N-qhsk"
      },
      "source": [
        "\r\n",
        "\r\n",
        "# Class MTLM (0.4772)"
      ]
    },
    {
      "cell_type": "code",
      "metadata": {
        "id": "NKHHVngZqqhJ"
      },
      "source": [
        "class MTLM():\r\n",
        "\r\n",
        "\r\n",
        "    # ------------------------------------------------------------ Constructor ------------------------------------------------------------\r\n",
        "    \r\n",
        "    def __init__(self, base_model_type=\"CNN\", activation=\"relu\", kr_rate=0.001, score_loss=\"mse\", binary_loss=\"binary_crossentropy\", multiclass_loss=\"sparse_categorical_crossentropy\", cpkt=\"trial\"):\r\n",
        "        \r\n",
        "        self.kr_rate = kr_rate\r\n",
        "        # Set the model activation:\r\n",
        "        if activation == \"leaky_relu\":\r\n",
        "            self.activation = LeakyReLU()\r\n",
        "            self.kr_initializer = tf.keras.initializers.HeUniform()\r\n",
        "        elif activation == \"paramaterized_leaky_relu\":\r\n",
        "            self.activation = PReLU() \r\n",
        "            self.kr_initializer = tf.keras.initializers.HeUniform()          \r\n",
        "        elif activation == \"relu\":\r\n",
        "            self.activation = \"relu\"\r\n",
        "            self.kr_initializer = tf.keras.initializers.HeUniform()\r\n",
        "        else:\r\n",
        "            self.activation = activation\r\n",
        "            self.kr_initializer  = tf.keras.initializers.GlorotUniform()\r\n",
        "\r\n",
        "        # Set the regression loss:\r\n",
        "        self.score_metric = \"mean_squared_error\"\r\n",
        "        if score_loss == \"huber\":\r\n",
        "            delta = 2.0\r\n",
        "            self.score_loss = losses.Huber(delta=delta)\r\n",
        "        elif score_loss == \"log_cosh\":\r\n",
        "            self.score_loss = \"log_cosh\"\r\n",
        "        elif score_loss == \"mean_squared_logarithmic_error\":\r\n",
        "            self.score_loss = \"mean_squared_logarithmic_error\"\r\n",
        "        elif score_loss == \"mae\":\r\n",
        "            self.score_loss = \"mae\"\r\n",
        "        else:\r\n",
        "            self.score_loss = \"mse\"\r\n",
        "\r\n",
        "        # Set the binary classification loss:\r\n",
        "        if binary_loss == \"hinge\":\r\n",
        "            self.binary_loss = \"hinge\"\r\n",
        "            self.binary_activation = \"tanh\"\r\n",
        "        elif binary_loss == \"squared_hinge\":\r\n",
        "            self.binary_loss = \"squared_hinge\"\r\n",
        "            self.binary_activation = \"tanh\"\r\n",
        "        else:\r\n",
        "            self.binary_loss = \"binary_crossentropy\"\r\n",
        "            self.binary_activation = \"sigmoid\"\r\n",
        "\r\n",
        "        # Set the multi-class calssification loss:\r\n",
        "        if multiclass_loss == \"kld\":\r\n",
        "            self.multiclass_loss = \"kl_divergence\"\r\n",
        "        else:\r\n",
        "            self.multiclass_loss = \"sparse_categorical_crossentropy\"\r\n",
        "\r\n",
        "        self.base_model_type = base_model_type\r\n",
        "        self.bert_models = [\"BERT\", \"DistilBERT\", \"RoBERTa\", \"custom\"]\r\n",
        "        if self.base_model_type in self.bert_models:\r\n",
        "            self.base_model = BertModel(self.activation, self.kr_initializer, self.kr_rate, self.base_model_type, output_hidden_states=False)\r\n",
        "        elif self.base_model_type == \"CNN\":\r\n",
        "            self.base_model = CNN(self.activation, self.kr_initializer, self.kr_rate)\r\n",
        "        elif self.base_model_type == \"BiLSTM\":\r\n",
        "            self.base_model = BiLSTM(self.activation, self.kr_initializer, self.kr_rate)\r\n",
        "\r\n",
        "        self.gender_encoder = LabelEncoder()\r\n",
        "        self.education_encoder = LabelEncoder()\r\n",
        "        self.race_encoder = LabelEncoder()\r\n",
        "        self.emotion_encoder = LabelEncoder()\r\n",
        "        self.age_encoder = LabelEncoder()\r\n",
        "        \r\n",
        "        # ModelCheckPoint Callback:\r\n",
        "\r\n",
        "        if score_loss == \"huber\":\r\n",
        "            cpkt = cpkt + \"-{}-{}\".format(score_loss, delta)\r\n",
        "        else:\r\n",
        "            cpkt = cpkt + \"-{}\".format(score_loss)\r\n",
        "        cpkt = cpkt + \"-epoch-{epoch:02d}-val-loss-{val_score_output_loss:02f}.h5\"\r\n",
        "        checkpoint_filepath = \"/content/gdrive/My Drive/WASSA-2021-Shared-Task/model-weights/\"+ cpkt\r\n",
        "        self.model_checkpoint_callback = ModelCheckpoint(filepath=checkpoint_filepath,\r\n",
        "                                                    save_weights_only=True,\r\n",
        "                                                    monitor='val_score_output_loss',\r\n",
        "                                                    mode='auto',\r\n",
        "                                                    save_freq = 'epoch',\r\n",
        "                                                    save_best_only=True)\r\n",
        "\r\n",
        "        # Reduce Learning Rate on Plateau Callback:\r\n",
        "        self.reduce_lr_callback = ReduceLROnPlateau(monitor='val_score_output_loss', \r\n",
        "                                                    mode='auto',\r\n",
        "                                                    factor=0.2, \r\n",
        "                                                    patience=10, \r\n",
        "                                                    min_lr=0.0005, \r\n",
        "                                                    verbose=1)\r\n",
        "        # Early Stopping\r\n",
        "        self.early_stopping = EarlyStopping(monitor='val_score_output_loss', \r\n",
        "                                            patience=20,\r\n",
        "                                            verbose=1)\r\n",
        "\r\n",
        "\r\n",
        "\r\n",
        "\r\n",
        "\r\n",
        "    # ------------------------------------------------------------ Function to prepare input for respective models ------------------------------------------------------------\r\n",
        "    \r\n",
        "    def prepare_input(self, utils_obj, df, maxlen=200, padding_type='post', truncating_type='post', mode=\"train\"):\r\n",
        "        # iri_input = df[[\"iri_perspective_taking\", \r\n",
        "        #                 \"iri_personal_distress\", \r\n",
        "        #                 \"iri_fantasy\", \r\n",
        "        #                 \"iri_empathatic_concern\"]].values.tolist()\r\n",
        "        # iri_input = np.reshape(iri_input, (len(iri_input), len(iri_input[0])))\r\n",
        "\r\n",
        "        # personality_input = df[[\"personality_conscientiousness\", \r\n",
        "        #                         \"personality_openess\", \r\n",
        "        #                         \"personality_extraversion\", \r\n",
        "        #                         \"personality_agreeableness\", \r\n",
        "        #                         \"personality_stability\"]].values.tolist()\r\n",
        "        # personality_input = np.reshape(personality_input, (len(personality_input), len(personality_input[0])))\r\n",
        "\r\n",
        "\r\n",
        "        essay = [pre.clean_text(text, remove_stopwords=False, lemmatize=False) for text in df.essay.values.tolist()]\r\n",
        "        if self.base_model_type in self.bert_models:\r\n",
        "            #return [self.base_model.prepare_input(essay, maxlen), iri_input, personality_input]\r\n",
        "            return self.base_model.prepare_input(essay, maxlen)\r\n",
        "        else:\r\n",
        "            #return [self.base_model.prepare_input(utils_obj, essay, maxlen, padding_type, truncating_type, mode), iri_input, personality_input]\r\n",
        "            return self.base_model.prepare_input(utils_obj, essay, maxlen, padding_type, truncating_type, mode)\r\n",
        "\r\n",
        "\r\n",
        "\r\n",
        "\r\n",
        "\r\n",
        "\r\n",
        "    # ------------------------------------------------------------ Funciton to prepare model outputs ------------------------------------------------------------\r\n",
        "    \r\n",
        "    def prepare_output(self,utils,  df, task=\"empathy\", mode=\"train\"):\r\n",
        "        emotion = np.reshape(df.gold_emotion.values.tolist(), (len(df), 1))\r\n",
        "        gender = np.reshape(df.gender.values.tolist(), (len(df), 1))\r\n",
        "        education = np.reshape(df.education.values.tolist(), (len(df), 1))\r\n",
        "        race = np.reshape(df.race.values.tolist(), (len(df), 1))\r\n",
        "        age = np.reshape(df.age.apply(lambda x: utils.categorize_age(x)).values.tolist(), (len(df), 1))\r\n",
        "\r\n",
        "        if mode == \"train\":\r\n",
        "            emotion = self.emotion_encoder.fit_transform(emotion)\r\n",
        "            gender = self.gender_encoder.fit_transform(gender)\r\n",
        "            education = self.education_encoder.fit_transform(education)\r\n",
        "            age = self.age_encoder.fit_transform(age)\r\n",
        "            race = self.race_encoder.fit_transform(race)\r\n",
        "\r\n",
        "        elif mode == \"dev\" or \"test\":\r\n",
        "            emotion = self.emotion_encoder.transform(emotion)\r\n",
        "            gender = self.gender_encoder.transform(gender)\r\n",
        "            education = self.education_encoder.transform(education)\r\n",
        "            age = self.age_encoder.transform(age)\r\n",
        "            race = self.race_encoder.transform(race)\r\n",
        "\r\n",
        "        if task == \"empathy\":\r\n",
        "            score = np.reshape(df.gold_empathy.values.tolist(), (len(df), 1))\r\n",
        "            bin = np.reshape(df.gold_empathy_bin.values.tolist(), (len(df), 1))\r\n",
        "            return [bin, emotion, gender, education, age, race, score]\r\n",
        "        if task == \"distress\":\r\n",
        "            score = np.reshape(df.gold_distress.values.tolist(), (len(df), 1))\r\n",
        "            bin = np.reshape(df.gold_distress_bin.values.tolist(), (len(df), 1))\r\n",
        "            return[bin, emotion, gender, education, age, race, score]\r\n",
        "\r\n",
        "\r\n",
        "\r\n",
        "\r\n",
        "\r\n",
        "    # ------------------------------------------------------------ Function to build the model ------------------------------------------------------------\r\n",
        "    \r\n",
        "    def build(self, embedding_matrix, input_length=100):\r\n",
        "        if self.base_model_type in self.bert_models:\r\n",
        "            input_ids = Input(shape=(input_length,), name=\"input_ids\")\r\n",
        "            attention_mask = Input(shape=(input_length,), name=\"attention_mask\")\r\n",
        "            base_output = self.base_model.build(input_length)([input_ids, attention_mask])\r\n",
        "        else:\r\n",
        "            input = Input(shape=(input_length,), name=\"base_model_input\")\r\n",
        "            base_output = self.base_model.build(input_length, embedding_matrix)(input)\r\n",
        "\r\n",
        "        x1 = Dense(32, activation=self.activation, kernel_initializer=self.kr_initializer, kernel_regularizer=l2(self.kr_rate))(base_output)\r\n",
        "        bin = Dense(1, activation=\"sigmoid\", name='bin_output')(x1)\r\n",
        "\r\n",
        "        x2 = Dense(32, activation=self.activation, kernel_initializer=self.kr_initializer, kernel_regularizer=l2(self.kr_rate))(base_output)\r\n",
        "        emotion = Dense(7, activation='softmax', name='emotion_output')(x2)\r\n",
        "\r\n",
        "        x3 = Dense(32, activation=self.activation, kernel_initializer=self.kr_initializer, kernel_regularizer=l2(self.kr_rate))(base_output)\r\n",
        "        gender = Dense(3, activation='softmax', name='gender_output')(x3)\r\n",
        "        education = Dense(6, activation='softmax', name='education_output')(x3)\r\n",
        "        age = Dense(4, activation='softmax', name='age_output')(x3)\r\n",
        "  \r\n",
        "        x4 = Dense(32, activation=self.activation, kernel_initializer=self.kr_initializer, kernel_regularizer=l2(self.kr_rate))(base_output)\r\n",
        "        race = Dense(6, activation='softmax', name='race_output')(x4)\r\n",
        "\r\n",
        "        x = Concatenate(axis=1)([x1, x2, x3, x4])\r\n",
        "        #x = Dropout(0.2)(x)\r\n",
        "        x = Dense(16, activation=self.activation, kernel_initializer=self.kr_initializer)(x)\r\n",
        "        score = Dense(1, name='score_output')(x)\r\n",
        "        \r\n",
        "        if self.base_model_type in self.bert_models:\r\n",
        "            self.model = Model(inputs=[input_ids, attention_mask], \r\n",
        "                               outputs=[bin, emotion, gender, education, age, race, score])\r\n",
        "        else:\r\n",
        "            self.model = Model(inputs=input, \r\n",
        "                               outputs=[bin, emotion, gender, education, age, race, score])\r\n",
        "        self.model.compile(optimizer=Adam(lr=0.001), \r\n",
        "                           loss={\"bin_output\":self.binary_loss,                                                           \r\n",
        "                                 \"emotion_output\":self.multiclass_loss,\r\n",
        "                                 \"gender_output\":self.multiclass_loss,\r\n",
        "                                 \"education_output\":self.multiclass_loss,\r\n",
        "                                 \"age_output\":self.multiclass_loss,\r\n",
        "                                 \"race_output\":self.multiclass_loss,\r\n",
        "                                 \"score_output\":self.score_loss},\r\n",
        "                           metrics={\"score_output\":self.score_metric})\r\n",
        "        self.model.summary()\r\n",
        "\r\n",
        "\r\n",
        "\r\n",
        "\r\n",
        "\r\n",
        "    # ------------------------------------------------------------ Function to plot model architecture ------------------------------------------------------------\r\n",
        "        \r\n",
        "    def plot_model_arch(self):\r\n",
        "        return plot_model(self.model, show_shapes=True)\r\n",
        "\r\n",
        "\r\n",
        "\r\n",
        "\r\n",
        "\r\n",
        "    # ------------------------------------------------------------ Function to train the model ------------------------------------------------------------\r\n",
        "    \r\n",
        "    def train(self, x_train, y_train, x_val, y_val, epochs=200, batch_size=32):\r\n",
        "        history = self.model.fit(x_train,\r\n",
        "                                 y_train, \r\n",
        "                                 epochs=epochs, \r\n",
        "                                 batch_size=batch_size, \r\n",
        "                                 verbose=1, \r\n",
        "                                 validation_data = (x_val, y_val),\r\n",
        "                                 callbacks=[self.model_checkpoint_callback, self.reduce_lr_callback, self.early_stopping])\r\n",
        "        return history\r\n",
        "\r\n",
        "\r\n",
        "\r\n",
        "\r\n",
        "\r\n",
        "    # ------------------------------------------------------------ Function to predict model output ------------------------------------------------------------\r\n",
        "    \r\n",
        "    def prediction(self, val_essay, model_path=\"\"):\r\n",
        "        model_path = \"/content/gdrive/My Drive/WASSA-2021-Shared-Task/best-models/\"+model_path\r\n",
        "        self.model.load_weights(model_path)\r\n",
        "        pred = self.model.predict(val_essay)\r\n",
        "        return pred[-1]\r\n",
        "\r\n",
        "\r\n",
        "\r\n",
        "\r\n",
        "\r\n",
        "    # ------------------------------------------------------------ Function to calculate the Pearson's correlation ------------------------------------------------------------\r\n",
        "    \r\n",
        "    def compute_correlation(self, y_true, y_pred):\r\n",
        "        y_pred = y_pred.flatten()\r\n",
        "        y_true = y_true.flatten()\r\n",
        "        return pearsonr(y_true, y_pred)\r\n",
        "        \r\n",
        "        \r\n",
        "\r\n",
        "\r\n",
        "    # ------------------------------------------------------------ Function to calculate the Mean Squared Error ------------------------------------------------------------\r\n",
        "       \r\n",
        "    def compute_mse(self, y_true, y_pred):\r\n",
        "        return np.average(losses.mean_squared_error(y_true, y_pred))\r\n",
        "\r\n",
        "\r\n",
        "\r\n",
        "\r\n",
        "    # ------------------------------------------------------------ Function to plot model loss ------------------------------------------------------------\r\n",
        "    \r\n",
        "    def plot_curves(self, history):\r\n",
        "        plt.plot(history.history['loss'])\r\n",
        "        plt.plot(history.history['val_loss'])\r\n",
        "        plt.title('model loss')\r\n",
        "        plt.ylabel('loss')\r\n",
        "        plt.xlabel('epoch')\r\n",
        "        plt.legend(['train','validation'], loc='upper left')\r\n",
        "        plt.show() "
      ],
      "execution_count": null,
      "outputs": []
    },
    {
      "cell_type": "markdown",
      "metadata": {
        "id": "6SYi93ON3Zoe"
      },
      "source": [
        "# Class MTLM (0.4873)"
      ]
    },
    {
      "cell_type": "code",
      "metadata": {
        "id": "_jQuQ88f3drW"
      },
      "source": [
        "class MTLM():\r\n",
        "\r\n",
        "\r\n",
        "    # ------------------------------------------------------------ Constructor ------------------------------------------------------------\r\n",
        "    \r\n",
        "    def __init__(self, base_model_type=\"CNN\", activation=\"relu\", kr_rate=0.001, score_loss=\"mse\", binary_loss=\"binary_crossentropy\", multiclass_loss=\"sparse_categorical_crossentropy\", cpkt=\"trial\"):\r\n",
        "        \r\n",
        "        self.kr_rate = kr_rate\r\n",
        "        # Set the model activation:\r\n",
        "        if activation == \"leaky_relu\":\r\n",
        "            self.activation = LeakyReLU()\r\n",
        "            self.kr_initializer = tf.keras.initializers.HeUniform()\r\n",
        "        elif activation == \"paramaterized_leaky_relu\":\r\n",
        "            self.activation = PReLU() \r\n",
        "            self.kr_initializer = tf.keras.initializers.HeUniform()          \r\n",
        "        elif activation == \"relu\":\r\n",
        "            self.activation = \"relu\"\r\n",
        "            self.kr_initializer = tf.keras.initializers.HeUniform()\r\n",
        "        else:\r\n",
        "            self.activation = activation\r\n",
        "            self.kr_initializer  = tf.keras.initializers.GlorotUniform()\r\n",
        "\r\n",
        "        # Set the regression loss:\r\n",
        "        self.score_metric = \"mean_squared_error\"\r\n",
        "        if score_loss == \"huber\":\r\n",
        "            delta = 2.0\r\n",
        "            self.score_loss = losses.Huber(delta=delta)\r\n",
        "        elif score_loss == \"log_cosh\":\r\n",
        "            self.score_loss = \"log_cosh\"\r\n",
        "        elif score_loss == \"mean_squared_logarithmic_error\":\r\n",
        "            self.score_loss = \"mean_squared_logarithmic_error\"\r\n",
        "        elif score_loss == \"mae\":\r\n",
        "            self.score_loss = \"mae\"\r\n",
        "        else:\r\n",
        "            self.score_loss = \"mse\"\r\n",
        "\r\n",
        "        # Set the binary classification loss:\r\n",
        "        if binary_loss == \"hinge\":\r\n",
        "            self.binary_loss = \"hinge\"\r\n",
        "            self.binary_activation = \"tanh\"\r\n",
        "        elif binary_loss == \"squared_hinge\":\r\n",
        "            self.binary_loss = \"squared_hinge\"\r\n",
        "            self.binary_activation = \"tanh\"\r\n",
        "        else:\r\n",
        "            self.binary_loss = \"binary_crossentropy\"\r\n",
        "            self.binary_activation = \"sigmoid\"\r\n",
        "\r\n",
        "        # Set the multi-class calssification loss:\r\n",
        "        if multiclass_loss == \"kld\":\r\n",
        "            self.multiclass_loss = \"kl_divergence\"\r\n",
        "        else:\r\n",
        "            self.multiclass_loss = \"sparse_categorical_crossentropy\"\r\n",
        "\r\n",
        "        self.base_model_type = base_model_type\r\n",
        "        self.bert_models = [\"BERT\", \"DistilBERT\", \"RoBERTa\", \"custom\"]\r\n",
        "        if self.base_model_type in self.bert_models:\r\n",
        "            self.base_model = BertModel(self.activation, self.kr_initializer, self.kr_rate, self.base_model_type, output_hidden_states=False)\r\n",
        "        elif self.base_model_type == \"CNN\":\r\n",
        "            self.base_model = CNN(self.activation, self.kr_initializer, self.kr_rate)\r\n",
        "        elif self.base_model_type == \"BiLSTM\":\r\n",
        "            self.base_model = BiLSTM(self.activation, self.kr_initializer, self.kr_rate)\r\n",
        "\r\n",
        "        self.gender_encoder = LabelEncoder()\r\n",
        "        self.education_encoder = LabelEncoder()\r\n",
        "        self.race_encoder = LabelEncoder()\r\n",
        "        self.emotion_encoder = LabelEncoder()\r\n",
        "        self.age_encoder = LabelEncoder()\r\n",
        "        \r\n",
        "        # ModelCheckPoint Callback:\r\n",
        "\r\n",
        "        if score_loss == \"huber\":\r\n",
        "            cpkt = cpkt + \"-{}-{}\".format(score_loss, delta)\r\n",
        "        else:\r\n",
        "            cpkt = cpkt + \"-{}\".format(score_loss)\r\n",
        "        cpkt = cpkt + \"-epoch-{epoch:02d}-val-loss-{val_score_output_loss:02f}.h5\"\r\n",
        "        checkpoint_filepath = \"/content/gdrive/My Drive/WASSA-2021-Shared-Task/model-weights/\"+ cpkt\r\n",
        "        self.model_checkpoint_callback = ModelCheckpoint(filepath=checkpoint_filepath,\r\n",
        "                                                    save_weights_only=True,\r\n",
        "                                                    monitor='val_score_output_loss',\r\n",
        "                                                    mode='auto',\r\n",
        "                                                    save_freq = 'epoch',\r\n",
        "                                                    save_best_only=True)\r\n",
        "\r\n",
        "        # Reduce Learning Rate on Plateau Callback:\r\n",
        "        self.reduce_lr_callback = ReduceLROnPlateau(monitor='val_score_output_loss', \r\n",
        "                                                    mode='auto',\r\n",
        "                                                    factor=0.2, \r\n",
        "                                                    patience=10, \r\n",
        "                                                    min_lr=0.0005, \r\n",
        "                                                    verbose=1)\r\n",
        "        # Early Stopping\r\n",
        "        self.early_stopping = EarlyStopping(monitor='val_score_output_loss', \r\n",
        "                                            patience=20,\r\n",
        "                                            verbose=1)\r\n",
        "\r\n",
        "\r\n",
        "\r\n",
        "\r\n",
        "\r\n",
        "    # ------------------------------------------------------------ Function to prepare input for respective models ------------------------------------------------------------\r\n",
        "    \r\n",
        "    def prepare_input(self, utils_obj, df, maxlen=200, padding_type='post', truncating_type='post', mode=\"train\"):\r\n",
        "        # iri_input = df[[\"iri_perspective_taking\", \r\n",
        "        #                 \"iri_personal_distress\", \r\n",
        "        #                 \"iri_fantasy\", \r\n",
        "        #                 \"iri_empathatic_concern\"]].values.tolist()\r\n",
        "        # iri_input = np.reshape(iri_input, (len(iri_input), len(iri_input[0])))\r\n",
        "\r\n",
        "        # personality_input = df[[\"personality_conscientiousness\", \r\n",
        "        #                         \"personality_openess\", \r\n",
        "        #                         \"personality_extraversion\", \r\n",
        "        #                         \"personality_agreeableness\", \r\n",
        "        #                         \"personality_stability\"]].values.tolist()\r\n",
        "        # personality_input = np.reshape(personality_input, (len(personality_input), len(personality_input[0])))\r\n",
        "\r\n",
        "\r\n",
        "        essay = [pre.clean_text(text, remove_stopwords=False, lemmatize=False) for text in df.essay.values.tolist()]\r\n",
        "        if self.base_model_type in self.bert_models:\r\n",
        "            #return [self.base_model.prepare_input(essay, maxlen), iri_input, personality_input]\r\n",
        "            return self.base_model.prepare_input(essay, maxlen)\r\n",
        "        else:\r\n",
        "            #return [self.base_model.prepare_input(utils_obj, essay, maxlen, padding_type, truncating_type, mode), iri_input, personality_input]\r\n",
        "            return self.base_model.prepare_input(utils_obj, essay, maxlen, padding_type, truncating_type, mode)\r\n",
        "\r\n",
        "\r\n",
        "\r\n",
        "\r\n",
        "\r\n",
        "\r\n",
        "    # ------------------------------------------------------------ Funciton to prepare model outputs ------------------------------------------------------------\r\n",
        "    \r\n",
        "    def prepare_output(self,utils,  df, task=\"empathy\", mode=\"train\"):\r\n",
        "        emotion = np.reshape(df.gold_emotion.values.tolist(), (len(df), 1))\r\n",
        "        gender = np.reshape(df.gender.values.tolist(), (len(df), 1))\r\n",
        "        education = np.reshape(df.education.values.tolist(), (len(df), 1))\r\n",
        "        race = np.reshape(df.race.values.tolist(), (len(df), 1))\r\n",
        "        age = np.reshape(df.age.apply(lambda x: utils.categorize_age(x)).values.tolist(), (len(df), 1))\r\n",
        "\r\n",
        "        if mode == \"train\":\r\n",
        "            emotion = self.emotion_encoder.fit_transform(emotion)\r\n",
        "            gender = self.gender_encoder.fit_transform(gender)\r\n",
        "            education = self.education_encoder.fit_transform(education)\r\n",
        "            #age = self.age_encoder.fit_transform(age)\r\n",
        "            race = self.race_encoder.fit_transform(race)\r\n",
        "\r\n",
        "        elif mode == \"dev\" or \"test\":\r\n",
        "            emotion = self.emotion_encoder.transform(emotion)\r\n",
        "            gender = self.gender_encoder.transform(gender)\r\n",
        "            education = self.education_encoder.transform(education)\r\n",
        "            #age = self.age_encoder.transform(age)\r\n",
        "            race = self.race_encoder.transform(race)\r\n",
        "\r\n",
        "        if task == \"empathy\":\r\n",
        "            score = np.reshape(df.gold_empathy.values.tolist(), (len(df), 1))\r\n",
        "            bin = np.reshape(df.gold_empathy_bin.values.tolist(), (len(df), 1))\r\n",
        "            return [bin, emotion, gender, education, race, score]\r\n",
        "        if task == \"distress\":\r\n",
        "            score = np.reshape(df.gold_distress.values.tolist(), (len(df), 1))\r\n",
        "            bin = np.reshape(df.gold_distress_bin.values.tolist(), (len(df), 1))\r\n",
        "            return[bin, emotion, gender, education, race, score]\r\n",
        "\r\n",
        "\r\n",
        "\r\n",
        "\r\n",
        "\r\n",
        "    # ------------------------------------------------------------ Function to build the model ------------------------------------------------------------\r\n",
        "    \r\n",
        "    def build(self, embedding_matrix, input_length=100):\r\n",
        "        if self.base_model_type in self.bert_models:\r\n",
        "            input_ids = Input(shape=(input_length,), name=\"input_ids\")\r\n",
        "            attention_mask = Input(shape=(input_length,), name=\"attention_mask\")\r\n",
        "            base_output = self.base_model.build(input_length)([input_ids, attention_mask])\r\n",
        "        else:\r\n",
        "            input = Input(shape=(input_length,), name=\"base_model_input\")\r\n",
        "            base_output = self.base_model.build(input_length, embedding_matrix)(input)\r\n",
        "\r\n",
        "        x1 = Dense(32, activation=self.activation, kernel_initializer=self.kr_initializer, kernel_regularizer=l2(self.kr_rate))(base_output)\r\n",
        "        bin = Dense(1, activation=\"sigmoid\", name='bin_output')(x1)\r\n",
        "\r\n",
        "        x2 = Dense(32, activation=self.activation, kernel_initializer=self.kr_initializer, kernel_regularizer=l2(self.kr_rate))(base_output)\r\n",
        "        emotion = Dense(7, activation='softmax', name='emotion_output')(x2)\r\n",
        "\r\n",
        "        x3 = Dense(32, activation=self.activation, kernel_initializer=self.kr_initializer, kernel_regularizer=l2(self.kr_rate))(base_output)\r\n",
        "        gender = Dense(3, activation='softmax', name='gender_output')(x3)\r\n",
        "        \r\n",
        "        x4 = Dense(32, activation=self.activation, kernel_initializer=self.kr_initializer, kernel_regularizer=l2(self.kr_rate))(base_output)\r\n",
        "        education = Dense(6, activation='softmax', name='education_output')(x4)\r\n",
        "  \r\n",
        "        x5 = Dense(32, activation=self.activation, kernel_initializer=self.kr_initializer, kernel_regularizer=l2(self.kr_rate))(base_output)\r\n",
        "        race = Dense(6, activation='softmax', name='race_output')(x5)\r\n",
        "\r\n",
        "        x = Concatenate(axis=1)([x1, x2, x3, x4, x5])\r\n",
        "        #x = Dropout(0.2)(x)\r\n",
        "        x = Dense(16, activation=self.activation, kernel_initializer=self.kr_initializer)(x)\r\n",
        "        score = Dense(1, name='score_output')(x)\r\n",
        "        \r\n",
        "        if self.base_model_type in self.bert_models:\r\n",
        "            self.model = Model(inputs=[input_ids, attention_mask], \r\n",
        "                               outputs=[bin, emotion, gender, education, race, score])\r\n",
        "        else:\r\n",
        "            self.model = Model(inputs=input, \r\n",
        "                               outputs=[bin, emotion, gender, education, race, score])\r\n",
        "        self.model.compile(optimizer=Adam(lr=0.001), \r\n",
        "                           loss={\"bin_output\":self.binary_loss,                                                           \r\n",
        "                                 \"emotion_output\":self.multiclass_loss,\r\n",
        "                                 \"gender_output\":self.multiclass_loss,\r\n",
        "                                 \"education_output\":self.multiclass_loss,\r\n",
        "                                 \"race_output\":self.multiclass_loss,\r\n",
        "                                 \"score_output\":self.score_loss},\r\n",
        "                           metrics={\"score_output\":self.score_metric})\r\n",
        "        self.model.summary()\r\n",
        "\r\n",
        "\r\n",
        "\r\n",
        "\r\n",
        "\r\n",
        "    # ------------------------------------------------------------ Function to plot model architecture ------------------------------------------------------------\r\n",
        "        \r\n",
        "    def plot_model_arch(self):\r\n",
        "        return plot_model(self.model, show_shapes=True)\r\n",
        "\r\n",
        "\r\n",
        "\r\n",
        "\r\n",
        "\r\n",
        "    # ------------------------------------------------------------ Function to train the model ------------------------------------------------------------\r\n",
        "    \r\n",
        "    def train(self, x_train, y_train, x_val, y_val, epochs=200, batch_size=32):\r\n",
        "        history = self.model.fit(x_train,\r\n",
        "                                 y_train, \r\n",
        "                                 epochs=epochs, \r\n",
        "                                 batch_size=batch_size, \r\n",
        "                                 verbose=1, \r\n",
        "                                 validation_data = (x_val, y_val),\r\n",
        "                                 callbacks=[self.model_checkpoint_callback, self.reduce_lr_callback, self.early_stopping])\r\n",
        "        return history\r\n",
        "\r\n",
        "\r\n",
        "\r\n",
        "\r\n",
        "\r\n",
        "    # ------------------------------------------------------------ Function to predict model output ------------------------------------------------------------\r\n",
        "    \r\n",
        "    def prediction(self, val_essay, model_path=\"\"):\r\n",
        "        model_path = \"/content/gdrive/My Drive/WASSA-2021-Shared-Task/model-weights/\"+model_path\r\n",
        "        self.model.load_weights(model_path)\r\n",
        "        pred = self.model.predict(val_essay)\r\n",
        "        return pred[-1]\r\n",
        "\r\n",
        "\r\n",
        "\r\n",
        "\r\n",
        "\r\n",
        "    # ------------------------------------------------------------ Function to calculate the Pearson's correlation ------------------------------------------------------------\r\n",
        "    \r\n",
        "    def compute_correlation(self, y_true, y_pred):\r\n",
        "        y_pred = y_pred.flatten()\r\n",
        "        y_true = y_true.flatten()\r\n",
        "        return pearsonr(y_true, y_pred)\r\n",
        "        \r\n",
        "        \r\n",
        "\r\n",
        "\r\n",
        "    # ------------------------------------------------------------ Function to calculate the Mean Squared Error ------------------------------------------------------------\r\n",
        "       \r\n",
        "    def compute_mse(self, y_true, y_pred):\r\n",
        "        return np.average(losses.mean_squared_error(y_true, y_pred))\r\n",
        "\r\n",
        "\r\n",
        "\r\n",
        "\r\n",
        "    # ------------------------------------------------------------ Function to plot model loss ------------------------------------------------------------\r\n",
        "    \r\n",
        "    def plot_curves(self, history):\r\n",
        "        plt.plot(history.history['loss'])\r\n",
        "        plt.plot(history.history['val_loss'])\r\n",
        "        plt.title('model loss')\r\n",
        "        plt.ylabel('loss')\r\n",
        "        plt.xlabel('epoch')\r\n",
        "        plt.legend(['train','validation'], loc='upper left')\r\n",
        "        plt.show() "
      ],
      "execution_count": null,
      "outputs": []
    },
    {
      "cell_type": "markdown",
      "metadata": {
        "id": "Fk6FuKcZ1A-_"
      },
      "source": [
        ""
      ]
    },
    {
      "cell_type": "markdown",
      "metadata": {
        "id": "Ju10HKUTuuhc"
      },
      "source": [
        "# Trial Class MTLM"
      ]
    },
    {
      "cell_type": "code",
      "metadata": {
        "id": "ovIYuahxuyjd"
      },
      "source": [
        "class MTLM():\r\n",
        "\r\n",
        "\r\n",
        "    # ------------------------------------------------------------ Constructor ------------------------------------------------------------\r\n",
        "    \r\n",
        "    def __init__(self, base_model_type=\"CNN\", activation=\"relu\", kr_rate=0.001, score_loss=\"mse\", binary_loss=\"binary_crossentropy\", multiclass_loss=\"sparse_categorical_crossentropy\", cpkt=\"trial\"):\r\n",
        "        \r\n",
        "        self.kr_rate = kr_rate\r\n",
        "        # Set the model activation:\r\n",
        "        if activation == \"leaky_relu\":\r\n",
        "            self.activation = LeakyReLU()\r\n",
        "            self.kr_initializer = tf.keras.initializers.HeUniform()\r\n",
        "        elif activation == \"paramaterized_leaky_relu\":\r\n",
        "            self.activation = PReLU() \r\n",
        "            self.kr_initializer = tf.keras.initializers.HeUniform()          \r\n",
        "        elif activation == \"relu\":\r\n",
        "            self.activation = \"relu\"\r\n",
        "            self.kr_initializer = tf.keras.initializers.HeUniform()\r\n",
        "        else:\r\n",
        "            self.activation = activation\r\n",
        "            self.kr_initializer  = tf.keras.initializers.GlorotUniform()\r\n",
        "\r\n",
        "        # Set the regression loss:\r\n",
        "        self.score_metric = \"mean_squared_error\"\r\n",
        "        if score_loss == \"huber\":\r\n",
        "            delta = 2.0\r\n",
        "            self.score_loss = losses.Huber(delta=delta)\r\n",
        "        elif score_loss == \"log_cosh\":\r\n",
        "            self.score_loss = \"log_cosh\"\r\n",
        "        elif score_loss == \"mean_squared_logarithmic_error\":\r\n",
        "            self.score_loss = \"mean_squared_logarithmic_error\"\r\n",
        "        elif score_loss == \"mae\":\r\n",
        "            self.score_loss = \"mae\"\r\n",
        "        else:\r\n",
        "            self.score_loss = \"mse\"\r\n",
        "\r\n",
        "        # Set the binary classification loss:\r\n",
        "        if binary_loss == \"hinge\":\r\n",
        "            self.binary_loss = \"hinge\"\r\n",
        "            self.binary_activation = \"tanh\"\r\n",
        "        elif binary_loss == \"squared_hinge\":\r\n",
        "            self.binary_loss = \"squared_hinge\"\r\n",
        "            self.binary_activation = \"tanh\"\r\n",
        "        else:\r\n",
        "            self.binary_loss = \"binary_crossentropy\"\r\n",
        "            self.binary_activation = \"sigmoid\"\r\n",
        "\r\n",
        "        # Set the multi-class calssification loss:\r\n",
        "        if multiclass_loss == \"kld\":\r\n",
        "            self.multiclass_loss = \"kl_divergence\"\r\n",
        "        else:\r\n",
        "            self.multiclass_loss = \"sparse_categorical_crossentropy\"\r\n",
        "\r\n",
        "        self.base_model_type = base_model_type\r\n",
        "        self.bert_models = [\"BERT\", \"DistilBERT\", \"RoBERTa\", \"custom\"]\r\n",
        "        if self.base_model_type in self.bert_models:\r\n",
        "            self.base_model = BertModel(self.activation, self.kr_initializer, self.kr_rate, self.base_model_type, output_hidden_states=False)\r\n",
        "        elif self.base_model_type == \"CNN\":\r\n",
        "            self.base_model = CNN(self.activation, self.kr_initializer, self.kr_rate)\r\n",
        "        elif self.base_model_type == \"BiLSTM\":\r\n",
        "            self.base_model = BiLSTM(self.activation, self.kr_initializer, self.kr_rate)\r\n",
        "\r\n",
        "        self.gender_encoder = LabelEncoder()\r\n",
        "        self.education_encoder = LabelEncoder()\r\n",
        "        self.race_encoder = LabelEncoder()\r\n",
        "        self.emotion_encoder = LabelEncoder()\r\n",
        "        self.age_encoder = LabelEncoder()\r\n",
        "        \r\n",
        "        # ModelCheckPoint Callback:\r\n",
        "\r\n",
        "        if score_loss == \"huber\":\r\n",
        "            cpkt = cpkt + \"-{}-{}\".format(score_loss, delta)\r\n",
        "        else:\r\n",
        "            cpkt = cpkt + \"-{}\".format(score_loss)\r\n",
        "        cpkt = cpkt + \"-epoch-{epoch:02d}-val-loss-{val_score_output_loss:02f}.h5\"\r\n",
        "        checkpoint_filepath = \"/content/gdrive/My Drive/WASSA-2021-Shared-Task/model-weights/\"+ cpkt\r\n",
        "        self.model_checkpoint_callback = ModelCheckpoint(filepath=checkpoint_filepath,\r\n",
        "                                                    save_weights_only=True,\r\n",
        "                                                    monitor='val_score_output_loss',\r\n",
        "                                                    mode='auto',\r\n",
        "                                                    save_freq = 'epoch',\r\n",
        "                                                    save_best_only=True)\r\n",
        "\r\n",
        "        # Reduce Learning Rate on Plateau Callback:\r\n",
        "        self.reduce_lr_callback = ReduceLROnPlateau(monitor='val_score_output_loss', \r\n",
        "                                                    mode='auto',\r\n",
        "                                                    factor=0.2, \r\n",
        "                                                    patience=10, \r\n",
        "                                                    min_lr=0.0005, \r\n",
        "                                                    verbose=1)\r\n",
        "        # Early Stopping\r\n",
        "        self.early_stopping = EarlyStopping(monitor='val_score_output_loss', \r\n",
        "                                            patience=20,\r\n",
        "                                            verbose=1)\r\n",
        "\r\n",
        "\r\n",
        "\r\n",
        "\r\n",
        "\r\n",
        "    # ------------------------------------------------------------ Function to prepare input for respective models ------------------------------------------------------------\r\n",
        "    \r\n",
        "    def prepare_input(self, utils_obj, df, maxlen=200, padding_type='post', truncating_type='post', mode=\"train\"):\r\n",
        "        # iri_input = df[[\"iri_perspective_taking\", \r\n",
        "        #                 \"iri_personal_distress\", \r\n",
        "        #                 \"iri_fantasy\", \r\n",
        "        #                 \"iri_empathatic_concern\"]].values.tolist()\r\n",
        "        # iri_input = np.reshape(iri_input, (len(iri_input), len(iri_input[0])))\r\n",
        "\r\n",
        "        # personality_input = df[[\"personality_conscientiousness\", \r\n",
        "        #                         \"personality_openess\", \r\n",
        "        #                         \"personality_extraversion\", \r\n",
        "        #                         \"personality_agreeableness\", \r\n",
        "        #                         \"personality_stability\"]].values.tolist()\r\n",
        "        # personality_input = np.reshape(personality_input, (len(personality_input), len(personality_input[0])))\r\n",
        "\r\n",
        "        essay = [pre.clean_text(text, remove_stopwords=False, lemmatize=False) for text in df.essay.values.tolist()]\r\n",
        "        senti_scores = [TextBlob(text).sentiment[0:] for text in essay]\r\n",
        "        senti_scores = np.array([*senti_scores])\r\n",
        "        if self.base_model_type in self.bert_models:\r\n",
        "            #return [self.base_model.prepare_input(essay, maxlen), iri_input, personality_input]\r\n",
        "            return [self.base_model.prepare_input(essay, maxlen), senti_scores]\r\n",
        "        else:\r\n",
        "            #return [self.base_model.prepare_input(utils_obj, essay, maxlen, padding_type, truncating_type, mode), iri_input, personality_input]\r\n",
        "            return [self.base_model.prepare_input(utils_obj, essay, maxlen, padding_type, truncating_type, mode), senti_scores]\r\n",
        "\r\n",
        "\r\n",
        "\r\n",
        "\r\n",
        "\r\n",
        "\r\n",
        "    # ------------------------------------------------------------ Funciton to prepare model outputs ------------------------------------------------------------\r\n",
        "    \r\n",
        "    def prepare_output(self,utils,  df, task=\"empathy\", mode=\"train\"):\r\n",
        "        emotion = np.reshape(df.gold_emotion.values.tolist(), (len(df), 1))\r\n",
        "        gender = np.reshape(df.gender.values.tolist(), (len(df), 1))\r\n",
        "        education = np.reshape(df.education.values.tolist(), (len(df), 1))\r\n",
        "        race = np.reshape(df.race.values.tolist(), (len(df), 1))\r\n",
        "        age = np.reshape(df.age.apply(lambda x: utils.categorize_age(x)).values.tolist(), (len(df), 1))\r\n",
        "\r\n",
        "        if mode == \"train\":\r\n",
        "            emotion = self.emotion_encoder.fit_transform(emotion)\r\n",
        "            gender = self.gender_encoder.fit_transform(gender)\r\n",
        "            education = self.education_encoder.fit_transform(education)\r\n",
        "            #age = self.age_encoder.fit_transform(age)\r\n",
        "            race = self.race_encoder.fit_transform(race)\r\n",
        "\r\n",
        "        elif mode == \"dev\" or \"test\":\r\n",
        "            emotion = self.emotion_encoder.transform(emotion)\r\n",
        "            gender = self.gender_encoder.transform(gender)\r\n",
        "            education = self.education_encoder.transform(education)\r\n",
        "            #age = self.age_encoder.transform(age)\r\n",
        "            race = self.race_encoder.transform(race)\r\n",
        "\r\n",
        "        if task == \"empathy\":\r\n",
        "            score = np.reshape(df.gold_empathy.values.tolist(), (len(df), 1))\r\n",
        "            bin = np.reshape(df.gold_empathy_bin.values.tolist(), (len(df), 1))\r\n",
        "            return [bin, emotion, gender, education, race, score]\r\n",
        "        if task == \"distress\":\r\n",
        "            score = np.reshape(df.gold_distress.values.tolist(), (len(df), 1))\r\n",
        "            bin = np.reshape(df.gold_distress_bin.values.tolist(), (len(df), 1))\r\n",
        "            return[bin, emotion, gender, education, race, score]\r\n",
        "\r\n",
        "\r\n",
        "\r\n",
        "\r\n",
        "\r\n",
        "    # ------------------------------------------------------------ Function to build the model ------------------------------------------------------------\r\n",
        "    \r\n",
        "    def build(self, embedding_matrix, input_length=100):\r\n",
        "        if self.base_model_type in self.bert_models:\r\n",
        "            input_ids = Input(shape=(input_length,), name=\"input_ids\")\r\n",
        "            attention_mask = Input(shape=(input_length,), name=\"attention_mask\")\r\n",
        "            base_output = self.base_model.build(input_length)([input_ids, attention_mask])\r\n",
        "        else:\r\n",
        "            input = Input(shape=(input_length,), name=\"base_model_input\")\r\n",
        "            base_output = self.base_model.build(input_length, embedding_matrix)(input)\r\n",
        "\r\n",
        "        x1 = Dense(16, activation=self.activation, kernel_initializer=self.kr_initializer, kernel_regularizer=l2(self.kr_rate))(base_output)\r\n",
        "        bin = Dense(1, activation=\"sigmoid\", name='bin_output')(x1)\r\n",
        "\r\n",
        "        senti_input = Input(shape=(2,))\r\n",
        "        senti_dense = Dense(2, activation=self.activation, kernel_initializer=self.kr_initializer)(senti_input)\r\n",
        "        x2 = Dense(16, activation=self.activation, kernel_initializer=self.kr_initializer, kernel_regularizer=l2(self.kr_rate))(base_output)\r\n",
        "        x2 = Concatenate(axis=1)([x2, senti_dense])        \r\n",
        "        emotion = Dense(7, activation='softmax', name='emotion_output')(x2)\r\n",
        "\r\n",
        "        x3 = Dense(16, activation=self.activation, kernel_initializer=self.kr_initializer, kernel_regularizer=l2(self.kr_rate))(base_output)\r\n",
        "        gender = Dense(3, activation='softmax', name='gender_output')(x3)\r\n",
        "        \r\n",
        "        x4 = Dense(16, activation=self.activation, kernel_initializer=self.kr_initializer, kernel_regularizer=l2(self.kr_rate))(base_output)\r\n",
        "        education = Dense(6, activation='softmax', name='education_output')(x4)\r\n",
        "  \r\n",
        "        x5 = Dense(16, activation=self.activation, kernel_initializer=self.kr_initializer, kernel_regularizer=l2(self.kr_rate))(base_output)\r\n",
        "        race = Dense(6, activation='softmax', name='race_output')(x5)\r\n",
        "\r\n",
        "        x = Concatenate(axis=1)([x1, x2, x3, x4, x5])\r\n",
        "        x = Dense(16, activation=self.activation, kernel_initializer=self.kr_initializer)(x)\r\n",
        "        score = Dense(1, name='score_output')(x)\r\n",
        "        \r\n",
        "        if self.base_model_type in self.bert_models:\r\n",
        "            self.model = Model(inputs=[input_ids, attention_mask, senti_input], \r\n",
        "                               outputs=[bin, emotion, gender, education, race, score])\r\n",
        "        else:\r\n",
        "            self.model = Model(inputs=[input, senti_input], \r\n",
        "                               outputs=[bin, emotion, gender, education, race, score])\r\n",
        "        self.model.compile(optimizer=Adam(lr=0.001), \r\n",
        "                           loss={\"bin_output\":self.binary_loss,                                                           \r\n",
        "                                 \"emotion_output\":self.multiclass_loss,\r\n",
        "                                 \"gender_output\":self.multiclass_loss,\r\n",
        "                                 \"education_output\":self.multiclass_loss,\r\n",
        "                                 \"race_output\":self.multiclass_loss,\r\n",
        "                                 \"score_output\":self.score_loss},\r\n",
        "                        #    loss_weights={\"bin_output\": 1.0,                                                           \r\n",
        "                        #                  \"emotion_output\": 0.2,\r\n",
        "                        #                  \"gender_output\": 0.2,\r\n",
        "                        #                  \"education_output\": 0.2,\r\n",
        "                        #                  \"race_output\": 0.2,\r\n",
        "                        #                  \"score_output\": 1.0},\r\n",
        "                           metrics={\"score_output\":self.score_metric})\r\n",
        "        self.model.summary()\r\n",
        "\r\n",
        "\r\n",
        "\r\n",
        "\r\n",
        "\r\n",
        "    # ------------------------------------------------------------ Function to plot model architecture ------------------------------------------------------------\r\n",
        "        \r\n",
        "    def plot_model_arch(self):\r\n",
        "        return plot_model(self.model, show_shapes=True)\r\n",
        "\r\n",
        "\r\n",
        "\r\n",
        "\r\n",
        "\r\n",
        "    # ------------------------------------------------------------ Function to train the model ------------------------------------------------------------\r\n",
        "    \r\n",
        "    def train(self, x_train, y_train, x_val, y_val, epochs=200, batch_size=32):\r\n",
        "        history = self.model.fit(x_train,\r\n",
        "                                 y_train, \r\n",
        "                                 epochs=epochs, \r\n",
        "                                 batch_size=batch_size, \r\n",
        "                                 verbose=1, \r\n",
        "                                 validation_data = (x_val, y_val),\r\n",
        "                                 callbacks=[self.model_checkpoint_callback, self.reduce_lr_callback, self.early_stopping])\r\n",
        "        return history\r\n",
        "\r\n",
        "\r\n",
        "\r\n",
        "\r\n",
        "\r\n",
        "    # ------------------------------------------------------------ Function to predict model output ------------------------------------------------------------\r\n",
        "    \r\n",
        "    def prediction(self, val_essay, model_path=\"\"):\r\n",
        "        model_path = \"/content/gdrive/My Drive/WASSA-2021-Shared-Task/model-weights/\"+model_path\r\n",
        "        self.model.load_weights(model_path)\r\n",
        "        pred = self.model.predict(val_essay)\r\n",
        "        return pred[-1]\r\n",
        "\r\n",
        "\r\n",
        "\r\n",
        "\r\n",
        "\r\n",
        "    # ------------------------------------------------------------ Function to calculate the Pearson's correlation ------------------------------------------------------------\r\n",
        "    \r\n",
        "    def compute_correlation(self, y_true, y_pred):\r\n",
        "        y_pred = y_pred.flatten()\r\n",
        "        y_true = y_true.flatten()\r\n",
        "        return pearsonr(y_true, y_pred)\r\n",
        "        \r\n",
        "        \r\n",
        "\r\n",
        "\r\n",
        "    # ------------------------------------------------------------ Function to calculate the Mean Squared Error ------------------------------------------------------------\r\n",
        "       \r\n",
        "    def compute_mse(self, y_true, y_pred):\r\n",
        "        return np.average(losses.mean_squared_error(y_true, y_pred))\r\n",
        "\r\n",
        "\r\n",
        "\r\n",
        "\r\n",
        "    # ------------------------------------------------------------ Function to plot model loss ------------------------------------------------------------\r\n",
        "    \r\n",
        "    def plot_curves(self, history):\r\n",
        "        plt.plot(history.history['loss'])\r\n",
        "        plt.plot(history.history['val_loss'])\r\n",
        "        plt.title('model loss')\r\n",
        "        plt.ylabel('loss')\r\n",
        "        plt.xlabel('epoch')\r\n",
        "        plt.legend(['train','validation'], loc='upper left')\r\n",
        "        plt.show() "
      ],
      "execution_count": null,
      "outputs": []
    },
    {
      "cell_type": "markdown",
      "metadata": {
        "id": "A4wLbnzoHbuO"
      },
      "source": [
        "# Run Multi-task learning model"
      ]
    },
    {
      "cell_type": "code",
      "metadata": {
        "colab": {
          "base_uri": "https://localhost:8080/"
        },
        "id": "vIuRyJTrNUOw",
        "outputId": "31b54108-9a60-465d-d490-afa429f436e4"
      },
      "source": [
        "%%time\n",
        "myModel = MTLM(base_model_type=\"RoBERTa\",\n",
        "               cpkt=\"old-empathy-bin-1-emotion-gender-edu-race-16-senti-2-score-1-16-RoBERTa-avg-128-kr-0005\",\n",
        "               activation=\"tanh\",\n",
        "               kr_rate=0.0005,\n",
        "               score_loss=\"mse\")"
      ],
      "execution_count": null,
      "outputs": [
        {
          "output_type": "stream",
          "text": [
            "Some weights of the model checkpoint at roberta-base were not used when initializing TFRobertaModel: ['lm_head']\n",
            "- This IS expected if you are initializing TFRobertaModel from the checkpoint of a model trained on another task or with another architecture (e.g. initializing a BertForSequenceClassification model from a BertForPretraining model).\n",
            "- This IS NOT expected if you are initializing TFRobertaModel from the checkpoint of a model that you expect to be exactly identical (initializing a BertForSequenceClassification model from a BertForSequenceClassification model).\n",
            "All the weights of TFRobertaModel were initialized from the model checkpoint at roberta-base.\n",
            "If your task is similar to the task the model of the ckeckpoint was trained on, you can already use TFRobertaModel for predictions without further training.\n"
          ],
          "name": "stderr"
        },
        {
          "output_type": "stream",
          "text": [
            "CPU times: user 867 ms, sys: 372 ms, total: 1.24 s\n",
            "Wall time: 19.2 s\n"
          ],
          "name": "stdout"
        }
      ]
    },
    {
      "cell_type": "markdown",
      "metadata": {
        "id": "DtbZSjMZlDuM"
      },
      "source": [
        "# For normal DL models"
      ]
    },
    {
      "cell_type": "code",
      "metadata": {
        "id": "lpswM4z2ypMh"
      },
      "source": [
        "%%time\n",
        "prepared_train_essay, myTokenizer = myModel.prepare_input(utils,\n",
        "                                                          train_essay, \n",
        "                                                          maxlen=200, \n",
        "                                                          padding_type='post', \n",
        "                                                          truncating_type='post', \n",
        "                                                          mode=\"train\")\n",
        "print(prepared_train_essay.shape)\n",
        "vocab = list(myTokenizer.word_index.keys())\n",
        "print(len(vocab))"
      ],
      "execution_count": null,
      "outputs": []
    },
    {
      "cell_type": "code",
      "metadata": {
        "id": "CtZBGceyN-Ef"
      },
      "source": [
        "%%time\n",
        "prepared_dev_essay = myModel.prepare_input(utils,\n",
        "                                           dev_essay, \n",
        "                                           maxlen=200, \n",
        "                                           padding_type='post', \n",
        "                                           truncating_type='post', \n",
        "                                           mode=\"test\")\n",
        "print(prepared_dev_essay.shape)"
      ],
      "execution_count": null,
      "outputs": []
    },
    {
      "cell_type": "code",
      "metadata": {
        "id": "3dKB5qISF67u"
      },
      "source": [
        "%%time\n",
        "embedding_matrix = utils.get_embedding_matrix(\"/content/gdrive/My Drive/word-embeddings/glove.word2vec.6B.300d.bin\", \n",
        "                                              vocab, \n",
        "                                              top=100000)\n",
        "print(embedding_matrix.shape)"
      ],
      "execution_count": null,
      "outputs": []
    },
    {
      "cell_type": "code",
      "metadata": {
        "id": "h_Xt0hjaDPnN"
      },
      "source": [
        "%%time\n",
        "myModel.build(embedding_matrix, \n",
        "              input_length=200)"
      ],
      "execution_count": null,
      "outputs": []
    },
    {
      "cell_type": "code",
      "metadata": {
        "id": "uBQQEB9LDPjG"
      },
      "source": [
        "model_arch = myModel.plot_model_arch()\n",
        "model_arch"
      ],
      "execution_count": null,
      "outputs": []
    },
    {
      "cell_type": "code",
      "metadata": {
        "id": "BqXxtO6oDPgS"
      },
      "source": [
        "%%time\n",
        "histroy = myModel.train(prepared_train_essay,\n",
        "                        train_outputs, \n",
        "                        prepared_val_essay, \n",
        "                        val_outputs,\n",
        "                        epochs=200,\n",
        "                        batch_size=32)"
      ],
      "execution_count": null,
      "outputs": []
    },
    {
      "cell_type": "code",
      "metadata": {
        "id": "eUjqU4ABDVcP"
      },
      "source": [
        "%%time\n",
        "y_pred = myModel.prediction(prepared_val_essay, \n",
        "                            model_path=\"mtlm-emotions-demographic-groups-RoBERTa-epoch-09-val-loss-2.358688.h5\")\n",
        "print(y_pred.shape)"
      ],
      "execution_count": null,
      "outputs": []
    },
    {
      "cell_type": "code",
      "metadata": {
        "id": "nVYgcHAsDVZ8"
      },
      "source": [
        "%%time\n",
        "corr = myModel.correlation(val_outputs[-1], y_pred)\n",
        "print(\"Pearson's Correlation\", corr[0])\n",
        "print(\"P-value\", corr[1])"
      ],
      "execution_count": null,
      "outputs": []
    },
    {
      "cell_type": "code",
      "metadata": {
        "colab": {
          "base_uri": "https://localhost:8080/"
        },
        "id": "gWTWx2E7gZ7V",
        "outputId": "584a0beb-2ce5-4ef8-8543-7a83ade60d88"
      },
      "source": [
        "#MODEL = \"cardiffnlp/bertweet-base-emotion\"\n",
        "MODEL = \"nateraw/bert-base-uncased-emotion\"\n",
        "#MODEL = \"cardiffnlp/twitter-roberta-base-emotion\"\n",
        "\n",
        "config = AutoConfig.from_pretrained(MODEL)\n",
        "tokenizer = AutoTokenizer.from_pretrained(MODEL)\n",
        "model = AutoModelForSequenceClassification.from_pretrained(MODEL)\n"
      ],
      "execution_count": null,
      "outputs": [
        {
          "output_type": "stream",
          "text": [
            "Some weights of the model checkpoint at nateraw/bert-base-uncased-emotion were not used when initializing BertForSequenceClassification: ['bert.embeddings.position_ids']\n",
            "- This IS expected if you are initializing BertForSequenceClassification from the checkpoint of a model trained on another task or with another architecture (e.g. initializing a BertForSequenceClassification model from a BertForPretraining model).\n",
            "- This IS NOT expected if you are initializing BertForSequenceClassification from the checkpoint of a model that you expect to be exactly identical (initializing a BertForSequenceClassification model from a BertForSequenceClassification model).\n"
          ],
          "name": "stderr"
        }
      ]
    },
    {
      "cell_type": "markdown",
      "metadata": {
        "id": "5XX4MzjWlHCc"
      },
      "source": [
        "# For BERT based models"
      ]
    },
    {
      "cell_type": "code",
      "metadata": {
        "colab": {
          "base_uri": "https://localhost:8080/"
        },
        "id": "goM7EU_GlB57",
        "outputId": "9a785ef1-8ba4-4a6b-8f95-848edf3e233e"
      },
      "source": [
        "%%time\n",
        "prepared_train = myModel.prepare_input(utils,\n",
        "                                       train_data,\n",
        "                                       maxlen=200)\n",
        "print(len(prepared_train))\n",
        "print(prepared_train[0][0].shape)\n",
        "print(prepared_train[0][1].shape)\n",
        "print(prepared_train[1].shape)"
      ],
      "execution_count": null,
      "outputs": [
        {
          "output_type": "stream",
          "text": [
            "2\n",
            "(1860, 200)\n",
            "(1860, 200)\n",
            "(1860, 2)\n",
            "CPU times: user 2.89 s, sys: 0 ns, total: 2.89 s\n",
            "Wall time: 2.89 s\n"
          ],
          "name": "stdout"
        }
      ]
    },
    {
      "cell_type": "code",
      "metadata": {
        "colab": {
          "base_uri": "https://localhost:8080/"
        },
        "id": "dsb6R-HmlXyu",
        "outputId": "97b678eb-c2b1-4774-a060-3c32529707e6"
      },
      "source": [
        "%%time\n",
        "prepared_dev = myModel.prepare_input(utils,\n",
        "                                     dev_data,\n",
        "                                     maxlen=200)\n",
        "print(len(prepared_dev))\n",
        "print(prepared_dev[0][0].shape)\n",
        "print(prepared_dev[0][1].shape)\n",
        "print(prepared_dev[1].shape)"
      ],
      "execution_count": null,
      "outputs": [
        {
          "output_type": "stream",
          "text": [
            "2\n",
            "(270, 200)\n",
            "(270, 200)\n",
            "(270, 2)\n",
            "CPU times: user 374 ms, sys: 0 ns, total: 374 ms\n",
            "Wall time: 377 ms\n"
          ],
          "name": "stdout"
        }
      ]
    },
    {
      "cell_type": "code",
      "metadata": {
        "colab": {
          "base_uri": "https://localhost:8080/"
        },
        "id": "eDuoW2Ah3Qdm",
        "outputId": "7a810137-dbfa-40e4-dffb-23b4d2dca4f1"
      },
      "source": [
        "%%time\n",
        "train_outputs = myModel.prepare_output(utils, train_data, task=\"empathy\", mode=\"train\")\n",
        "print(len(train_outputs))\n",
        "print(train_outputs[0].shape)\n",
        "\n",
        "dev_outputs = myModel.prepare_output(utils, dev_data, task=\"empathy\", mode=\"val\")\n",
        "print(len(dev_outputs))\n",
        "print(dev_outputs[0].shape)"
      ],
      "execution_count": null,
      "outputs": [
        {
          "output_type": "stream",
          "text": [
            "6\n",
            "(1860, 1)\n",
            "6\n",
            "(270, 1)\n",
            "CPU times: user 8.52 ms, sys: 0 ns, total: 8.52 ms\n",
            "Wall time: 8.33 ms\n"
          ],
          "name": "stdout"
        }
      ]
    },
    {
      "cell_type": "code",
      "metadata": {
        "colab": {
          "base_uri": "https://localhost:8080/"
        },
        "id": "Sb7WmfAmHoi5",
        "outputId": "87942155-9ae3-46f5-cec8-8560673d987f"
      },
      "source": [
        "%%time\n",
        "myModel.build(np.zeros((1,1)), \n",
        "              input_length=200)"
      ],
      "execution_count": null,
      "outputs": [
        {
          "output_type": "stream",
          "text": [
            "Model: \"model_3\"\n",
            "__________________________________________________________________________________________________\n",
            "Layer (type)                    Output Shape         Param #     Connected to                     \n",
            "==================================================================================================\n",
            "input_ids (InputLayer)          [(None, 200)]        0                                            \n",
            "__________________________________________________________________________________________________\n",
            "attention_mask (InputLayer)     [(None, 200)]        0                                            \n",
            "__________________________________________________________________________________________________\n",
            "model_2 (Functional)            (None, 128)          124744064   input_ids[0][0]                  \n",
            "                                                                 attention_mask[0][0]             \n",
            "__________________________________________________________________________________________________\n",
            "input_2 (InputLayer)            [(None, 2)]          0                                            \n",
            "__________________________________________________________________________________________________\n",
            "dense_10 (Dense)                (None, 16)           2064        model_2[0][0]                    \n",
            "__________________________________________________________________________________________________\n",
            "dense_9 (Dense)                 (None, 2)            6           input_2[0][0]                    \n",
            "__________________________________________________________________________________________________\n",
            "dense_8 (Dense)                 (None, 16)           2064        model_2[0][0]                    \n",
            "__________________________________________________________________________________________________\n",
            "concatenate_2 (Concatenate)     (None, 18)           0           dense_10[0][0]                   \n",
            "                                                                 dense_9[0][0]                    \n",
            "__________________________________________________________________________________________________\n",
            "dense_11 (Dense)                (None, 16)           2064        model_2[0][0]                    \n",
            "__________________________________________________________________________________________________\n",
            "dense_12 (Dense)                (None, 16)           2064        model_2[0][0]                    \n",
            "__________________________________________________________________________________________________\n",
            "dense_13 (Dense)                (None, 16)           2064        model_2[0][0]                    \n",
            "__________________________________________________________________________________________________\n",
            "concatenate_3 (Concatenate)     (None, 82)           0           dense_8[0][0]                    \n",
            "                                                                 concatenate_2[0][0]              \n",
            "                                                                 dense_11[0][0]                   \n",
            "                                                                 dense_12[0][0]                   \n",
            "                                                                 dense_13[0][0]                   \n",
            "__________________________________________________________________________________________________\n",
            "dense_14 (Dense)                (None, 16)           1328        concatenate_3[0][0]              \n",
            "__________________________________________________________________________________________________\n",
            "bin_output (Dense)              (None, 1)            17          dense_8[0][0]                    \n",
            "__________________________________________________________________________________________________\n",
            "emotion_output (Dense)          (None, 7)            133         concatenate_2[0][0]              \n",
            "__________________________________________________________________________________________________\n",
            "gender_output (Dense)           (None, 3)            51          dense_11[0][0]                   \n",
            "__________________________________________________________________________________________________\n",
            "education_output (Dense)        (None, 6)            102         dense_12[0][0]                   \n",
            "__________________________________________________________________________________________________\n",
            "race_output (Dense)             (None, 6)            102         dense_13[0][0]                   \n",
            "__________________________________________________________________________________________________\n",
            "score_output (Dense)            (None, 1)            17          dense_14[0][0]                   \n",
            "==================================================================================================\n",
            "Total params: 124,756,140\n",
            "Trainable params: 110,508\n",
            "Non-trainable params: 124,645,632\n",
            "__________________________________________________________________________________________________\n",
            "CPU times: user 3.39 s, sys: 0 ns, total: 3.39 s\n",
            "Wall time: 3.39 s\n"
          ],
          "name": "stdout"
        }
      ]
    },
    {
      "cell_type": "code",
      "metadata": {
        "colab": {
          "base_uri": "https://localhost:8080/",
          "height": 348
        },
        "id": "eDAuMbX4SMCK",
        "outputId": "9ec0b917-5263-4640-e540-c9292cf42d64"
      },
      "source": [
        "model_arch = myModel.plot_model_arch()\n",
        "model_arch"
      ],
      "execution_count": null,
      "outputs": [
        {
          "output_type": "execute_result",
          "data": {
            "image/png": "[encoded data removed]",
            "text/plain": [
              "<IPython.core.display.Image object>"
            ]
          },
          "metadata": {
            "tags": []
          },
          "execution_count": 77
        }
      ]
    },
    {
      "cell_type": "code",
      "metadata": {
        "colab": {
          "base_uri": "https://localhost:8080/"
        },
        "id": "bV3z8sQUH3HU",
        "outputId": "24d3d8e0-ce9c-4e14-f710-e45fda18d313"
      },
      "source": [
        "%%time\n",
        "histroy = myModel.train(prepared_train,\n",
        "                        train_outputs, \n",
        "                        prepared_dev, \n",
        "                        dev_outputs,\n",
        "                        epochs=200,\n",
        "                        batch_size=32)"
      ],
      "execution_count": null,
      "outputs": [
        {
          "output_type": "stream",
          "text": [
            "Epoch 1/200\n",
            "59/59 [==============================] - 45s 569ms/step - loss: 11.9143 - bin_output_loss: 0.7303 - emotion_output_loss: 2.0235 - gender_output_loss: 1.3119 - education_output_loss: 1.6584 - race_output_loss: 1.3199 - score_output_loss: 4.6866 - score_output_mean_squared_error: 4.6866 - val_loss: 9.3426 - val_bin_output_loss: 0.6753 - val_emotion_output_loss: 1.6967 - val_gender_output_loss: 0.7583 - val_education_output_loss: 1.6335 - val_race_output_loss: 1.0385 - val_score_output_loss: 3.3558 - val_score_output_mean_squared_error: 3.3558\n",
            "Epoch 2/200\n",
            "59/59 [==============================] - 31s 520ms/step - loss: 9.1390 - bin_output_loss: 0.6853 - emotion_output_loss: 1.7477 - gender_output_loss: 0.7409 - education_output_loss: 1.5021 - race_output_loss: 0.9658 - score_output_loss: 3.3131 - score_output_mean_squared_error: 3.3131 - val_loss: 8.9885 - val_bin_output_loss: 0.6543 - val_emotion_output_loss: 1.6023 - val_gender_output_loss: 0.7554 - val_education_output_loss: 1.6620 - val_race_output_loss: 1.0228 - val_score_output_loss: 3.1076 - val_score_output_mean_squared_error: 3.1076\n",
            "Epoch 3/200\n",
            "59/59 [==============================] - 31s 526ms/step - loss: 8.3844 - bin_output_loss: 0.6503 - emotion_output_loss: 1.6697 - gender_output_loss: 0.7291 - education_output_loss: 1.4569 - race_output_loss: 0.8821 - score_output_loss: 2.8115 - score_output_mean_squared_error: 2.8115 - val_loss: 8.6485 - val_bin_output_loss: 0.6358 - val_emotion_output_loss: 1.5288 - val_gender_output_loss: 0.7492 - val_education_output_loss: 1.6138 - val_race_output_loss: 0.9781 - val_score_output_loss: 2.9561 - val_score_output_mean_squared_error: 2.9561\n",
            "Epoch 4/200\n",
            "59/59 [==============================] - 31s 529ms/step - loss: 8.2825 - bin_output_loss: 0.6309 - emotion_output_loss: 1.6265 - gender_output_loss: 0.7108 - education_output_loss: 1.4783 - race_output_loss: 0.9044 - score_output_loss: 2.7439 - score_output_mean_squared_error: 2.7439 - val_loss: 8.5796 - val_bin_output_loss: 0.6306 - val_emotion_output_loss: 1.4743 - val_gender_output_loss: 0.7456 - val_education_output_loss: 1.6453 - val_race_output_loss: 1.0001 - val_score_output_loss: 2.8931 - val_score_output_mean_squared_error: 2.8931\n",
            "Epoch 5/200\n",
            "59/59 [==============================] - 31s 530ms/step - loss: 8.1967 - bin_output_loss: 0.6294 - emotion_output_loss: 1.5707 - gender_output_loss: 0.7052 - education_output_loss: 1.4622 - race_output_loss: 0.8713 - score_output_loss: 2.7664 - score_output_mean_squared_error: 2.7664 - val_loss: 8.5640 - val_bin_output_loss: 0.6463 - val_emotion_output_loss: 1.4434 - val_gender_output_loss: 0.7406 - val_education_output_loss: 1.6327 - val_race_output_loss: 0.9804 - val_score_output_loss: 2.9273 - val_score_output_mean_squared_error: 2.9273\n",
            "Epoch 6/200\n",
            "59/59 [==============================] - 31s 532ms/step - loss: 7.8487 - bin_output_loss: 0.5916 - emotion_output_loss: 1.5038 - gender_output_loss: 0.6909 - education_output_loss: 1.4885 - race_output_loss: 0.8871 - score_output_loss: 2.4927 - score_output_mean_squared_error: 2.4927 - val_loss: 8.4182 - val_bin_output_loss: 0.6343 - val_emotion_output_loss: 1.4142 - val_gender_output_loss: 0.7495 - val_education_output_loss: 1.6478 - val_race_output_loss: 0.9924 - val_score_output_loss: 2.7839 - val_score_output_mean_squared_error: 2.7839\n",
            "Epoch 7/200\n",
            "59/59 [==============================] - 31s 534ms/step - loss: 7.8357 - bin_output_loss: 0.5995 - emotion_output_loss: 1.4502 - gender_output_loss: 0.6886 - education_output_loss: 1.4503 - race_output_loss: 0.8618 - score_output_loss: 2.5883 - score_output_mean_squared_error: 2.5883 - val_loss: 8.2477 - val_bin_output_loss: 0.6210 - val_emotion_output_loss: 1.3687 - val_gender_output_loss: 0.7411 - val_education_output_loss: 1.6153 - val_race_output_loss: 0.9872 - val_score_output_loss: 2.7149 - val_score_output_mean_squared_error: 2.7149\n",
            "Epoch 8/200\n",
            "59/59 [==============================] - 32s 535ms/step - loss: 7.6575 - bin_output_loss: 0.5848 - emotion_output_loss: 1.4377 - gender_output_loss: 0.6838 - education_output_loss: 1.4582 - race_output_loss: 0.8723 - score_output_loss: 2.4203 - score_output_mean_squared_error: 2.4203 - val_loss: 8.3588 - val_bin_output_loss: 0.6188 - val_emotion_output_loss: 1.3661 - val_gender_output_loss: 0.7421 - val_education_output_loss: 1.6272 - val_race_output_loss: 0.9927 - val_score_output_loss: 2.8091 - val_score_output_mean_squared_error: 2.8091\n",
            "Epoch 9/200\n",
            "59/59 [==============================] - 32s 536ms/step - loss: 7.6138 - bin_output_loss: 0.5800 - emotion_output_loss: 1.3674 - gender_output_loss: 0.6593 - education_output_loss: 1.4373 - race_output_loss: 0.8654 - score_output_loss: 2.5006 - score_output_mean_squared_error: 2.5006 - val_loss: 8.1900 - val_bin_output_loss: 0.6169 - val_emotion_output_loss: 1.3107 - val_gender_output_loss: 0.7431 - val_education_output_loss: 1.6138 - val_race_output_loss: 0.9893 - val_score_output_loss: 2.7092 - val_score_output_mean_squared_error: 2.7092\n",
            "Epoch 10/200\n",
            "59/59 [==============================] - 32s 536ms/step - loss: 7.5844 - bin_output_loss: 0.5826 - emotion_output_loss: 1.3544 - gender_output_loss: 0.6754 - education_output_loss: 1.4496 - race_output_loss: 0.8459 - score_output_loss: 2.4684 - score_output_mean_squared_error: 2.4684 - val_loss: 8.5354 - val_bin_output_loss: 0.6601 - val_emotion_output_loss: 1.3680 - val_gender_output_loss: 0.7367 - val_education_output_loss: 1.6284 - val_race_output_loss: 1.0016 - val_score_output_loss: 2.9289 - val_score_output_mean_squared_error: 2.9289\n",
            "Epoch 11/200\n",
            "59/59 [==============================] - 32s 537ms/step - loss: 7.5145 - bin_output_loss: 0.5845 - emotion_output_loss: 1.3240 - gender_output_loss: 0.6701 - education_output_loss: 1.4196 - race_output_loss: 0.8227 - score_output_loss: 2.4804 - score_output_mean_squared_error: 2.4804 - val_loss: 8.4084 - val_bin_output_loss: 0.6339 - val_emotion_output_loss: 1.3710 - val_gender_output_loss: 0.7502 - val_education_output_loss: 1.6822 - val_race_output_loss: 1.0070 - val_score_output_loss: 2.7482 - val_score_output_mean_squared_error: 2.7482\n",
            "Epoch 12/200\n",
            "59/59 [==============================] - 32s 538ms/step - loss: 7.5988 - bin_output_loss: 0.5818 - emotion_output_loss: 1.3012 - gender_output_loss: 0.6631 - education_output_loss: 1.4197 - race_output_loss: 0.8981 - score_output_loss: 2.5180 - score_output_mean_squared_error: 2.5180 - val_loss: 8.2572 - val_bin_output_loss: 0.6238 - val_emotion_output_loss: 1.3113 - val_gender_output_loss: 0.7489 - val_education_output_loss: 1.6518 - val_race_output_loss: 1.0252 - val_score_output_loss: 2.6763 - val_score_output_mean_squared_error: 2.6763\n",
            "Epoch 13/200\n",
            "59/59 [==============================] - 32s 538ms/step - loss: 7.3278 - bin_output_loss: 0.5695 - emotion_output_loss: 1.2773 - gender_output_loss: 0.6520 - education_output_loss: 1.4181 - race_output_loss: 0.8232 - score_output_loss: 2.3666 - score_output_mean_squared_error: 2.3666 - val_loss: 8.2619 - val_bin_output_loss: 0.6179 - val_emotion_output_loss: 1.3077 - val_gender_output_loss: 0.7803 - val_education_output_loss: 1.6457 - val_race_output_loss: 1.0412 - val_score_output_loss: 2.6454 - val_score_output_mean_squared_error: 2.6454\n",
            "Epoch 14/200\n",
            "59/59 [==============================] - 32s 537ms/step - loss: 7.5659 - bin_output_loss: 0.6104 - emotion_output_loss: 1.2507 - gender_output_loss: 0.6664 - education_output_loss: 1.4285 - race_output_loss: 0.8485 - score_output_loss: 2.5365 - score_output_mean_squared_error: 2.5365 - val_loss: 8.2113 - val_bin_output_loss: 0.6241 - val_emotion_output_loss: 1.2926 - val_gender_output_loss: 0.7408 - val_education_output_loss: 1.6444 - val_race_output_loss: 0.9978 - val_score_output_loss: 2.6828 - val_score_output_mean_squared_error: 2.6828\n",
            "Epoch 15/200\n",
            "59/59 [==============================] - 32s 544ms/step - loss: 7.4639 - bin_output_loss: 0.5940 - emotion_output_loss: 1.2185 - gender_output_loss: 0.6292 - education_output_loss: 1.4027 - race_output_loss: 0.8195 - score_output_loss: 2.5661 - score_output_mean_squared_error: 2.5661 - val_loss: 8.2901 - val_bin_output_loss: 0.6258 - val_emotion_output_loss: 1.2729 - val_gender_output_loss: 0.7832 - val_education_output_loss: 1.6369 - val_race_output_loss: 1.0110 - val_score_output_loss: 2.7232 - val_score_output_mean_squared_error: 2.7232\n",
            "Epoch 17/200\n",
            "59/59 [==============================] - 32s 539ms/step - loss: 7.1252 - bin_output_loss: 0.5632 - emotion_output_loss: 1.2544 - gender_output_loss: 0.6398 - education_output_loss: 1.3927 - race_output_loss: 0.8240 - score_output_loss: 2.2127 - score_output_mean_squared_error: 2.2127 - val_loss: 8.2634 - val_bin_output_loss: 0.6338 - val_emotion_output_loss: 1.2484 - val_gender_output_loss: 0.7267 - val_education_output_loss: 1.6775 - val_race_output_loss: 1.0174 - val_score_output_loss: 2.7182 - val_score_output_mean_squared_error: 2.7182\n",
            "Epoch 18/200\n",
            "59/59 [==============================] - 32s 540ms/step - loss: 7.1102 - bin_output_loss: 0.5668 - emotion_output_loss: 1.1869 - gender_output_loss: 0.6434 - education_output_loss: 1.3773 - race_output_loss: 0.8345 - score_output_loss: 2.2590 - score_output_mean_squared_error: 2.2590 - val_loss: 8.1941 - val_bin_output_loss: 0.6258 - val_emotion_output_loss: 1.2514 - val_gender_output_loss: 0.7315 - val_education_output_loss: 1.6335 - val_race_output_loss: 1.0295 - val_score_output_loss: 2.6776 - val_score_output_mean_squared_error: 2.6776\n",
            "Epoch 19/200\n",
            "59/59 [==============================] - 32s 540ms/step - loss: 7.1571 - bin_output_loss: 0.5687 - emotion_output_loss: 1.2087 - gender_output_loss: 0.6397 - education_output_loss: 1.3788 - race_output_loss: 0.8498 - score_output_loss: 2.2653 - score_output_mean_squared_error: 2.2653 - val_loss: 8.5954 - val_bin_output_loss: 0.6628 - val_emotion_output_loss: 1.2805 - val_gender_output_loss: 0.7439 - val_education_output_loss: 1.6509 - val_race_output_loss: 1.0281 - val_score_output_loss: 2.9799 - val_score_output_mean_squared_error: 2.9799\n",
            "Epoch 20/200\n",
            "59/59 [==============================] - 32s 540ms/step - loss: 7.2248 - bin_output_loss: 0.5706 - emotion_output_loss: 1.1985 - gender_output_loss: 0.6336 - education_output_loss: 1.4011 - race_output_loss: 0.8084 - score_output_loss: 2.3619 - score_output_mean_squared_error: 2.3619 - val_loss: 8.2398 - val_bin_output_loss: 0.6263 - val_emotion_output_loss: 1.2345 - val_gender_output_loss: 0.7395 - val_education_output_loss: 1.6764 - val_race_output_loss: 1.0325 - val_score_output_loss: 2.6770 - val_score_output_mean_squared_error: 2.6770\n",
            "Epoch 21/200\n",
            "59/59 [==============================] - 32s 539ms/step - loss: 7.0488 - bin_output_loss: 0.5638 - emotion_output_loss: 1.1708 - gender_output_loss: 0.6274 - education_output_loss: 1.3999 - race_output_loss: 0.8276 - score_output_loss: 2.2046 - score_output_mean_squared_error: 2.2046 - val_loss: 8.4171 - val_bin_output_loss: 0.6333 - val_emotion_output_loss: 1.3177 - val_gender_output_loss: 0.7309 - val_education_output_loss: 1.6272 - val_race_output_loss: 1.0333 - val_score_output_loss: 2.8169 - val_score_output_mean_squared_error: 2.8169\n",
            "Epoch 22/200\n",
            "59/59 [==============================] - 32s 539ms/step - loss: 7.1437 - bin_output_loss: 0.5747 - emotion_output_loss: 1.1242 - gender_output_loss: 0.6254 - education_output_loss: 1.3922 - race_output_loss: 0.8064 - score_output_loss: 2.3623 - score_output_mean_squared_error: 2.3623 - val_loss: 8.5472 - val_bin_output_loss: 0.6358 - val_emotion_output_loss: 1.2707 - val_gender_output_loss: 0.7353 - val_education_output_loss: 1.7316 - val_race_output_loss: 1.0979 - val_score_output_loss: 2.8145 - val_score_output_mean_squared_error: 2.8145\n",
            "Epoch 23/200\n",
            "59/59 [==============================] - 32s 539ms/step - loss: 6.9149 - bin_output_loss: 0.5695 - emotion_output_loss: 1.1527 - gender_output_loss: 0.6152 - education_output_loss: 1.3683 - race_output_loss: 0.8208 - score_output_loss: 2.1256 - score_output_mean_squared_error: 2.1256 - val_loss: 8.3035 - val_bin_output_loss: 0.6254 - val_emotion_output_loss: 1.2822 - val_gender_output_loss: 0.7478 - val_education_output_loss: 1.6281 - val_race_output_loss: 1.0341 - val_score_output_loss: 2.7205 - val_score_output_mean_squared_error: 2.7205\n",
            "\n",
            "Epoch 00023: ReduceLROnPlateau reducing learning rate to 0.0005.\n",
            "Epoch 24/200\n",
            "59/59 [==============================] - 32s 539ms/step - loss: 6.9398 - bin_output_loss: 0.5790 - emotion_output_loss: 1.1025 - gender_output_loss: 0.6118 - education_output_loss: 1.3724 - race_output_loss: 0.7742 - score_output_loss: 2.2341 - score_output_mean_squared_error: 2.2341 - val_loss: 8.3589 - val_bin_output_loss: 0.6315 - val_emotion_output_loss: 1.2621 - val_gender_output_loss: 0.7382 - val_education_output_loss: 1.6564 - val_race_output_loss: 1.0621 - val_score_output_loss: 2.7416 - val_score_output_mean_squared_error: 2.7416\n",
            "Epoch 25/200\n",
            "59/59 [==============================] - 32s 540ms/step - loss: 6.6212 - bin_output_loss: 0.5455 - emotion_output_loss: 1.1044 - gender_output_loss: 0.6221 - education_output_loss: 1.3282 - race_output_loss: 0.7864 - score_output_loss: 1.9673 - score_output_mean_squared_error: 1.9673 - val_loss: 8.2477 - val_bin_output_loss: 0.6254 - val_emotion_output_loss: 1.2686 - val_gender_output_loss: 0.7413 - val_education_output_loss: 1.6507 - val_race_output_loss: 1.0529 - val_score_output_loss: 2.6409 - val_score_output_mean_squared_error: 2.6409\n",
            "Epoch 26/200\n",
            "59/59 [==============================] - 32s 538ms/step - loss: 6.8426 - bin_output_loss: 0.5595 - emotion_output_loss: 1.1357 - gender_output_loss: 0.6111 - education_output_loss: 1.3508 - race_output_loss: 0.7749 - score_output_loss: 2.1424 - score_output_mean_squared_error: 2.1424 - val_loss: 8.5820 - val_bin_output_loss: 0.6490 - val_emotion_output_loss: 1.2568 - val_gender_output_loss: 0.7451 - val_education_output_loss: 1.6720 - val_race_output_loss: 1.0580 - val_score_output_loss: 2.9322 - val_score_output_mean_squared_error: 2.9322\n",
            "Epoch 27/200\n",
            "59/59 [==============================] - 32s 540ms/step - loss: 6.9371 - bin_output_loss: 0.5794 - emotion_output_loss: 1.0923 - gender_output_loss: 0.6179 - education_output_loss: 1.3708 - race_output_loss: 0.7699 - score_output_loss: 2.2377 - score_output_mean_squared_error: 2.2377 - val_loss: 8.3094 - val_bin_output_loss: 0.6284 - val_emotion_output_loss: 1.2475 - val_gender_output_loss: 0.7728 - val_education_output_loss: 1.6658 - val_race_output_loss: 1.0544 - val_score_output_loss: 2.6704 - val_score_output_mean_squared_error: 2.6704\n",
            "Epoch 28/200\n",
            "59/59 [==============================] - 32s 540ms/step - loss: 6.7439 - bin_output_loss: 0.5527 - emotion_output_loss: 1.0912 - gender_output_loss: 0.5872 - education_output_loss: 1.3515 - race_output_loss: 0.7500 - score_output_loss: 2.1406 - score_output_mean_squared_error: 2.1406 - val_loss: 8.2893 - val_bin_output_loss: 0.6267 - val_emotion_output_loss: 1.2393 - val_gender_output_loss: 0.7590 - val_education_output_loss: 1.6696 - val_race_output_loss: 1.0511 - val_score_output_loss: 2.6717 - val_score_output_mean_squared_error: 2.6717\n",
            "Epoch 29/200\n",
            "59/59 [==============================] - 32s 540ms/step - loss: 6.6604 - bin_output_loss: 0.5443 - emotion_output_loss: 1.1246 - gender_output_loss: 0.6037 - education_output_loss: 1.3506 - race_output_loss: 0.7826 - score_output_loss: 1.9825 - score_output_mean_squared_error: 1.9825 - val_loss: 8.2900 - val_bin_output_loss: 0.6271 - val_emotion_output_loss: 1.2420 - val_gender_output_loss: 0.7611 - val_education_output_loss: 1.6826 - val_race_output_loss: 1.0475 - val_score_output_loss: 2.6568 - val_score_output_mean_squared_error: 2.6568\n",
            "Epoch 30/200\n",
            "59/59 [==============================] - 32s 540ms/step - loss: 6.6073 - bin_output_loss: 0.5447 - emotion_output_loss: 1.0712 - gender_output_loss: 0.6052 - education_output_loss: 1.3421 - race_output_loss: 0.7326 - score_output_loss: 2.0382 - score_output_mean_squared_error: 2.0382 - val_loss: 8.3184 - val_bin_output_loss: 0.6337 - val_emotion_output_loss: 1.2176 - val_gender_output_loss: 0.7467 - val_education_output_loss: 1.7079 - val_race_output_loss: 1.0545 - val_score_output_loss: 2.6839 - val_score_output_mean_squared_error: 2.6839\n",
            "Epoch 31/200\n",
            "59/59 [==============================] - 32s 545ms/step - loss: 6.6764 - bin_output_loss: 0.5408 - emotion_output_loss: 1.1190 - gender_output_loss: 0.6190 - education_output_loss: 1.3641 - race_output_loss: 0.7736 - score_output_loss: 1.9854 - score_output_mean_squared_error: 1.9854 - val_loss: 8.4545 - val_bin_output_loss: 0.6415 - val_emotion_output_loss: 1.2347 - val_gender_output_loss: 0.7578 - val_education_output_loss: 1.7063 - val_race_output_loss: 1.0600 - val_score_output_loss: 2.7788 - val_score_output_mean_squared_error: 2.7788\n",
            "Epoch 32/200\n",
            "59/59 [==============================] - 32s 540ms/step - loss: 6.5541 - bin_output_loss: 0.5524 - emotion_output_loss: 1.0227 - gender_output_loss: 0.6072 - education_output_loss: 1.3288 - race_output_loss: 0.7800 - score_output_loss: 1.9870 - score_output_mean_squared_error: 1.9870 - val_loss: 8.4198 - val_bin_output_loss: 0.6340 - val_emotion_output_loss: 1.2260 - val_gender_output_loss: 0.7649 - val_education_output_loss: 1.7049 - val_race_output_loss: 1.0789 - val_score_output_loss: 2.7340 - val_score_output_mean_squared_error: 2.7340\n",
            "Epoch 33/200\n",
            "59/59 [==============================] - 32s 539ms/step - loss: 6.6009 - bin_output_loss: 0.5535 - emotion_output_loss: 1.1036 - gender_output_loss: 0.5952 - education_output_loss: 1.3450 - race_output_loss: 0.7695 - score_output_loss: 1.9567 - score_output_mean_squared_error: 1.9567 - val_loss: 8.5071 - val_bin_output_loss: 0.6505 - val_emotion_output_loss: 1.2408 - val_gender_output_loss: 0.7511 - val_education_output_loss: 1.6523 - val_race_output_loss: 1.0801 - val_score_output_loss: 2.8541 - val_score_output_mean_squared_error: 2.8541\n",
            "Epoch 34/200\n",
            "59/59 [==============================] - 32s 540ms/step - loss: 6.5961 - bin_output_loss: 0.5369 - emotion_output_loss: 1.0499 - gender_output_loss: 0.6041 - education_output_loss: 1.3146 - race_output_loss: 0.8011 - score_output_loss: 2.0111 - score_output_mean_squared_error: 2.0111 - val_loss: 8.5170 - val_bin_output_loss: 0.6498 - val_emotion_output_loss: 1.2370 - val_gender_output_loss: 0.7376 - val_education_output_loss: 1.6664 - val_race_output_loss: 1.0591 - val_score_output_loss: 2.8877 - val_score_output_mean_squared_error: 2.8877\n",
            "Epoch 35/200\n",
            "59/59 [==============================] - 32s 540ms/step - loss: 6.7076 - bin_output_loss: 0.5571 - emotion_output_loss: 1.0864 - gender_output_loss: 0.6031 - education_output_loss: 1.3399 - race_output_loss: 0.8006 - score_output_loss: 2.0407 - score_output_mean_squared_error: 2.0407 - val_loss: 9.0451 - val_bin_output_loss: 0.6665 - val_emotion_output_loss: 1.2885 - val_gender_output_loss: 0.7607 - val_education_output_loss: 1.7123 - val_race_output_loss: 1.0700 - val_score_output_loss: 3.2663 - val_score_output_mean_squared_error: 3.2663\n",
            "\n",
            "Epoch 00035: ReduceLROnPlateau reducing learning rate to 0.0005.\n",
            "Epoch 36/200\n",
            "59/59 [==============================] - 32s 541ms/step - loss: 6.6924 - bin_output_loss: 0.5403 - emotion_output_loss: 1.0629 - gender_output_loss: 0.6078 - education_output_loss: 1.3431 - race_output_loss: 0.7806 - score_output_loss: 2.0766 - score_output_mean_squared_error: 2.0766 - val_loss: 8.4118 - val_bin_output_loss: 0.6392 - val_emotion_output_loss: 1.2330 - val_gender_output_loss: 0.7450 - val_education_output_loss: 1.7095 - val_race_output_loss: 1.0590 - val_score_output_loss: 2.7442 - val_score_output_mean_squared_error: 2.7442\n",
            "Epoch 37/200\n",
            "59/59 [==============================] - 32s 540ms/step - loss: 6.7852 - bin_output_loss: 0.5637 - emotion_output_loss: 1.0617 - gender_output_loss: 0.6083 - education_output_loss: 1.3245 - race_output_loss: 0.7897 - score_output_loss: 2.1551 - score_output_mean_squared_error: 2.1551 - val_loss: 8.3555 - val_bin_output_loss: 0.6369 - val_emotion_output_loss: 1.2416 - val_gender_output_loss: 0.7406 - val_education_output_loss: 1.6684 - val_race_output_loss: 1.0869 - val_score_output_loss: 2.6979 - val_score_output_mean_squared_error: 2.6979\n",
            "Epoch 38/200\n",
            "59/59 [==============================] - 32s 539ms/step - loss: 6.6444 - bin_output_loss: 0.5531 - emotion_output_loss: 1.0563 - gender_output_loss: 0.5992 - education_output_loss: 1.3584 - race_output_loss: 0.7638 - score_output_loss: 2.0298 - score_output_mean_squared_error: 2.0298 - val_loss: 8.7515 - val_bin_output_loss: 0.6516 - val_emotion_output_loss: 1.2596 - val_gender_output_loss: 0.7539 - val_education_output_loss: 1.7141 - val_race_output_loss: 1.0988 - val_score_output_loss: 2.9886 - val_score_output_mean_squared_error: 2.9886\n",
            "Epoch 39/200\n",
            "59/59 [==============================] - 32s 540ms/step - loss: 6.4104 - bin_output_loss: 0.5367 - emotion_output_loss: 1.0332 - gender_output_loss: 0.5961 - education_output_loss: 1.3158 - race_output_loss: 0.7769 - score_output_loss: 1.8666 - score_output_mean_squared_error: 1.8666 - val_loss: 8.4195 - val_bin_output_loss: 0.6390 - val_emotion_output_loss: 1.2260 - val_gender_output_loss: 0.7454 - val_education_output_loss: 1.6530 - val_race_output_loss: 1.0774 - val_score_output_loss: 2.7928 - val_score_output_mean_squared_error: 2.7928\n",
            "Epoch 40/200\n",
            "59/59 [==============================] - 32s 540ms/step - loss: 6.2794 - bin_output_loss: 0.5099 - emotion_output_loss: 1.0095 - gender_output_loss: 0.6048 - education_output_loss: 1.3188 - race_output_loss: 0.7641 - score_output_loss: 1.7860 - score_output_mean_squared_error: 1.7860 - val_loss: 8.3949 - val_bin_output_loss: 0.6336 - val_emotion_output_loss: 1.2410 - val_gender_output_loss: 0.7403 - val_education_output_loss: 1.6729 - val_race_output_loss: 1.0799 - val_score_output_loss: 2.7400 - val_score_output_mean_squared_error: 2.7400\n",
            "Epoch 41/200\n",
            "59/59 [==============================] - 32s 539ms/step - loss: 6.4929 - bin_output_loss: 0.5314 - emotion_output_loss: 1.0443 - gender_output_loss: 0.6164 - education_output_loss: 1.3243 - race_output_loss: 0.7878 - score_output_loss: 1.9009 - score_output_mean_squared_error: 1.9009 - val_loss: 8.4518 - val_bin_output_loss: 0.6358 - val_emotion_output_loss: 1.2392 - val_gender_output_loss: 0.7415 - val_education_output_loss: 1.7097 - val_race_output_loss: 1.0785 - val_score_output_loss: 2.7583 - val_score_output_mean_squared_error: 2.7583\n",
            "Epoch 42/200\n",
            "59/59 [==============================] - 32s 539ms/step - loss: 6.6059 - bin_output_loss: 0.5516 - emotion_output_loss: 1.0532 - gender_output_loss: 0.6140 - education_output_loss: 1.3589 - race_output_loss: 0.7816 - score_output_loss: 1.9574 - score_output_mean_squared_error: 1.9574 - val_loss: 8.5288 - val_bin_output_loss: 0.6376 - val_emotion_output_loss: 1.2470 - val_gender_output_loss: 0.7684 - val_education_output_loss: 1.7319 - val_race_output_loss: 1.0827 - val_score_output_loss: 2.7711 - val_score_output_mean_squared_error: 2.7711\n",
            "Epoch 43/200\n",
            "59/59 [==============================] - 32s 539ms/step - loss: 6.8587 - bin_output_loss: 0.5768 - emotion_output_loss: 1.0816 - gender_output_loss: 0.6056 - education_output_loss: 1.3297 - race_output_loss: 0.8134 - score_output_loss: 2.1607 - score_output_mean_squared_error: 2.1607 - val_loss: 8.6397 - val_bin_output_loss: 0.6535 - val_emotion_output_loss: 1.2530 - val_gender_output_loss: 0.7443 - val_education_output_loss: 1.7347 - val_race_output_loss: 1.0927 - val_score_output_loss: 2.8693 - val_score_output_mean_squared_error: 2.8693\n",
            "Epoch 44/200\n",
            "59/59 [==============================] - 32s 539ms/step - loss: 6.4443 - bin_output_loss: 0.5418 - emotion_output_loss: 1.0314 - gender_output_loss: 0.6042 - education_output_loss: 1.3311 - race_output_loss: 0.7669 - score_output_loss: 1.8764 - score_output_mean_squared_error: 1.8764 - val_loss: 8.4566 - val_bin_output_loss: 0.6436 - val_emotion_output_loss: 1.2302 - val_gender_output_loss: 0.7423 - val_education_output_loss: 1.7065 - val_race_output_loss: 1.0822 - val_score_output_loss: 2.7584 - val_score_output_mean_squared_error: 2.7584\n",
            "Epoch 45/200\n",
            "59/59 [==============================] - 32s 540ms/step - loss: 6.3786 - bin_output_loss: 0.5386 - emotion_output_loss: 1.0131 - gender_output_loss: 0.6147 - education_output_loss: 1.3108 - race_output_loss: 0.7481 - score_output_loss: 1.8598 - score_output_mean_squared_error: 1.8598 - val_loss: 8.6540 - val_bin_output_loss: 0.6474 - val_emotion_output_loss: 1.2573 - val_gender_output_loss: 0.7541 - val_education_output_loss: 1.7225 - val_race_output_loss: 1.0803 - val_score_output_loss: 2.8978 - val_score_output_mean_squared_error: 2.8978\n",
            "\n",
            "Epoch 00045: ReduceLROnPlateau reducing learning rate to 0.0005.\n",
            "Epoch 00045: early stopping\n",
            "CPU times: user 4min 34s, sys: 1min 8s, total: 5min 42s\n",
            "Wall time: 24min 20s\n"
          ],
          "name": "stdout"
        }
      ]
    },
    {
      "cell_type": "markdown",
      "metadata": {
        "id": "HPTDQSYdHEe1"
      },
      "source": [
        "# Validation Data Results"
      ]
    },
    {
      "cell_type": "code",
      "metadata": {
        "colab": {
          "base_uri": "https://localhost:8080/"
        },
        "id": "chr3_Hi8Fh-t",
        "outputId": "a544700e-31f4-422f-cf0a-270020a8a874"
      },
      "source": [
        "%%time\n",
        "y_pred_dev = myModel.prediction(prepared_dev, \n",
        "                                model_path=\"old-empathy-bin-1-emotion-gender-edu-race-16-senti-2-score-1-16-RoBERTa-avg-128-kr-0005-mse-epoch-25-val-loss-2.640930.h5\")\n",
        "print(y_pred_dev.shape)"
      ],
      "execution_count": null,
      "outputs": [
        {
          "output_type": "stream",
          "text": [
            "(270, 1)\n",
            "CPU times: user 3.38 s, sys: 464 ms, total: 3.84 s\n",
            "Wall time: 9.39 s\n"
          ],
          "name": "stdout"
        }
      ]
    },
    {
      "cell_type": "code",
      "metadata": {
        "colab": {
          "base_uri": "https://localhost:8080/"
        },
        "id": "2KAl067ARs1Y",
        "outputId": "9e372907-a8a5-42dc-8e6a-d5a30d7a3004"
      },
      "source": [
        "%%time\r\n",
        "val_mse = myModel.compute_mse(dev_outputs[-1], y_pred_dev)\r\n",
        "print(val_mse)"
      ],
      "execution_count": null,
      "outputs": [
        {
          "output_type": "stream",
          "text": [
            "2.64093\n",
            "CPU times: user 1.27 ms, sys: 688 µs, total: 1.96 ms\n",
            "Wall time: 7.31 ms\n"
          ],
          "name": "stdout"
        }
      ]
    },
    {
      "cell_type": "code",
      "metadata": {
        "colab": {
          "base_uri": "https://localhost:8080/"
        },
        "id": "4APDqpptFh8a",
        "outputId": "e53b2245-87c9-4c37-8dff-3f629de6a658"
      },
      "source": [
        "%%time\n",
        "corr = myModel.compute_correlation(dev_outputs[-1], y_pred_dev)\n",
        "print(\"Pearson's Correlation\", round(corr[0], 5))\n",
        "print(\"P-value: \", round(corr[1], 5))"
      ],
      "execution_count": null,
      "outputs": [
        {
          "output_type": "stream",
          "text": [
            "Pearson's Correlation 0.48686\n",
            "P-value:  0.0\n",
            "CPU times: user 1.45 ms, sys: 101 µs, total: 1.55 ms\n",
            "Wall time: 6.35 ms\n"
          ],
          "name": "stdout"
        }
      ]
    },
    {
      "cell_type": "markdown",
      "metadata": {
        "id": "yIBv-iVlHLrf"
      },
      "source": [
        "# Training Data Results"
      ]
    },
    {
      "cell_type": "code",
      "metadata": {
        "colab": {
          "base_uri": "https://localhost:8080/"
        },
        "id": "koQq_pxqFh3n",
        "outputId": "eee5716c-4325-44d3-ea8c-33e58cccf488"
      },
      "source": [
        "%%time\n",
        "y_pred_train = myModel.prediction(prepared_train, \n",
        "                                  model_path=\"old-empathy-bin-1-emotion-gender-edu-race-16-senti-2-score-1-16-RoBERTa-avg-128-kr-0005-mse-epoch-25-val-loss-2.640930.h5\")\n",
        "print(y_pred_train.shape)"
      ],
      "execution_count": null,
      "outputs": [
        {
          "output_type": "stream",
          "text": [
            "(1860, 1)\n",
            "CPU times: user 4.4 s, sys: 1.39 s, total: 5.79 s\n",
            "Wall time: 24.8 s\n"
          ],
          "name": "stdout"
        }
      ]
    },
    {
      "cell_type": "code",
      "metadata": {
        "colab": {
          "base_uri": "https://localhost:8080/"
        },
        "id": "tAHP0SDdGG--",
        "outputId": "4447bde1-2686-4e0d-b00c-54afdd808c38"
      },
      "source": [
        "%%time\r\n",
        "train_mse = myModel.compute_mse(train_outputs[-1], y_pred_train)\r\n",
        "print(train_mse)"
      ],
      "execution_count": null,
      "outputs": [
        {
          "output_type": "stream",
          "text": [
            "2.0034747\n",
            "CPU times: user 1.46 ms, sys: 50 µs, total: 1.51 ms\n",
            "Wall time: 5.94 ms\n"
          ],
          "name": "stdout"
        }
      ]
    },
    {
      "cell_type": "code",
      "metadata": {
        "colab": {
          "base_uri": "https://localhost:8080/"
        },
        "id": "DEbZh0HvFh0F",
        "outputId": "025ebc5f-f587-4a02-94cf-80b916a8bed1"
      },
      "source": [
        "%%time\n",
        "corr = myModel.compute_correlation(train_outputs[-1], y_pred_train)\n",
        "print(\"Pearson's Correlation\", round(corr[0], 5))\n",
        "print(\"P-value: \", round(corr[1], 5))"
      ],
      "execution_count": null,
      "outputs": [
        {
          "output_type": "stream",
          "text": [
            "Pearson's Correlation 0.64423\n",
            "P-value:  0.0\n",
            "CPU times: user 1.44 ms, sys: 0 ns, total: 1.44 ms\n",
            "Wall time: 1.78 ms\n"
          ],
          "name": "stdout"
        }
      ]
    },
    {
      "cell_type": "markdown",
      "metadata": {
        "id": "0JpFRLDRBzSU"
      },
      "source": [
        "# Transformer model"
      ]
    },
    {
      "cell_type": "code",
      "metadata": {
        "id": "rIWDWEzlB02t"
      },
      "source": [
        "import tensorflow as tf\n",
        "from tensorflow import keras\n",
        "from tensorflow.keras import layers"
      ],
      "execution_count": null,
      "outputs": []
    },
    {
      "cell_type": "code",
      "metadata": {
        "id": "Xv-SXdtzB3r4"
      },
      "source": [
        "class TransformerBlock(layers.Layer):\n",
        "    def __init__(self, embed_dim, num_heads, ff_dim, rate=0.1):\n",
        "        super(TransformerBlock, self).__init__()\n",
        "        self.att = layers.MultiHeadAttention(num_heads=num_heads, key_dim=embed_dim)\n",
        "        self.ffn = keras.Sequential(\n",
        "            [layers.Dense(ff_dim, activation=\"relu\"), layers.Dense(embed_dim),]\n",
        "        )\n",
        "        self.layernorm1 = layers.LayerNormalization(epsilon=1e-6)\n",
        "        self.layernorm2 = layers.LayerNormalization(epsilon=1e-6)\n",
        "        self.dropout1 = layers.Dropout(rate)\n",
        "        self.dropout2 = layers.Dropout(rate)\n",
        "\n",
        "    def call(self, inputs, training):\n",
        "        attn_output = self.att(inputs, inputs)\n",
        "        attn_output = self.dropout1(attn_output, training=training)\n",
        "        out1 = self.layernorm1(inputs + attn_output)\n",
        "        ffn_output = self.ffn(out1)\n",
        "        ffn_output = self.dropout2(ffn_output, training=training)\n",
        "        return self.layernorm2(out1 + ffn_output)"
      ],
      "execution_count": null,
      "outputs": []
    },
    {
      "cell_type": "code",
      "metadata": {
        "id": "db3HhoTJB6xJ"
      },
      "source": [
        "class TokenAndPositionEmbedding(layers.Layer):\n",
        "    def __init__(self, maxlen, vocab_size, embed_dim):\n",
        "        super(TokenAndPositionEmbedding, self).__init__()\n",
        "        self.token_emb = layers.Embedding(input_dim=vocab_size, output_dim=embed_dim)\n",
        "        self.pos_emb = layers.Embedding(input_dim=maxlen, output_dim=embed_dim)\n",
        "\n",
        "    def call(self, x):\n",
        "        maxlen = tf.shape(x)[-1]\n",
        "        positions = tf.range(start=0, limit=maxlen, delta=1)\n",
        "        positions = self.pos_emb(positions)\n",
        "        x = self.token_emb(x)\n",
        "        return x + positions"
      ],
      "execution_count": null,
      "outputs": []
    },
    {
      "cell_type": "code",
      "metadata": {
        "colab": {
          "base_uri": "https://localhost:8080/"
        },
        "id": "bkNB0c2GZBvJ",
        "outputId": "1aaeb790-9c43-4d2b-9727-e39f028ccc1f"
      },
      "source": [
        "%%time\n",
        "demo_model = MTLM(base_model_type=\"CNN\",\n",
        "               cpkt=\"mtlm-transformer\",\n",
        "               activation=\"relu\")"
      ],
      "execution_count": null,
      "outputs": [
        {
          "output_type": "stream",
          "text": [
            "CPU times: user 86 µs, sys: 0 ns, total: 86 µs\n",
            "Wall time: 89.6 µs\n"
          ],
          "name": "stdout"
        }
      ]
    },
    {
      "cell_type": "code",
      "metadata": {
        "colab": {
          "base_uri": "https://localhost:8080/"
        },
        "id": "QokCWnywCEB5",
        "outputId": "79370d23-102e-4074-a16e-688726055a66"
      },
      "source": [
        "%%time\n",
        "prepared_train_essay, myTokenizer = demo_model.prepare_input(utils,\n",
        "                                                          train_essay, \n",
        "                                                          maxlen=200, \n",
        "                                                          padding_type='post', \n",
        "                                                          truncating_type='post', \n",
        "                                                          mode=\"train\")\n",
        "print(prepared_train_essay.shape)\n",
        "vocab = list(myTokenizer.word_index.keys())\n",
        "print(len(vocab))"
      ],
      "execution_count": null,
      "outputs": [
        {
          "output_type": "stream",
          "text": [
            "(1674, 200)\n",
            "9016\n",
            "CPU times: user 167 ms, sys: 0 ns, total: 167 ms\n",
            "Wall time: 167 ms\n"
          ],
          "name": "stdout"
        }
      ]
    },
    {
      "cell_type": "code",
      "metadata": {
        "colab": {
          "base_uri": "https://localhost:8080/"
        },
        "id": "CGueSLRaCL1a",
        "outputId": "0877912f-f690-4493-ec85-8b17011198dd"
      },
      "source": [
        "%%time\n",
        "prepared_val_essay = demo_model.prepare_input(utils,\n",
        "                                           val_essay, \n",
        "                                           maxlen=200, \n",
        "                                           padding_type='post', \n",
        "                                           truncating_type='post', \n",
        "                                           mode=\"test\")\n",
        "print(prepared_val_essay.shape)"
      ],
      "execution_count": null,
      "outputs": [
        {
          "output_type": "stream",
          "text": [
            "(186, 200)\n",
            "CPU times: user 13.3 ms, sys: 0 ns, total: 13.3 ms\n",
            "Wall time: 12.1 ms\n"
          ],
          "name": "stdout"
        }
      ]
    },
    {
      "cell_type": "code",
      "metadata": {
        "colab": {
          "base_uri": "https://localhost:8080/"
        },
        "id": "BjB165gXCLzh",
        "outputId": "a8729320-2299-4edc-9406-7ea95b8ddc71"
      },
      "source": [
        "%%time\n",
        "train_outputs = demo_model.prepare_output(train_data, task=\"empathy\", mode=\"train\")\n",
        "print(len(train_outputs))\n",
        "print(train_outputs[0].shape)\n",
        "\n",
        "val_outputs = demo_model.prepare_output(val_data, task=\"empathy\", mode=\"val\")\n",
        "print(len(val_outputs))\n",
        "print(val_outputs[0].shape)"
      ],
      "execution_count": null,
      "outputs": [
        {
          "output_type": "stream",
          "text": [
            "6\n",
            "(1674, 1)\n",
            "6\n",
            "(186, 1)\n",
            "CPU times: user 3.79 ms, sys: 0 ns, total: 3.79 ms\n",
            "Wall time: 4.86 ms\n"
          ],
          "name": "stdout"
        }
      ]
    },
    {
      "cell_type": "code",
      "metadata": {
        "colab": {
          "base_uri": "https://localhost:8080/"
        },
        "id": "Mg6IdjEXB_hW",
        "outputId": "8b6885dc-71ae-4320-cacb-778c28c1ef8a"
      },
      "source": [
        "embed_dim = 32  # Embedding size for each token\n",
        "num_heads = 1  # Number of attention heads\n",
        "ff_dim = 32  # Hidden layer size in feed forward network inside transformer\n",
        "\n",
        "maxlen = 200\n",
        "vocab_size = len(vocab)\n",
        "\n",
        "inputs = layers.Input(shape=(maxlen,))\n",
        "embedding_layer = TokenAndPositionEmbedding(maxlen, vocab_size, embed_dim)\n",
        "x = embedding_layer(inputs)\n",
        "transformer_block = TransformerBlock(embed_dim, num_heads, ff_dim)\n",
        "x = transformer_block(x)\n",
        "x = layers.GlobalAveragePooling1D()(x)\n",
        "x = layers.Dropout(0.1)(x)\n",
        "\n",
        "x1 = Dense(32, activation=\"relu\", kernel_regularizer=l2(0.001))(x)\n",
        "bin = Dense(1, activation='sigmoid', name='bin_output')(x1)\n",
        "emotion_label = Dense(7, activation='softmax', name='emotion_label_output')(x1)\n",
        "\n",
        "x2 = Dense(32, activation=\"relu\", kernel_regularizer=l2(0.001))(x)\n",
        "gender = Dense(3, activation='softmax', name='gender_output')(x2)\n",
        "education = Dense(6, activation='softmax', name='education_output')(x2)\n",
        "race = Dense(6, activation='softmax', name='race_output')(x2)\n",
        "\n",
        "x3 = Dense(32, activation=\"relu\", kernel_regularizer=l2(0.001))(x)\n",
        "emotion_label = Dense(7, activation='softmax', name='emotion_label_output')(x3)\n",
        "\n",
        "x = Concatenate(axis=1)([x1, x2, x3])\n",
        "x = Dropout(0.2)(x)\n",
        "x = Dense(16, activation=\"relu\", kernel_regularizer=l2(0.001))(x)\n",
        "score = Dense(1, name='score_output')(x)\n",
        "\n",
        "# if self.base_model_type in self.bert_models:\n",
        "#     self.model = Model(inputs=[input_ids, attention_mask], \n",
        "#                         outputs=[bin, gender, education, race, emotion_label, score])\n",
        "# else:\n",
        "model = Model(inputs=inputs, outputs=[bin, emotion_label, gender, education, race, score])\n",
        "model.compile(optimizer=Adam(lr=0.001), loss={\"bin_output\":\"binary_crossentropy\",   \n",
        "                                              \"emotion_label_output\":\"sparse_categorical_crossentropy\",                                                        \n",
        "                                              \"gender_output\":\"sparse_categorical_crossentropy\",\n",
        "                                              \"education_output\":\"sparse_categorical_crossentropy\",\n",
        "                                              \"race_output\":\"sparse_categorical_crossentropy\",\n",
        "                                              \"score_output\":\"mse\"})\n",
        "model.summary()"
      ],
      "execution_count": null,
      "outputs": [
        {
          "output_type": "stream",
          "text": [
            "Model: \"model_4\"\n",
            "__________________________________________________________________________________________________\n",
            "Layer (type)                    Output Shape         Param #     Connected to                     \n",
            "==================================================================================================\n",
            "input_5 (InputLayer)            [(None, 200)]        0                                            \n",
            "__________________________________________________________________________________________________\n",
            "token_and_position_embedding_2  (None, 200, 32)      294912      input_5[0][0]                    \n",
            "__________________________________________________________________________________________________\n",
            "transformer_block_2 (Transforme (None, 200, 32)      6464        token_and_position_embedding_2[0]\n",
            "__________________________________________________________________________________________________\n",
            "global_average_pooling1d_3 (Glo (None, 32)           0           transformer_block_2[0][0]        \n",
            "__________________________________________________________________________________________________\n",
            "dropout_87 (Dropout)            (None, 32)           0           global_average_pooling1d_3[0][0] \n",
            "__________________________________________________________________________________________________\n",
            "dense_18 (Dense)                (None, 32)           1056        dropout_87[0][0]                 \n",
            "__________________________________________________________________________________________________\n",
            "dense_20 (Dense)                (None, 32)           1056        dropout_87[0][0]                 \n",
            "__________________________________________________________________________________________________\n",
            "dense_19 (Dense)                (None, 32)           1056        dropout_87[0][0]                 \n",
            "__________________________________________________________________________________________________\n",
            "concatenate_3 (Concatenate)     (None, 96)           0           dense_18[0][0]                   \n",
            "                                                                 dense_19[0][0]                   \n",
            "                                                                 dense_20[0][0]                   \n",
            "__________________________________________________________________________________________________\n",
            "dropout_88 (Dropout)            (None, 96)           0           concatenate_3[0][0]              \n",
            "__________________________________________________________________________________________________\n",
            "dense_21 (Dense)                (None, 16)           1552        dropout_88[0][0]                 \n",
            "__________________________________________________________________________________________________\n",
            "bin_output (Dense)              (None, 1)            33          dense_18[0][0]                   \n",
            "__________________________________________________________________________________________________\n",
            "emotion_label_output (Dense)    (None, 7)            231         dense_20[0][0]                   \n",
            "__________________________________________________________________________________________________\n",
            "gender_output (Dense)           (None, 3)            99          dense_19[0][0]                   \n",
            "__________________________________________________________________________________________________\n",
            "education_output (Dense)        (None, 6)            198         dense_19[0][0]                   \n",
            "__________________________________________________________________________________________________\n",
            "race_output (Dense)             (None, 6)            198         dense_19[0][0]                   \n",
            "__________________________________________________________________________________________________\n",
            "score_output (Dense)            (None, 1)            17          dense_21[0][0]                   \n",
            "==================================================================================================\n",
            "Total params: 306,872\n",
            "Trainable params: 306,872\n",
            "Non-trainable params: 0\n",
            "__________________________________________________________________________________________________\n"
          ],
          "name": "stdout"
        }
      ]
    },
    {
      "cell_type": "code",
      "metadata": {
        "colab": {
          "base_uri": "https://localhost:8080/",
          "height": 620
        },
        "id": "geQzN1vXDQ2Z",
        "outputId": "8b8871ab-2a14-454f-e31a-dd74f10ad147"
      },
      "source": [
        "plot_model(model, show_shapes=True)"
      ],
      "execution_count": null,
      "outputs": [
        {
          "output_type": "execute_result",
          "data": {
            "image/png": "[encoded data removed]",
            "text/plain": [
              "<IPython.core.display.Image object>"
            ]
          },
          "metadata": {
            "tags": []
          },
          "execution_count": 41
        }
      ]
    },
    {
      "cell_type": "code",
      "metadata": {
        "id": "WX-c2yicD6Kb"
      },
      "source": [
        "history = model.fit(prepared_train_essay,\n",
        "                    train_outputs, \n",
        "                    epochs=200, \n",
        "                    batch_size=32, \n",
        "                    verbose=1, \n",
        "                    validation_data = (prepared_val_essay, val_outputs))"
      ],
      "execution_count": null,
      "outputs": []
    },
    {
      "cell_type": "code",
      "metadata": {
        "colab": {
          "base_uri": "https://localhost:8080/"
        },
        "id": "DI1O1zzinbGe",
        "outputId": "17791d36-c275-4c86-eeda-80316f29bef7"
      },
      "source": [
        "model_name = \"nateraw/bert-base-uncased-emotion\"\n",
        "# model_name = \"cardiffnlp/twitter-roberta-base-sentiment\"  ----> yes\n",
        "#model_name = \"cardiffnlp/twitter-roberta-base\"\n",
        "#config = AutoConfig.from_pretrained(model_name)\n",
        "bert_tokenizer = AutoTokenizer.from_pretrained(model_name, do_lower_case=True)\n",
        "bert_model = AutoModel.from_pretrained(model_name)"
      ],
      "execution_count": null,
      "outputs": [
        {
          "output_type": "stream",
          "text": [
            "Some weights of the model checkpoint at nateraw/bert-base-uncased-emotion were not used when initializing BertModel: ['bert.embeddings.position_ids']\n",
            "- This IS expected if you are initializing BertModel from the checkpoint of a model trained on another task or with another architecture (e.g. initializing a BertForSequenceClassification model from a BertForPretraining model).\n",
            "- This IS NOT expected if you are initializing BertModel from the checkpoint of a model that you expect to be exactly identical (initializing a BertForSequenceClassification model from a BertForSequenceClassification model).\n"
          ],
          "name": "stderr"
        }
      ]
    },
    {
      "cell_type": "code",
      "metadata": {
        "id": "LPavKHci7mee"
      },
      "source": [
        ""
      ],
      "execution_count": null,
      "outputs": []
    }
  ]
}